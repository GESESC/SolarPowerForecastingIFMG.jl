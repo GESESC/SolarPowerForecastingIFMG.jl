{
 "cells": [
  {
   "cell_type": "markdown",
   "id": "official-journey",
   "metadata": {},
   "source": [
    "# AMBIENTE DE TESTE"
   ]
  },
  {
   "cell_type": "code",
   "execution_count": 21,
   "id": "toxic-volunteer",
   "metadata": {},
   "outputs": [],
   "source": [
    "using Pkg\n",
    "Pkg.activate(\"/home/reginaldo/Insync/Trabalho/IFMG/IFMG_ARCOS/TCCs/TCCVitinho/PacoteSPF\")\n",
    "#Pkg.add(\"Missings\")\n",
    "#Pkg.develop(path=\"/home/reginaldo/Insync/Trabalho/IFMG/IFMG_ARCOS/TCCs/TCCVitinho/SolarPowerForecastingIFMG.jl\")"
   ]
  },
  {
   "cell_type": "code",
   "execution_count": 22,
   "id": "7230ea9e",
   "metadata": {},
   "outputs": [],
   "source": [
    "Pkg.update()"
   ]
  },
  {
   "cell_type": "code",
   "execution_count": 23,
   "id": "strategic-jonathan",
   "metadata": {},
   "outputs": [],
   "source": [
    "using SolarPowerForecastingIFMG.RaspagemDeDadosINMET, SolarPowerForecastingIFMG.TruncagemDeDados\n",
    "using DataFrames"
   ]
  },
  {
   "cell_type": "code",
   "execution_count": 24,
   "id": "electric-emerald",
   "metadata": {},
   "outputs": [],
   "source": [
    "fonte_dados = statusINMET();\n",
    "dados = obter_dados(fonte_dados, [\"FORMIGA\"], [2021]);"
   ]
  },
  {
   "cell_type": "code",
   "execution_count": 25,
   "id": "figured-browse",
   "metadata": {},
   "outputs": [
    {
     "data": {
      "text/plain": [
       "SerieCidades(Union{Nothing, EstruturaDeCaptura}[EstruturaDeCaptura(\"FORMIGA\", 2021, \u001b[1m8760×20 DataFrame\u001b[0m\n",
       "\u001b[1m  Row \u001b[0m│\u001b[1m Data       \u001b[0m\u001b[1m Hora UTC \u001b[0m\u001b[1m PRECIPITACAO TOTAL, HORARIA (mm) \u001b[0m\u001b[1m PRESSAO ATMOSF\u001b[0m ⋯\n",
       "      │\u001b[90m String15   \u001b[0m\u001b[90m String15 \u001b[0m\u001b[90m Union{Missing, Float64}          \u001b[0m\u001b[90m Union{Missing,\u001b[0m ⋯\n",
       "──────┼─────────────────────────────────────────────────────────────────────────\n",
       "    1 │ 2021/01/01  0000 UTC \u001b[90m                        missing   \u001b[0m                ⋯\n",
       "    2 │ 2021/01/01  0100 UTC \u001b[90m                        missing   \u001b[0m\n",
       "    3 │ 2021/01/01  0200 UTC \u001b[90m                        missing   \u001b[0m\n",
       "    4 │ 2021/01/01  0300 UTC \u001b[90m                        missing   \u001b[0m\n",
       "    5 │ 2021/01/01  0400 UTC \u001b[90m                        missing   \u001b[0m                ⋯\n",
       "    6 │ 2021/01/01  0500 UTC \u001b[90m                        missing   \u001b[0m\n",
       "    7 │ 2021/01/01  0600 UTC \u001b[90m                        missing   \u001b[0m\n",
       "    8 │ 2021/01/01  0700 UTC \u001b[90m                        missing   \u001b[0m\n",
       "  ⋮   │     ⋮          ⋮                     ⋮                                 ⋱\n",
       " 8754 │ 2021/12/31  1700 UTC                               0.4                 ⋯\n",
       " 8755 │ 2021/12/31  1800 UTC                               1.6\n",
       " 8756 │ 2021/12/31  1900 UTC                               1.0\n",
       " 8757 │ 2021/12/31  2000 UTC                               1.8\n",
       " 8758 │ 2021/12/31  2100 UTC                               0.6                 ⋯\n",
       " 8759 │ 2021/12/31  2200 UTC                               0.2\n",
       " 8760 │ 2021/12/31  2300 UTC                               0.0\n",
       "\u001b[36m                                                17 columns and 8745 rows omitted\u001b[0m)])"
      ]
     },
     "metadata": {},
     "output_type": "display_data"
    }
   ],
   "source": [
    "ajs_col_names!(dados);\n",
    "dados"
   ]
  },
  {
   "cell_type": "code",
   "execution_count": 26,
   "id": "statewide-genealogy",
   "metadata": {},
   "outputs": [
    {
     "ename": "UndefVarError",
     "evalue": "UndefVarError: dados not defined",
     "output_type": "error",
     "traceback": [
      "UndefVarError: dados not defined\n",
      "\n",
      "Stacktrace:\n",
      " [1] trunc_data!(dataset::DataFrame, metodo::Symbol; tr::Float64, vd::Float64)\n",
      "   @ SolarPowerForecastingIFMG.TruncagemDeDados ~/Insync/Trabalho/IFMG/IFMG_ARCOS/TCCs/TCCVitinho/SolarPowerForecastingIFMG.jl/src/TruncagemDeDados.jl:88\n",
      " [2] trunc_data! (repeats 2 times)\n",
      "   @ ~/Insync/Trabalho/IFMG/IFMG_ARCOS/TCCs/TCCVitinho/SolarPowerForecastingIFMG.jl/src/TruncagemDeDados.jl:59 [inlined]\n",
      " [3] top-level scope\n",
      "   @ ~/Insync/Trabalho/IFMG/IFMG_ARCOS/TCCs/TCCVitinho/PacoteSPF/AMBIENTEDETESTE.ipynb:1"
     ]
    }
   ],
   "source": [
    "trunc_data!(dados.serie[1].dataset);"
   ]
  },
  {
   "cell_type": "code",
   "execution_count": 27,
   "id": "92d6255a",
   "metadata": {},
   "outputs": [
    {
     "data": {
      "text/html": [
       "<div><div style = \"float: left;\"><span>8760×6 DataFrame</span></div><div style = \"float: right;\"><span style = \"font-style: italic;\">8735 rows omitted</span></div><div style = \"clear: both;\"></div></div><div class = \"data-frame\" style = \"overflow-x: scroll;\"><table class = \"data-frame\" style = \"margin-bottom: 6px;\"><thead><tr class = \"header\"><th class = \"rowNumber\" style = \"font-weight: bold; text-align: right;\">Row</th><th style = \"text-align: left;\">ADSOLPW</th><th style = \"text-align: left;\">HORA</th><th style = \"text-align: left;\">DTMAX_C</th><th style = \"text-align: left;\">DTMIN_C</th><th style = \"text-align: left;\">ADRAIN</th><th style = \"text-align: left;\">DATE</th></tr><tr class = \"subheader headerLastRow\"><th class = \"rowNumber\" style = \"font-weight: bold; text-align: right;\"></th><th title = \"Union{Missing, Float64}\" style = \"text-align: left;\">Float64?</th><th title = \"InlineStrings.String15\" style = \"text-align: left;\">String15</th><th title = \"Union{Missing, Float64}\" style = \"text-align: left;\">Float64?</th><th title = \"Union{Missing, Float64}\" style = \"text-align: left;\">Float64?</th><th title = \"Union{Missing, Float64}\" style = \"text-align: left;\">Float64?</th><th title = \"InlineStrings.String15\" style = \"text-align: left;\">String15</th></tr></thead><tbody><tr><td class = \"rowNumber\" style = \"font-weight: bold; text-align: right;\">1</td><td style = \"font-style: italic; text-align: right;\">missing</td><td style = \"text-align: left;\">0000 UTC</td><td style = \"text-align: right;\">25.4</td><td style = \"text-align: right;\">23.4</td><td style = \"font-style: italic; text-align: right;\">missing</td><td style = \"text-align: left;\">2021/01/01</td></tr><tr><td class = \"rowNumber\" style = \"font-weight: bold; text-align: right;\">2</td><td style = \"font-style: italic; text-align: right;\">missing</td><td style = \"text-align: left;\">0100 UTC</td><td style = \"text-align: right;\">23.7</td><td style = \"text-align: right;\">22.2</td><td style = \"font-style: italic; text-align: right;\">missing</td><td style = \"text-align: left;\">2021/01/01</td></tr><tr><td class = \"rowNumber\" style = \"font-weight: bold; text-align: right;\">3</td><td style = \"font-style: italic; text-align: right;\">missing</td><td style = \"text-align: left;\">0200 UTC</td><td style = \"text-align: right;\">23.0</td><td style = \"text-align: right;\">21.7</td><td style = \"font-style: italic; text-align: right;\">missing</td><td style = \"text-align: left;\">2021/01/01</td></tr><tr><td class = \"rowNumber\" style = \"font-weight: bold; text-align: right;\">4</td><td style = \"font-style: italic; text-align: right;\">missing</td><td style = \"text-align: left;\">0300 UTC</td><td style = \"text-align: right;\">22.7</td><td style = \"text-align: right;\">20.9</td><td style = \"font-style: italic; text-align: right;\">missing</td><td style = \"text-align: left;\">2021/01/01</td></tr><tr><td class = \"rowNumber\" style = \"font-weight: bold; text-align: right;\">5</td><td style = \"font-style: italic; text-align: right;\">missing</td><td style = \"text-align: left;\">0400 UTC</td><td style = \"text-align: right;\">21.4</td><td style = \"text-align: right;\">20.4</td><td style = \"font-style: italic; text-align: right;\">missing</td><td style = \"text-align: left;\">2021/01/01</td></tr><tr><td class = \"rowNumber\" style = \"font-weight: bold; text-align: right;\">6</td><td style = \"font-style: italic; text-align: right;\">missing</td><td style = \"text-align: left;\">0500 UTC</td><td style = \"text-align: right;\">20.7</td><td style = \"text-align: right;\">20.0</td><td style = \"font-style: italic; text-align: right;\">missing</td><td style = \"text-align: left;\">2021/01/01</td></tr><tr><td class = \"rowNumber\" style = \"font-weight: bold; text-align: right;\">7</td><td style = \"font-style: italic; text-align: right;\">missing</td><td style = \"text-align: left;\">0600 UTC</td><td style = \"text-align: right;\">20.2</td><td style = \"text-align: right;\">19.6</td><td style = \"font-style: italic; text-align: right;\">missing</td><td style = \"text-align: left;\">2021/01/01</td></tr><tr><td class = \"rowNumber\" style = \"font-weight: bold; text-align: right;\">8</td><td style = \"font-style: italic; text-align: right;\">missing</td><td style = \"text-align: left;\">0700 UTC</td><td style = \"text-align: right;\">19.8</td><td style = \"text-align: right;\">19.3</td><td style = \"font-style: italic; text-align: right;\">missing</td><td style = \"text-align: left;\">2021/01/01</td></tr><tr><td class = \"rowNumber\" style = \"font-weight: bold; text-align: right;\">9</td><td style = \"font-style: italic; text-align: right;\">missing</td><td style = \"text-align: left;\">0800 UTC</td><td style = \"text-align: right;\">20.2</td><td style = \"text-align: right;\">18.8</td><td style = \"font-style: italic; text-align: right;\">missing</td><td style = \"text-align: left;\">2021/01/01</td></tr><tr><td class = \"rowNumber\" style = \"font-weight: bold; text-align: right;\">10</td><td style = \"text-align: right;\">144.3</td><td style = \"text-align: left;\">0900 UTC</td><td style = \"text-align: right;\">20.7</td><td style = \"text-align: right;\">19.0</td><td style = \"font-style: italic; text-align: right;\">missing</td><td style = \"text-align: left;\">2021/01/01</td></tr><tr><td class = \"rowNumber\" style = \"font-weight: bold; text-align: right;\">11</td><td style = \"text-align: right;\">731.1</td><td style = \"text-align: left;\">1000 UTC</td><td style = \"text-align: right;\">23.6</td><td style = \"text-align: right;\">20.6</td><td style = \"font-style: italic; text-align: right;\">missing</td><td style = \"text-align: left;\">2021/01/01</td></tr><tr><td class = \"rowNumber\" style = \"font-weight: bold; text-align: right;\">12</td><td style = \"text-align: right;\">1604.6</td><td style = \"text-align: left;\">1100 UTC</td><td style = \"text-align: right;\">26.0</td><td style = \"text-align: right;\">23.5</td><td style = \"font-style: italic; text-align: right;\">missing</td><td style = \"text-align: left;\">2021/01/01</td></tr><tr><td class = \"rowNumber\" style = \"font-weight: bold; text-align: right;\">13</td><td style = \"text-align: right;\">2370.9</td><td style = \"text-align: left;\">1200 UTC</td><td style = \"text-align: right;\">26.8</td><td style = \"text-align: right;\">25.4</td><td style = \"font-style: italic; text-align: right;\">missing</td><td style = \"text-align: left;\">2021/01/01</td></tr><tr><td style = \"text-align: right;\">&vellip;</td><td style = \"text-align: right;\">&vellip;</td><td style = \"text-align: right;\">&vellip;</td><td style = \"text-align: right;\">&vellip;</td><td style = \"text-align: right;\">&vellip;</td><td style = \"text-align: right;\">&vellip;</td><td style = \"text-align: right;\">&vellip;</td></tr><tr><td class = \"rowNumber\" style = \"font-weight: bold; text-align: right;\">8749</td><td style = \"text-align: right;\">743.2</td><td style = \"text-align: left;\">1200 UTC</td><td style = \"text-align: right;\">19.5</td><td style = \"text-align: right;\">19.2</td><td style = \"font-style: italic; text-align: right;\">0.6</td><td style = \"text-align: left;\">2021/12/31</td></tr><tr><td class = \"rowNumber\" style = \"font-weight: bold; text-align: right;\">8750</td><td style = \"text-align: right;\">726.0</td><td style = \"text-align: left;\">1300 UTC</td><td style = \"text-align: right;\">19.5</td><td style = \"text-align: right;\">19.0</td><td style = \"font-style: italic; text-align: right;\">1.0</td><td style = \"text-align: left;\">2021/12/31</td></tr><tr><td class = \"rowNumber\" style = \"font-weight: bold; text-align: right;\">8751</td><td style = \"text-align: right;\">573.4</td><td style = \"text-align: left;\">1400 UTC</td><td style = \"text-align: right;\">19.2</td><td style = \"text-align: right;\">18.7</td><td style = \"font-style: italic; text-align: right;\">2.2</td><td style = \"text-align: left;\">2021/12/31</td></tr><tr><td class = \"rowNumber\" style = \"font-weight: bold; text-align: right;\">8752</td><td style = \"text-align: right;\">605.3</td><td style = \"text-align: left;\">1500 UTC</td><td style = \"text-align: right;\">19.3</td><td style = \"text-align: right;\">18.7</td><td style = \"font-style: italic; text-align: right;\">3.2</td><td style = \"text-align: left;\">2021/12/31</td></tr><tr><td class = \"rowNumber\" style = \"font-weight: bold; text-align: right;\">8753</td><td style = \"text-align: right;\">813.3</td><td style = \"text-align: left;\">1600 UTC</td><td style = \"text-align: right;\">19.7</td><td style = \"text-align: right;\">19.3</td><td style = \"font-style: italic; text-align: right;\">0.6</td><td style = \"text-align: left;\">2021/12/31</td></tr><tr><td class = \"rowNumber\" style = \"font-weight: bold; text-align: right;\">8754</td><td style = \"text-align: right;\">953.4</td><td style = \"text-align: left;\">1700 UTC</td><td style = \"text-align: right;\">20.8</td><td style = \"text-align: right;\">19.5</td><td style = \"font-style: italic; text-align: right;\">0.4</td><td style = \"text-align: left;\">2021/12/31</td></tr><tr><td class = \"rowNumber\" style = \"font-weight: bold; text-align: right;\">8755</td><td style = \"text-align: right;\">339.5</td><td style = \"text-align: left;\">1800 UTC</td><td style = \"text-align: right;\">20.5</td><td style = \"text-align: right;\">19.8</td><td style = \"font-style: italic; text-align: right;\">1.6</td><td style = \"text-align: left;\">2021/12/31</td></tr><tr><td class = \"rowNumber\" style = \"font-weight: bold; text-align: right;\">8756</td><td style = \"text-align: right;\">415.8</td><td style = \"text-align: left;\">1900 UTC</td><td style = \"text-align: right;\">20.4</td><td style = \"text-align: right;\">19.8</td><td style = \"font-style: italic; text-align: right;\">1.0</td><td style = \"text-align: left;\">2021/12/31</td></tr><tr><td class = \"rowNumber\" style = \"font-weight: bold; text-align: right;\">8757</td><td style = \"text-align: right;\">156.7</td><td style = \"text-align: left;\">2000 UTC</td><td style = \"text-align: right;\">20.5</td><td style = \"text-align: right;\">19.5</td><td style = \"font-style: italic; text-align: right;\">1.8</td><td style = \"text-align: left;\">2021/12/31</td></tr><tr><td class = \"rowNumber\" style = \"font-weight: bold; text-align: right;\">8758</td><td style = \"text-align: right;\">55.2</td><td style = \"text-align: left;\">2100 UTC</td><td style = \"text-align: right;\">20.1</td><td style = \"text-align: right;\">19.5</td><td style = \"font-style: italic; text-align: right;\">0.6</td><td style = \"text-align: left;\">2021/12/31</td></tr><tr><td class = \"rowNumber\" style = \"font-weight: bold; text-align: right;\">8759</td><td style = \"font-style: italic; text-align: right;\">3.8</td><td style = \"text-align: left;\">2200 UTC</td><td style = \"text-align: right;\">20.2</td><td style = \"text-align: right;\">19.8</td><td style = \"font-style: italic; text-align: right;\">0.2</td><td style = \"text-align: left;\">2021/12/31</td></tr><tr><td class = \"rowNumber\" style = \"font-weight: bold; text-align: right;\">8760</td><td style = \"font-style: italic; text-align: right;\">missing</td><td style = \"text-align: left;\">2300 UTC</td><td style = \"text-align: right;\">20.1</td><td style = \"text-align: right;\">19.7</td><td style = \"font-style: italic; text-align: right;\">0.0</td><td style = \"text-align: left;\">2021/12/31</td></tr></tbody></table></div>"
      ],
      "text/latex": [
       "\\begin{tabular}{r|cccccc}\n",
       "\t& ADSOLPW & HORA & DTMAX\\_C & DTMIN\\_C & ADRAIN & DATE\\\\\n",
       "\t\\hline\n",
       "\t& Float64? & String15 & Float64? & Float64? & Float64? & String15\\\\\n",
       "\t\\hline\n",
       "\t1 & \\emph{missing} & 0000 UTC & 25.4 & 23.4 & \\emph{missing} & 2021/01/01 \\\\\n",
       "\t2 & \\emph{missing} & 0100 UTC & 23.7 & 22.2 & \\emph{missing} & 2021/01/01 \\\\\n",
       "\t3 & \\emph{missing} & 0200 UTC & 23.0 & 21.7 & \\emph{missing} & 2021/01/01 \\\\\n",
       "\t4 & \\emph{missing} & 0300 UTC & 22.7 & 20.9 & \\emph{missing} & 2021/01/01 \\\\\n",
       "\t5 & \\emph{missing} & 0400 UTC & 21.4 & 20.4 & \\emph{missing} & 2021/01/01 \\\\\n",
       "\t6 & \\emph{missing} & 0500 UTC & 20.7 & 20.0 & \\emph{missing} & 2021/01/01 \\\\\n",
       "\t7 & \\emph{missing} & 0600 UTC & 20.2 & 19.6 & \\emph{missing} & 2021/01/01 \\\\\n",
       "\t8 & \\emph{missing} & 0700 UTC & 19.8 & 19.3 & \\emph{missing} & 2021/01/01 \\\\\n",
       "\t9 & \\emph{missing} & 0800 UTC & 20.2 & 18.8 & \\emph{missing} & 2021/01/01 \\\\\n",
       "\t10 & 144.3 & 0900 UTC & 20.7 & 19.0 & \\emph{missing} & 2021/01/01 \\\\\n",
       "\t11 & 731.1 & 1000 UTC & 23.6 & 20.6 & \\emph{missing} & 2021/01/01 \\\\\n",
       "\t12 & 1604.6 & 1100 UTC & 26.0 & 23.5 & \\emph{missing} & 2021/01/01 \\\\\n",
       "\t13 & 2370.9 & 1200 UTC & 26.8 & 25.4 & \\emph{missing} & 2021/01/01 \\\\\n",
       "\t14 & 2893.9 & 1300 UTC & 27.9 & 26.5 & \\emph{missing} & 2021/01/01 \\\\\n",
       "\t15 & 3478.9 & 1400 UTC & 28.8 & 26.9 & \\emph{missing} & 2021/01/01 \\\\\n",
       "\t16 & 3946.4 & 1500 UTC & 29.7 & 28.3 & \\emph{missing} & 2021/01/01 \\\\\n",
       "\t17 & 3749.6 & 1600 UTC & 30.5 & 28.4 & \\emph{missing} & 2021/01/01 \\\\\n",
       "\t18 & 2981.4 & 1700 UTC & 30.7 & 28.6 & \\emph{missing} & 2021/01/01 \\\\\n",
       "\t19 & 953.2 & 1800 UTC & 28.6 & 28.0 & \\emph{missing} & 2021/01/01 \\\\\n",
       "\t20 & 416.1 & 1900 UTC & 28.1 & 23.1 & \\emph{missing} & 2021/01/01 \\\\\n",
       "\t21 & 114.3 & 2000 UTC & 23.1 & 20.4 & \\emph{missing} & 2021/01/01 \\\\\n",
       "\t22 & 103.4 & 2100 UTC & 20.5 & 20.0 & \\emph{missing} & 2021/01/01 \\\\\n",
       "\t23 & 15.1 & 2200 UTC & 20.5 & 19.9 & \\emph{missing} & 2021/01/01 \\\\\n",
       "\t24 & \\emph{missing} & 2300 UTC & 20.7 & 19.9 & \\emph{missing} & 2021/01/01 \\\\\n",
       "\t$\\dots$ & $\\dots$ & $\\dots$ & $\\dots$ & $\\dots$ & $\\dots$ & $\\dots$ \\\\\n",
       "\\end{tabular}\n"
      ],
      "text/plain": [
       "\u001b[1m8760×6 DataFrame\u001b[0m\n",
       "\u001b[1m  Row \u001b[0m│\u001b[1m ADSOLPW   \u001b[0m\u001b[1m HORA     \u001b[0m\u001b[1m DTMAX_C  \u001b[0m\u001b[1m DTMIN_C  \u001b[0m\u001b[1m ADRAIN    \u001b[0m\u001b[1m DATE       \u001b[0m\n",
       "      │\u001b[90m Float64?  \u001b[0m\u001b[90m String15 \u001b[0m\u001b[90m Float64? \u001b[0m\u001b[90m Float64? \u001b[0m\u001b[90m Float64?  \u001b[0m\u001b[90m String15   \u001b[0m\n",
       "──────┼────────────────────────────────────────────────────────────────\n",
       "    1 │\u001b[90m missing   \u001b[0m 0000 UTC      25.4      23.4 \u001b[90m missing   \u001b[0m 2021/01/01\n",
       "    2 │\u001b[90m missing   \u001b[0m 0100 UTC      23.7      22.2 \u001b[90m missing   \u001b[0m 2021/01/01\n",
       "    3 │\u001b[90m missing   \u001b[0m 0200 UTC      23.0      21.7 \u001b[90m missing   \u001b[0m 2021/01/01\n",
       "    4 │\u001b[90m missing   \u001b[0m 0300 UTC      22.7      20.9 \u001b[90m missing   \u001b[0m 2021/01/01\n",
       "    5 │\u001b[90m missing   \u001b[0m 0400 UTC      21.4      20.4 \u001b[90m missing   \u001b[0m 2021/01/01\n",
       "    6 │\u001b[90m missing   \u001b[0m 0500 UTC      20.7      20.0 \u001b[90m missing   \u001b[0m 2021/01/01\n",
       "    7 │\u001b[90m missing   \u001b[0m 0600 UTC      20.2      19.6 \u001b[90m missing   \u001b[0m 2021/01/01\n",
       "    8 │\u001b[90m missing   \u001b[0m 0700 UTC      19.8      19.3 \u001b[90m missing   \u001b[0m 2021/01/01\n",
       "  ⋮   │     ⋮         ⋮         ⋮         ⋮          ⋮          ⋮\n",
       " 8754 │     953.4  1700 UTC      20.8      19.5        0.4  2021/12/31\n",
       " 8755 │     339.5  1800 UTC      20.5      19.8        1.6  2021/12/31\n",
       " 8756 │     415.8  1900 UTC      20.4      19.8        1.0  2021/12/31\n",
       " 8757 │     156.7  2000 UTC      20.5      19.5        1.8  2021/12/31\n",
       " 8758 │      55.2  2100 UTC      20.1      19.5        0.6  2021/12/31\n",
       " 8759 │       3.8  2200 UTC      20.2      19.8        0.2  2021/12/31\n",
       " 8760 │\u001b[90m missing   \u001b[0m 2300 UTC      20.1      19.7        0.0  2021/12/31\n",
       "\u001b[36m                                                      8745 rows omitted\u001b[0m"
      ]
     },
     "metadata": {},
     "output_type": "display_data"
    }
   ],
   "source": [
    "dados.serie[1].dataset "
   ]
  },
  {
   "cell_type": "code",
   "execution_count": 28,
   "id": "amazing-meaning",
   "metadata": {},
   "outputs": [
    {
     "data": {
      "text/html": [
       "<div><div style = \"float: left;\"><span>4245×1 DataFrame</span></div><div style = \"float: right;\"><span style = \"font-style: italic;\">4220 rows omitted</span></div><div style = \"clear: both;\"></div></div><div class = \"data-frame\" style = \"overflow-x: scroll;\"><table class = \"data-frame\" style = \"margin-bottom: 6px;\"><thead><tr class = \"header\"><th class = \"rowNumber\" style = \"font-weight: bold; text-align: right;\">Row</th><th style = \"text-align: left;\">ADSOLPW</th></tr><tr class = \"subheader headerLastRow\"><th class = \"rowNumber\" style = \"font-weight: bold; text-align: right;\"></th><th title = \"Union{Missing, Float64}\" style = \"text-align: left;\">Float64?</th></tr></thead><tbody><tr><td class = \"rowNumber\" style = \"font-weight: bold; text-align: right;\">1</td><td style = \"font-style: italic; text-align: right;\">missing</td></tr><tr><td class = \"rowNumber\" style = \"font-weight: bold; text-align: right;\">2</td><td style = \"text-align: right;\">144.3</td></tr><tr><td class = \"rowNumber\" style = \"font-weight: bold; text-align: right;\">3</td><td style = \"text-align: right;\">731.1</td></tr><tr><td class = \"rowNumber\" style = \"font-weight: bold; text-align: right;\">4</td><td style = \"text-align: right;\">1604.6</td></tr><tr><td class = \"rowNumber\" style = \"font-weight: bold; text-align: right;\">5</td><td style = \"text-align: right;\">2370.9</td></tr><tr><td class = \"rowNumber\" style = \"font-weight: bold; text-align: right;\">6</td><td style = \"text-align: right;\">2893.9</td></tr><tr><td class = \"rowNumber\" style = \"font-weight: bold; text-align: right;\">7</td><td style = \"text-align: right;\">3478.9</td></tr><tr><td class = \"rowNumber\" style = \"font-weight: bold; text-align: right;\">8</td><td style = \"text-align: right;\">3946.4</td></tr><tr><td class = \"rowNumber\" style = \"font-weight: bold; text-align: right;\">9</td><td style = \"text-align: right;\">3749.6</td></tr><tr><td class = \"rowNumber\" style = \"font-weight: bold; text-align: right;\">10</td><td style = \"text-align: right;\">2981.4</td></tr><tr><td class = \"rowNumber\" style = \"font-weight: bold; text-align: right;\">11</td><td style = \"text-align: right;\">953.2</td></tr><tr><td class = \"rowNumber\" style = \"font-weight: bold; text-align: right;\">12</td><td style = \"text-align: right;\">416.1</td></tr><tr><td class = \"rowNumber\" style = \"font-weight: bold; text-align: right;\">13</td><td style = \"text-align: right;\">114.3</td></tr><tr><td style = \"text-align: right;\">&vellip;</td><td style = \"text-align: right;\">&vellip;</td></tr><tr><td class = \"rowNumber\" style = \"font-weight: bold; text-align: right;\">4234</td><td style = \"text-align: right;\">41.1</td></tr><tr><td class = \"rowNumber\" style = \"font-weight: bold; text-align: right;\">4235</td><td style = \"text-align: right;\">459.6</td></tr><tr><td class = \"rowNumber\" style = \"font-weight: bold; text-align: right;\">4236</td><td style = \"text-align: right;\">743.2</td></tr><tr><td class = \"rowNumber\" style = \"font-weight: bold; text-align: right;\">4237</td><td style = \"text-align: right;\">726.0</td></tr><tr><td class = \"rowNumber\" style = \"font-weight: bold; text-align: right;\">4238</td><td style = \"text-align: right;\">573.4</td></tr><tr><td class = \"rowNumber\" style = \"font-weight: bold; text-align: right;\">4239</td><td style = \"text-align: right;\">605.3</td></tr><tr><td class = \"rowNumber\" style = \"font-weight: bold; text-align: right;\">4240</td><td style = \"text-align: right;\">813.3</td></tr><tr><td class = \"rowNumber\" style = \"font-weight: bold; text-align: right;\">4241</td><td style = \"text-align: right;\">953.4</td></tr><tr><td class = \"rowNumber\" style = \"font-weight: bold; text-align: right;\">4242</td><td style = \"text-align: right;\">339.5</td></tr><tr><td class = \"rowNumber\" style = \"font-weight: bold; text-align: right;\">4243</td><td style = \"text-align: right;\">415.8</td></tr><tr><td class = \"rowNumber\" style = \"font-weight: bold; text-align: right;\">4244</td><td style = \"text-align: right;\">156.7</td></tr><tr><td class = \"rowNumber\" style = \"font-weight: bold; text-align: right;\">4245</td><td style = \"text-align: right;\">55.2</td></tr></tbody></table></div>"
      ],
      "text/latex": [
       "\\begin{tabular}{r|c}\n",
       "\t& ADSOLPW\\\\\n",
       "\t\\hline\n",
       "\t& Float64?\\\\\n",
       "\t\\hline\n",
       "\t1 & \\emph{missing} \\\\\n",
       "\t2 & 144.3 \\\\\n",
       "\t3 & 731.1 \\\\\n",
       "\t4 & 1604.6 \\\\\n",
       "\t5 & 2370.9 \\\\\n",
       "\t6 & 2893.9 \\\\\n",
       "\t7 & 3478.9 \\\\\n",
       "\t8 & 3946.4 \\\\\n",
       "\t9 & 3749.6 \\\\\n",
       "\t10 & 2981.4 \\\\\n",
       "\t11 & 953.2 \\\\\n",
       "\t12 & 416.1 \\\\\n",
       "\t13 & 114.3 \\\\\n",
       "\t14 & 103.4 \\\\\n",
       "\t15 & 15.1 \\\\\n",
       "\t16 & 53.1 \\\\\n",
       "\t17 & 429.4 \\\\\n",
       "\t18 & 930.2 \\\\\n",
       "\t19 & 1545.0 \\\\\n",
       "\t20 & 2284.7 \\\\\n",
       "\t21 & 2935.2 \\\\\n",
       "\t22 & 3079.5 \\\\\n",
       "\t23 & 2242.1 \\\\\n",
       "\t24 & 2677.0 \\\\\n",
       "\t$\\dots$ & $\\dots$ \\\\\n",
       "\\end{tabular}\n"
      ],
      "text/plain": [
       "\u001b[1m4245×1 DataFrame\u001b[0m\n",
       "\u001b[1m  Row \u001b[0m│\u001b[1m ADSOLPW   \u001b[0m\n",
       "      │\u001b[90m Float64?  \u001b[0m\n",
       "──────┼───────────\n",
       "    1 │\u001b[90m missing   \u001b[0m\n",
       "    2 │     144.3\n",
       "    3 │     731.1\n",
       "    4 │    1604.6\n",
       "    5 │    2370.9\n",
       "    6 │    2893.9\n",
       "    7 │    3478.9\n",
       "    8 │    3946.4\n",
       "  ⋮   │     ⋮\n",
       " 4239 │     605.3\n",
       " 4240 │     813.3\n",
       " 4241 │     953.4\n",
       " 4242 │     339.5\n",
       " 4243 │     415.8\n",
       " 4244 │     156.7\n",
       " 4245 │      55.2\n",
       "\u001b[36m 4230 rows omitted\u001b[0m"
      ]
     },
     "metadata": {},
     "output_type": "display_data"
    }
   ],
   "source": [
    "unique(select(dados.serie[1].dataset, :ADSOLPW))"
   ]
  },
  {
   "cell_type": "code",
   "execution_count": 29,
   "id": "productive-myanmar",
   "metadata": {},
   "outputs": [
    {
     "data": {
      "text/html": [
       "<div><div style = \"float: left;\"><span>50×6 DataFrame</span></div><div style = \"float: right;\"><span style = \"font-style: italic;\">25 rows omitted</span></div><div style = \"clear: both;\"></div></div><div class = \"data-frame\" style = \"overflow-x: scroll;\"><table class = \"data-frame\" style = \"margin-bottom: 6px;\"><thead><tr class = \"header\"><th class = \"rowNumber\" style = \"font-weight: bold; text-align: right;\">Row</th><th style = \"text-align: left;\">ADSOLPW</th><th style = \"text-align: left;\">HORA</th><th style = \"text-align: left;\">DTMAX_C</th><th style = \"text-align: left;\">DTMIN_C</th><th style = \"text-align: left;\">ADRAIN</th><th style = \"text-align: left;\">DATE</th></tr><tr class = \"subheader headerLastRow\"><th class = \"rowNumber\" style = \"font-weight: bold; text-align: right;\"></th><th title = \"Union{Missing, Float64}\" style = \"text-align: left;\">Float64?</th><th title = \"InlineStrings.String15\" style = \"text-align: left;\">String15</th><th title = \"Union{Missing, Float64}\" style = \"text-align: left;\">Float64?</th><th title = \"Union{Missing, Float64}\" style = \"text-align: left;\">Float64?</th><th title = \"Union{Missing, Float64}\" style = \"text-align: left;\">Float64?</th><th title = \"InlineStrings.String15\" style = \"text-align: left;\">String15</th></tr></thead><tbody><tr><td class = \"rowNumber\" style = \"font-weight: bold; text-align: right;\">1</td><td style = \"font-style: italic; text-align: right;\">missing</td><td style = \"text-align: left;\">0000 UTC</td><td style = \"text-align: right;\">25.4</td><td style = \"text-align: right;\">23.4</td><td style = \"font-style: italic; text-align: right;\">missing</td><td style = \"text-align: left;\">2021/01/01</td></tr><tr><td class = \"rowNumber\" style = \"font-weight: bold; text-align: right;\">2</td><td style = \"font-style: italic; text-align: right;\">missing</td><td style = \"text-align: left;\">0100 UTC</td><td style = \"text-align: right;\">23.7</td><td style = \"text-align: right;\">22.2</td><td style = \"font-style: italic; text-align: right;\">missing</td><td style = \"text-align: left;\">2021/01/01</td></tr><tr><td class = \"rowNumber\" style = \"font-weight: bold; text-align: right;\">3</td><td style = \"font-style: italic; text-align: right;\">missing</td><td style = \"text-align: left;\">0200 UTC</td><td style = \"text-align: right;\">23.0</td><td style = \"text-align: right;\">21.7</td><td style = \"font-style: italic; text-align: right;\">missing</td><td style = \"text-align: left;\">2021/01/01</td></tr><tr><td class = \"rowNumber\" style = \"font-weight: bold; text-align: right;\">4</td><td style = \"font-style: italic; text-align: right;\">missing</td><td style = \"text-align: left;\">0300 UTC</td><td style = \"text-align: right;\">22.7</td><td style = \"text-align: right;\">20.9</td><td style = \"font-style: italic; text-align: right;\">missing</td><td style = \"text-align: left;\">2021/01/01</td></tr><tr><td class = \"rowNumber\" style = \"font-weight: bold; text-align: right;\">5</td><td style = \"font-style: italic; text-align: right;\">missing</td><td style = \"text-align: left;\">0400 UTC</td><td style = \"text-align: right;\">21.4</td><td style = \"text-align: right;\">20.4</td><td style = \"font-style: italic; text-align: right;\">missing</td><td style = \"text-align: left;\">2021/01/01</td></tr><tr><td class = \"rowNumber\" style = \"font-weight: bold; text-align: right;\">6</td><td style = \"font-style: italic; text-align: right;\">missing</td><td style = \"text-align: left;\">0500 UTC</td><td style = \"text-align: right;\">20.7</td><td style = \"text-align: right;\">20.0</td><td style = \"font-style: italic; text-align: right;\">missing</td><td style = \"text-align: left;\">2021/01/01</td></tr><tr><td class = \"rowNumber\" style = \"font-weight: bold; text-align: right;\">7</td><td style = \"font-style: italic; text-align: right;\">missing</td><td style = \"text-align: left;\">0600 UTC</td><td style = \"text-align: right;\">20.2</td><td style = \"text-align: right;\">19.6</td><td style = \"font-style: italic; text-align: right;\">missing</td><td style = \"text-align: left;\">2021/01/01</td></tr><tr><td class = \"rowNumber\" style = \"font-weight: bold; text-align: right;\">8</td><td style = \"font-style: italic; text-align: right;\">missing</td><td style = \"text-align: left;\">0700 UTC</td><td style = \"text-align: right;\">19.8</td><td style = \"text-align: right;\">19.3</td><td style = \"font-style: italic; text-align: right;\">missing</td><td style = \"text-align: left;\">2021/01/01</td></tr><tr><td class = \"rowNumber\" style = \"font-weight: bold; text-align: right;\">9</td><td style = \"font-style: italic; text-align: right;\">missing</td><td style = \"text-align: left;\">0800 UTC</td><td style = \"text-align: right;\">20.2</td><td style = \"text-align: right;\">18.8</td><td style = \"font-style: italic; text-align: right;\">missing</td><td style = \"text-align: left;\">2021/01/01</td></tr><tr><td class = \"rowNumber\" style = \"font-weight: bold; text-align: right;\">10</td><td style = \"text-align: right;\">144.3</td><td style = \"text-align: left;\">0900 UTC</td><td style = \"text-align: right;\">20.7</td><td style = \"text-align: right;\">19.0</td><td style = \"font-style: italic; text-align: right;\">missing</td><td style = \"text-align: left;\">2021/01/01</td></tr><tr><td class = \"rowNumber\" style = \"font-weight: bold; text-align: right;\">11</td><td style = \"text-align: right;\">731.1</td><td style = \"text-align: left;\">1000 UTC</td><td style = \"text-align: right;\">23.6</td><td style = \"text-align: right;\">20.6</td><td style = \"font-style: italic; text-align: right;\">missing</td><td style = \"text-align: left;\">2021/01/01</td></tr><tr><td class = \"rowNumber\" style = \"font-weight: bold; text-align: right;\">12</td><td style = \"text-align: right;\">1604.6</td><td style = \"text-align: left;\">1100 UTC</td><td style = \"text-align: right;\">26.0</td><td style = \"text-align: right;\">23.5</td><td style = \"font-style: italic; text-align: right;\">missing</td><td style = \"text-align: left;\">2021/01/01</td></tr><tr><td class = \"rowNumber\" style = \"font-weight: bold; text-align: right;\">13</td><td style = \"text-align: right;\">2370.9</td><td style = \"text-align: left;\">1200 UTC</td><td style = \"text-align: right;\">26.8</td><td style = \"text-align: right;\">25.4</td><td style = \"font-style: italic; text-align: right;\">missing</td><td style = \"text-align: left;\">2021/01/01</td></tr><tr><td style = \"text-align: right;\">&vellip;</td><td style = \"text-align: right;\">&vellip;</td><td style = \"text-align: right;\">&vellip;</td><td style = \"text-align: right;\">&vellip;</td><td style = \"text-align: right;\">&vellip;</td><td style = \"text-align: right;\">&vellip;</td><td style = \"text-align: right;\">&vellip;</td></tr><tr><td class = \"rowNumber\" style = \"font-weight: bold; text-align: right;\">39</td><td style = \"text-align: right;\">2935.2</td><td style = \"text-align: left;\">1400 UTC</td><td style = \"text-align: right;\">27.0</td><td style = \"text-align: right;\">24.5</td><td style = \"font-style: italic; text-align: right;\">missing</td><td style = \"text-align: left;\">2021/01/02</td></tr><tr><td class = \"rowNumber\" style = \"font-weight: bold; text-align: right;\">40</td><td style = \"text-align: right;\">3079.5</td><td style = \"text-align: left;\">1500 UTC</td><td style = \"text-align: right;\">27.6</td><td style = \"text-align: right;\">26.1</td><td style = \"font-style: italic; text-align: right;\">missing</td><td style = \"text-align: left;\">2021/01/02</td></tr><tr><td class = \"rowNumber\" style = \"font-weight: bold; text-align: right;\">41</td><td style = \"text-align: right;\">2242.1</td><td style = \"text-align: left;\">1600 UTC</td><td style = \"text-align: right;\">27.9</td><td style = \"text-align: right;\">25.7</td><td style = \"font-style: italic; text-align: right;\">missing</td><td style = \"text-align: left;\">2021/01/02</td></tr><tr><td class = \"rowNumber\" style = \"font-weight: bold; text-align: right;\">42</td><td style = \"text-align: right;\">2677.0</td><td style = \"text-align: left;\">1700 UTC</td><td style = \"text-align: right;\">28.4</td><td style = \"text-align: right;\">27.0</td><td style = \"font-style: italic; text-align: right;\">missing</td><td style = \"text-align: left;\">2021/01/02</td></tr><tr><td class = \"rowNumber\" style = \"font-weight: bold; text-align: right;\">43</td><td style = \"text-align: right;\">2802.1</td><td style = \"text-align: left;\">1800 UTC</td><td style = \"text-align: right;\">29.3</td><td style = \"text-align: right;\">27.1</td><td style = \"font-style: italic; text-align: right;\">missing</td><td style = \"text-align: left;\">2021/01/02</td></tr><tr><td class = \"rowNumber\" style = \"font-weight: bold; text-align: right;\">44</td><td style = \"text-align: right;\">1404.3</td><td style = \"text-align: left;\">1900 UTC</td><td style = \"text-align: right;\">29.1</td><td style = \"text-align: right;\">27.1</td><td style = \"font-style: italic; text-align: right;\">missing</td><td style = \"text-align: left;\">2021/01/02</td></tr><tr><td class = \"rowNumber\" style = \"font-weight: bold; text-align: right;\">45</td><td style = \"text-align: right;\">283.8</td><td style = \"text-align: left;\">2000 UTC</td><td style = \"text-align: right;\">27.1</td><td style = \"text-align: right;\">23.8</td><td style = \"font-style: italic; text-align: right;\">missing</td><td style = \"text-align: left;\">2021/01/02</td></tr><tr><td class = \"rowNumber\" style = \"font-weight: bold; text-align: right;\">46</td><td style = \"text-align: right;\">165.3</td><td style = \"text-align: left;\">2100 UTC</td><td style = \"text-align: right;\">23.8</td><td style = \"text-align: right;\">23.2</td><td style = \"font-style: italic; text-align: right;\">missing</td><td style = \"text-align: left;\">2021/01/02</td></tr><tr><td class = \"rowNumber\" style = \"font-weight: bold; text-align: right;\">47</td><td style = \"text-align: right;\">11.7</td><td style = \"text-align: left;\">2200 UTC</td><td style = \"text-align: right;\">23.5</td><td style = \"text-align: right;\">22.8</td><td style = \"font-style: italic; text-align: right;\">missing</td><td style = \"text-align: left;\">2021/01/02</td></tr><tr><td class = \"rowNumber\" style = \"font-weight: bold; text-align: right;\">48</td><td style = \"text-align: right;\">missing</td><td style = \"text-align: left;\">2300 UTC</td><td style = \"text-align: right;\">23.2</td><td style = \"text-align: right;\">22.6</td><td style = \"font-style: italic; text-align: right;\">missing</td><td style = \"text-align: left;\">2021/01/02</td></tr><tr><td class = \"rowNumber\" style = \"font-weight: bold; text-align: right;\">49</td><td style = \"font-style: italic; text-align: right;\">missing</td><td style = \"text-align: left;\">0000 UTC</td><td style = \"text-align: right;\">23.2</td><td style = \"text-align: right;\">21.3</td><td style = \"font-style: italic; text-align: right;\">missing</td><td style = \"text-align: left;\">2021/01/03</td></tr><tr><td class = \"rowNumber\" style = \"font-weight: bold; text-align: right;\">50</td><td style = \"font-style: italic; text-align: right;\">missing</td><td style = \"text-align: left;\">0100 UTC</td><td style = \"text-align: right;\">21.4</td><td style = \"text-align: right;\">21.0</td><td style = \"font-style: italic; text-align: right;\">missing</td><td style = \"text-align: left;\">2021/01/03</td></tr></tbody></table></div>"
      ],
      "text/latex": [
       "\\begin{tabular}{r|cccccc}\n",
       "\t& ADSOLPW & HORA & DTMAX\\_C & DTMIN\\_C & ADRAIN & DATE\\\\\n",
       "\t\\hline\n",
       "\t& Float64? & String15 & Float64? & Float64? & Float64? & String15\\\\\n",
       "\t\\hline\n",
       "\t1 & \\emph{missing} & 0000 UTC & 25.4 & 23.4 & \\emph{missing} & 2021/01/01 \\\\\n",
       "\t2 & \\emph{missing} & 0100 UTC & 23.7 & 22.2 & \\emph{missing} & 2021/01/01 \\\\\n",
       "\t3 & \\emph{missing} & 0200 UTC & 23.0 & 21.7 & \\emph{missing} & 2021/01/01 \\\\\n",
       "\t4 & \\emph{missing} & 0300 UTC & 22.7 & 20.9 & \\emph{missing} & 2021/01/01 \\\\\n",
       "\t5 & \\emph{missing} & 0400 UTC & 21.4 & 20.4 & \\emph{missing} & 2021/01/01 \\\\\n",
       "\t6 & \\emph{missing} & 0500 UTC & 20.7 & 20.0 & \\emph{missing} & 2021/01/01 \\\\\n",
       "\t7 & \\emph{missing} & 0600 UTC & 20.2 & 19.6 & \\emph{missing} & 2021/01/01 \\\\\n",
       "\t8 & \\emph{missing} & 0700 UTC & 19.8 & 19.3 & \\emph{missing} & 2021/01/01 \\\\\n",
       "\t9 & \\emph{missing} & 0800 UTC & 20.2 & 18.8 & \\emph{missing} & 2021/01/01 \\\\\n",
       "\t10 & 144.3 & 0900 UTC & 20.7 & 19.0 & \\emph{missing} & 2021/01/01 \\\\\n",
       "\t11 & 731.1 & 1000 UTC & 23.6 & 20.6 & \\emph{missing} & 2021/01/01 \\\\\n",
       "\t12 & 1604.6 & 1100 UTC & 26.0 & 23.5 & \\emph{missing} & 2021/01/01 \\\\\n",
       "\t13 & 2370.9 & 1200 UTC & 26.8 & 25.4 & \\emph{missing} & 2021/01/01 \\\\\n",
       "\t14 & 2893.9 & 1300 UTC & 27.9 & 26.5 & \\emph{missing} & 2021/01/01 \\\\\n",
       "\t15 & 3478.9 & 1400 UTC & 28.8 & 26.9 & \\emph{missing} & 2021/01/01 \\\\\n",
       "\t16 & 3946.4 & 1500 UTC & 29.7 & 28.3 & \\emph{missing} & 2021/01/01 \\\\\n",
       "\t17 & 3749.6 & 1600 UTC & 30.5 & 28.4 & \\emph{missing} & 2021/01/01 \\\\\n",
       "\t18 & 2981.4 & 1700 UTC & 30.7 & 28.6 & \\emph{missing} & 2021/01/01 \\\\\n",
       "\t19 & 953.2 & 1800 UTC & 28.6 & 28.0 & \\emph{missing} & 2021/01/01 \\\\\n",
       "\t20 & 416.1 & 1900 UTC & 28.1 & 23.1 & \\emph{missing} & 2021/01/01 \\\\\n",
       "\t21 & 114.3 & 2000 UTC & 23.1 & 20.4 & \\emph{missing} & 2021/01/01 \\\\\n",
       "\t22 & 103.4 & 2100 UTC & 20.5 & 20.0 & \\emph{missing} & 2021/01/01 \\\\\n",
       "\t23 & 15.1 & 2200 UTC & 20.5 & 19.9 & \\emph{missing} & 2021/01/01 \\\\\n",
       "\t24 & \\emph{missing} & 2300 UTC & 20.7 & 19.9 & \\emph{missing} & 2021/01/01 \\\\\n",
       "\t$\\dots$ & $\\dots$ & $\\dots$ & $\\dots$ & $\\dots$ & $\\dots$ & $\\dots$ \\\\\n",
       "\\end{tabular}\n"
      ],
      "text/plain": [
       "\u001b[1m50×6 DataFrame\u001b[0m\n",
       "\u001b[1m Row \u001b[0m│\u001b[1m ADSOLPW   \u001b[0m\u001b[1m HORA     \u001b[0m\u001b[1m DTMAX_C  \u001b[0m\u001b[1m DTMIN_C  \u001b[0m\u001b[1m ADRAIN   \u001b[0m\u001b[1m DATE       \u001b[0m\n",
       "     │\u001b[90m Float64?  \u001b[0m\u001b[90m String15 \u001b[0m\u001b[90m Float64? \u001b[0m\u001b[90m Float64? \u001b[0m\u001b[90m Float64? \u001b[0m\u001b[90m String15   \u001b[0m\n",
       "─────┼───────────────────────────────────────────────────────────────\n",
       "   1 │\u001b[90m missing   \u001b[0m 0000 UTC      25.4      23.4 \u001b[90m  missing \u001b[0m 2021/01/01\n",
       "   2 │\u001b[90m missing   \u001b[0m 0100 UTC      23.7      22.2 \u001b[90m  missing \u001b[0m 2021/01/01\n",
       "   3 │\u001b[90m missing   \u001b[0m 0200 UTC      23.0      21.7 \u001b[90m  missing \u001b[0m 2021/01/01\n",
       "   4 │\u001b[90m missing   \u001b[0m 0300 UTC      22.7      20.9 \u001b[90m  missing \u001b[0m 2021/01/01\n",
       "   5 │\u001b[90m missing   \u001b[0m 0400 UTC      21.4      20.4 \u001b[90m  missing \u001b[0m 2021/01/01\n",
       "   6 │\u001b[90m missing   \u001b[0m 0500 UTC      20.7      20.0 \u001b[90m  missing \u001b[0m 2021/01/01\n",
       "   7 │\u001b[90m missing   \u001b[0m 0600 UTC      20.2      19.6 \u001b[90m  missing \u001b[0m 2021/01/01\n",
       "   8 │\u001b[90m missing   \u001b[0m 0700 UTC      19.8      19.3 \u001b[90m  missing \u001b[0m 2021/01/01\n",
       "  ⋮  │     ⋮         ⋮         ⋮         ⋮         ⋮          ⋮\n",
       "  44 │    1404.3  1900 UTC      29.1      27.1 \u001b[90m  missing \u001b[0m 2021/01/02\n",
       "  45 │     283.8  2000 UTC      27.1      23.8 \u001b[90m  missing \u001b[0m 2021/01/02\n",
       "  46 │     165.3  2100 UTC      23.8      23.2 \u001b[90m  missing \u001b[0m 2021/01/02\n",
       "  47 │      11.7  2200 UTC      23.5      22.8 \u001b[90m  missing \u001b[0m 2021/01/02\n",
       "  48 │\u001b[90m missing   \u001b[0m 2300 UTC      23.2      22.6 \u001b[90m  missing \u001b[0m 2021/01/02\n",
       "  49 │\u001b[90m missing   \u001b[0m 0000 UTC      23.2      21.3 \u001b[90m  missing \u001b[0m 2021/01/03\n",
       "  50 │\u001b[90m missing   \u001b[0m 0100 UTC      21.4      21.0 \u001b[90m  missing \u001b[0m 2021/01/03\n",
       "\u001b[36m                                                      35 rows omitted\u001b[0m"
      ]
     },
     "metadata": {},
     "output_type": "display_data"
    }
   ],
   "source": [
    "first(dados.serie[1].dataset, 50)"
   ]
  },
  {
   "cell_type": "code",
   "execution_count": 30,
   "id": "armed-ottawa",
   "metadata": {},
   "outputs": [
    {
     "data": {
      "text/plain": [
       "8760-element Vector{Float64}:\n",
       "   0.0\n",
       "   0.0\n",
       "   0.0\n",
       "   0.0\n",
       "   0.0\n",
       "   0.0\n",
       "   0.0\n",
       "   0.0\n",
       "   0.0\n",
       " 144.3\n",
       "   ⋮\n",
       " 605.3\n",
       " 813.3\n",
       " 953.4\n",
       " 339.5\n",
       " 415.8\n",
       " 156.7\n",
       "  55.2\n",
       "   3.8\n",
       "   0.0"
      ]
     },
     "metadata": {},
     "output_type": "display_data"
    }
   ],
   "source": [
    "using Missings\n",
    "dados.serie[1].dataset[:,:ADSOLPW] = collect(Missings.replace(dados.serie[1].dataset[:,:ADSOLPW], 0))"
   ]
  },
  {
   "cell_type": "code",
   "execution_count": 31,
   "id": "5bcb8c88",
   "metadata": {},
   "outputs": [
    {
     "data": {
      "text/plain": [
       "8760-element Vector{Union{Missing, Float64}}:\n",
       " 0.0\n",
       " 0.0\n",
       " 0.0\n",
       " 0.0\n",
       " 0.0\n",
       " 0.0\n",
       " 0.0\n",
       " 0.0\n",
       " 0.0\n",
       " 0.0\n",
       " ⋮\n",
       " 3.2\n",
       " 0.6\n",
       " 0.4\n",
       " 1.6\n",
       " 1.0\n",
       " 1.8\n",
       " 0.6\n",
       " 0.2\n",
       " 0.0"
      ]
     },
     "metadata": {},
     "output_type": "display_data"
    }
   ],
   "source": [
    "replace!(dados.serie[1].dataset[:,:ADRAIN], missing => 0.)"
   ]
  },
  {
   "cell_type": "code",
   "execution_count": 32,
   "id": "plastic-wales",
   "metadata": {},
   "outputs": [
    {
     "data": {
      "text/plain": [
       "Dict{Int64, Symbol} with 5 entries:\n",
       "  7  => :ADSOLPW\n",
       "  11 => :DTMIN_C\n",
       "  10 => :DTMAX_C\n",
       "  3  => :ADRAIN\n",
       "  1  => :DATE"
      ]
     },
     "metadata": {},
     "output_type": "display_data"
    }
   ],
   "source": [
    "columns = Dict(1 => :DATE, 3 => :ADRAIN, 7 => :ADSOLPW, 10 => :DTMAX_C, 11 => :DTMIN_C)"
   ]
  },
  {
   "cell_type": "code",
   "execution_count": 33,
   "id": "3c8467b5",
   "metadata": {},
   "outputs": [
    {
     "data": {
      "text/html": [
       "<div><div style = \"float: left;\"><span>8760×6 DataFrame</span></div><div style = \"float: right;\"><span style = \"font-style: italic;\">8735 rows omitted</span></div><div style = \"clear: both;\"></div></div><div class = \"data-frame\" style = \"overflow-x: scroll;\"><table class = \"data-frame\" style = \"margin-bottom: 6px;\"><thead><tr class = \"header\"><th class = \"rowNumber\" style = \"font-weight: bold; text-align: right;\">Row</th><th style = \"text-align: left;\">ADSOLPW</th><th style = \"text-align: left;\">HORA</th><th style = \"text-align: left;\">DTMAX_C</th><th style = \"text-align: left;\">DTMIN_C</th><th style = \"text-align: left;\">ADRAIN</th><th style = \"text-align: left;\">DATE</th></tr><tr class = \"subheader headerLastRow\"><th class = \"rowNumber\" style = \"font-weight: bold; text-align: right;\"></th><th title = \"Union{Missing, Float64}\" style = \"text-align: left;\">Float64?</th><th title = \"InlineStrings.String15\" style = \"text-align: left;\">String15</th><th title = \"Union{Missing, Float64}\" style = \"text-align: left;\">Float64?</th><th title = \"Union{Missing, Float64}\" style = \"text-align: left;\">Float64?</th><th title = \"Union{Missing, Float64}\" style = \"text-align: left;\">Float64?</th><th title = \"InlineStrings.String15\" style = \"text-align: left;\">String15</th></tr></thead><tbody><tr><td class = \"rowNumber\" style = \"font-weight: bold; text-align: right;\">1</td><td style = \"text-align: right;\">0.0</td><td style = \"text-align: left;\">0000 UTC</td><td style = \"text-align: right;\">25.4</td><td style = \"text-align: right;\">23.4</td><td style = \"font-style: italic; text-align: right;\">missing</td><td style = \"text-align: left;\">2021/01/01</td></tr><tr><td class = \"rowNumber\" style = \"font-weight: bold; text-align: right;\">2</td><td style = \"text-align: right;\">0.0</td><td style = \"text-align: left;\">0100 UTC</td><td style = \"text-align: right;\">23.7</td><td style = \"text-align: right;\">22.2</td><td style = \"font-style: italic; text-align: right;\">missing</td><td style = \"text-align: left;\">2021/01/01</td></tr><tr><td class = \"rowNumber\" style = \"font-weight: bold; text-align: right;\">3</td><td style = \"text-align: right;\">0.0</td><td style = \"text-align: left;\">0200 UTC</td><td style = \"text-align: right;\">23.0</td><td style = \"text-align: right;\">21.7</td><td style = \"font-style: italic; text-align: right;\">missing</td><td style = \"text-align: left;\">2021/01/01</td></tr><tr><td class = \"rowNumber\" style = \"font-weight: bold; text-align: right;\">4</td><td style = \"text-align: right;\">0.0</td><td style = \"text-align: left;\">0300 UTC</td><td style = \"text-align: right;\">22.7</td><td style = \"text-align: right;\">20.9</td><td style = \"font-style: italic; text-align: right;\">missing</td><td style = \"text-align: left;\">2021/01/01</td></tr><tr><td class = \"rowNumber\" style = \"font-weight: bold; text-align: right;\">5</td><td style = \"text-align: right;\">0.0</td><td style = \"text-align: left;\">0400 UTC</td><td style = \"text-align: right;\">21.4</td><td style = \"text-align: right;\">20.4</td><td style = \"font-style: italic; text-align: right;\">missing</td><td style = \"text-align: left;\">2021/01/01</td></tr><tr><td class = \"rowNumber\" style = \"font-weight: bold; text-align: right;\">6</td><td style = \"text-align: right;\">0.0</td><td style = \"text-align: left;\">0500 UTC</td><td style = \"text-align: right;\">20.7</td><td style = \"text-align: right;\">20.0</td><td style = \"font-style: italic; text-align: right;\">missing</td><td style = \"text-align: left;\">2021/01/01</td></tr><tr><td class = \"rowNumber\" style = \"font-weight: bold; text-align: right;\">7</td><td style = \"text-align: right;\">0.0</td><td style = \"text-align: left;\">0600 UTC</td><td style = \"text-align: right;\">20.2</td><td style = \"text-align: right;\">19.6</td><td style = \"font-style: italic; text-align: right;\">missing</td><td style = \"text-align: left;\">2021/01/01</td></tr><tr><td class = \"rowNumber\" style = \"font-weight: bold; text-align: right;\">8</td><td style = \"text-align: right;\">0.0</td><td style = \"text-align: left;\">0700 UTC</td><td style = \"text-align: right;\">19.8</td><td style = \"text-align: right;\">19.3</td><td style = \"font-style: italic; text-align: right;\">missing</td><td style = \"text-align: left;\">2021/01/01</td></tr><tr><td class = \"rowNumber\" style = \"font-weight: bold; text-align: right;\">9</td><td style = \"text-align: right;\">0.0</td><td style = \"text-align: left;\">0800 UTC</td><td style = \"text-align: right;\">20.2</td><td style = \"text-align: right;\">18.8</td><td style = \"font-style: italic; text-align: right;\">missing</td><td style = \"text-align: left;\">2021/01/01</td></tr><tr><td class = \"rowNumber\" style = \"font-weight: bold; text-align: right;\">10</td><td style = \"text-align: right;\">144.3</td><td style = \"text-align: left;\">0900 UTC</td><td style = \"text-align: right;\">20.7</td><td style = \"text-align: right;\">19.0</td><td style = \"font-style: italic; text-align: right;\">missing</td><td style = \"text-align: left;\">2021/01/01</td></tr><tr><td class = \"rowNumber\" style = \"font-weight: bold; text-align: right;\">11</td><td style = \"text-align: right;\">731.1</td><td style = \"text-align: left;\">1000 UTC</td><td style = \"text-align: right;\">23.6</td><td style = \"text-align: right;\">20.6</td><td style = \"font-style: italic; text-align: right;\">missing</td><td style = \"text-align: left;\">2021/01/01</td></tr><tr><td class = \"rowNumber\" style = \"font-weight: bold; text-align: right;\">12</td><td style = \"text-align: right;\">1604.6</td><td style = \"text-align: left;\">1100 UTC</td><td style = \"text-align: right;\">26.0</td><td style = \"text-align: right;\">23.5</td><td style = \"font-style: italic; text-align: right;\">missing</td><td style = \"text-align: left;\">2021/01/01</td></tr><tr><td class = \"rowNumber\" style = \"font-weight: bold; text-align: right;\">13</td><td style = \"text-align: right;\">2370.9</td><td style = \"text-align: left;\">1200 UTC</td><td style = \"text-align: right;\">26.8</td><td style = \"text-align: right;\">25.4</td><td style = \"font-style: italic; text-align: right;\">missing</td><td style = \"text-align: left;\">2021/01/01</td></tr><tr><td style = \"text-align: right;\">&vellip;</td><td style = \"text-align: right;\">&vellip;</td><td style = \"text-align: right;\">&vellip;</td><td style = \"text-align: right;\">&vellip;</td><td style = \"text-align: right;\">&vellip;</td><td style = \"text-align: right;\">&vellip;</td><td style = \"text-align: right;\">&vellip;</td></tr><tr><td class = \"rowNumber\" style = \"font-weight: bold; text-align: right;\">8749</td><td style = \"text-align: right;\">743.2</td><td style = \"text-align: left;\">1200 UTC</td><td style = \"text-align: right;\">19.5</td><td style = \"text-align: right;\">19.2</td><td style = \"font-style: italic; text-align: right;\">0.6</td><td style = \"text-align: left;\">2021/12/31</td></tr><tr><td class = \"rowNumber\" style = \"font-weight: bold; text-align: right;\">8750</td><td style = \"text-align: right;\">726.0</td><td style = \"text-align: left;\">1300 UTC</td><td style = \"text-align: right;\">19.5</td><td style = \"text-align: right;\">19.0</td><td style = \"font-style: italic; text-align: right;\">1.0</td><td style = \"text-align: left;\">2021/12/31</td></tr><tr><td class = \"rowNumber\" style = \"font-weight: bold; text-align: right;\">8751</td><td style = \"text-align: right;\">573.4</td><td style = \"text-align: left;\">1400 UTC</td><td style = \"text-align: right;\">19.2</td><td style = \"text-align: right;\">18.7</td><td style = \"font-style: italic; text-align: right;\">2.2</td><td style = \"text-align: left;\">2021/12/31</td></tr><tr><td class = \"rowNumber\" style = \"font-weight: bold; text-align: right;\">8752</td><td style = \"text-align: right;\">605.3</td><td style = \"text-align: left;\">1500 UTC</td><td style = \"text-align: right;\">19.3</td><td style = \"text-align: right;\">18.7</td><td style = \"font-style: italic; text-align: right;\">3.2</td><td style = \"text-align: left;\">2021/12/31</td></tr><tr><td class = \"rowNumber\" style = \"font-weight: bold; text-align: right;\">8753</td><td style = \"text-align: right;\">813.3</td><td style = \"text-align: left;\">1600 UTC</td><td style = \"text-align: right;\">19.7</td><td style = \"text-align: right;\">19.3</td><td style = \"font-style: italic; text-align: right;\">0.6</td><td style = \"text-align: left;\">2021/12/31</td></tr><tr><td class = \"rowNumber\" style = \"font-weight: bold; text-align: right;\">8754</td><td style = \"text-align: right;\">953.4</td><td style = \"text-align: left;\">1700 UTC</td><td style = \"text-align: right;\">20.8</td><td style = \"text-align: right;\">19.5</td><td style = \"font-style: italic; text-align: right;\">0.4</td><td style = \"text-align: left;\">2021/12/31</td></tr><tr><td class = \"rowNumber\" style = \"font-weight: bold; text-align: right;\">8755</td><td style = \"text-align: right;\">339.5</td><td style = \"text-align: left;\">1800 UTC</td><td style = \"text-align: right;\">20.5</td><td style = \"text-align: right;\">19.8</td><td style = \"font-style: italic; text-align: right;\">1.6</td><td style = \"text-align: left;\">2021/12/31</td></tr><tr><td class = \"rowNumber\" style = \"font-weight: bold; text-align: right;\">8756</td><td style = \"text-align: right;\">415.8</td><td style = \"text-align: left;\">1900 UTC</td><td style = \"text-align: right;\">20.4</td><td style = \"text-align: right;\">19.8</td><td style = \"font-style: italic; text-align: right;\">1.0</td><td style = \"text-align: left;\">2021/12/31</td></tr><tr><td class = \"rowNumber\" style = \"font-weight: bold; text-align: right;\">8757</td><td style = \"text-align: right;\">156.7</td><td style = \"text-align: left;\">2000 UTC</td><td style = \"text-align: right;\">20.5</td><td style = \"text-align: right;\">19.5</td><td style = \"font-style: italic; text-align: right;\">1.8</td><td style = \"text-align: left;\">2021/12/31</td></tr><tr><td class = \"rowNumber\" style = \"font-weight: bold; text-align: right;\">8758</td><td style = \"text-align: right;\">55.2</td><td style = \"text-align: left;\">2100 UTC</td><td style = \"text-align: right;\">20.1</td><td style = \"text-align: right;\">19.5</td><td style = \"font-style: italic; text-align: right;\">0.6</td><td style = \"text-align: left;\">2021/12/31</td></tr><tr><td class = \"rowNumber\" style = \"font-weight: bold; text-align: right;\">8759</td><td style = \"text-align: right;\">3.8</td><td style = \"text-align: left;\">2200 UTC</td><td style = \"text-align: right;\">20.2</td><td style = \"text-align: right;\">19.8</td><td style = \"font-style: italic; text-align: right;\">0.2</td><td style = \"text-align: left;\">2021/12/31</td></tr><tr><td class = \"rowNumber\" style = \"font-weight: bold; text-align: right;\">8760</td><td style = \"text-align: right;\">0.0</td><td style = \"text-align: left;\">2300 UTC</td><td style = \"text-align: right;\">20.1</td><td style = \"text-align: right;\">19.7</td><td style = \"font-style: italic; text-align: right;\">0.0</td><td style = \"text-align: left;\">2021/12/31</td></tr></tbody></table></div>"
      ],
      "text/latex": [
       "\\begin{tabular}{r|cccccc}\n",
       "\t& ADSOLPW & HORA & DTMAX\\_C & DTMIN\\_C & ADRAIN & DATE\\\\\n",
       "\t\\hline\n",
       "\t& Float64? & String15 & Float64? & Float64? & Float64? & String15\\\\\n",
       "\t\\hline\n",
       "\t1 & 0.0 & 0000 UTC & 25.4 & 23.4 & \\emph{missing} & 2021/01/01 \\\\\n",
       "\t2 & 0.0 & 0100 UTC & 23.7 & 22.2 & \\emph{missing} & 2021/01/01 \\\\\n",
       "\t3 & 0.0 & 0200 UTC & 23.0 & 21.7 & \\emph{missing} & 2021/01/01 \\\\\n",
       "\t4 & 0.0 & 0300 UTC & 22.7 & 20.9 & \\emph{missing} & 2021/01/01 \\\\\n",
       "\t5 & 0.0 & 0400 UTC & 21.4 & 20.4 & \\emph{missing} & 2021/01/01 \\\\\n",
       "\t6 & 0.0 & 0500 UTC & 20.7 & 20.0 & \\emph{missing} & 2021/01/01 \\\\\n",
       "\t7 & 0.0 & 0600 UTC & 20.2 & 19.6 & \\emph{missing} & 2021/01/01 \\\\\n",
       "\t8 & 0.0 & 0700 UTC & 19.8 & 19.3 & \\emph{missing} & 2021/01/01 \\\\\n",
       "\t9 & 0.0 & 0800 UTC & 20.2 & 18.8 & \\emph{missing} & 2021/01/01 \\\\\n",
       "\t10 & 144.3 & 0900 UTC & 20.7 & 19.0 & \\emph{missing} & 2021/01/01 \\\\\n",
       "\t11 & 731.1 & 1000 UTC & 23.6 & 20.6 & \\emph{missing} & 2021/01/01 \\\\\n",
       "\t12 & 1604.6 & 1100 UTC & 26.0 & 23.5 & \\emph{missing} & 2021/01/01 \\\\\n",
       "\t13 & 2370.9 & 1200 UTC & 26.8 & 25.4 & \\emph{missing} & 2021/01/01 \\\\\n",
       "\t14 & 2893.9 & 1300 UTC & 27.9 & 26.5 & \\emph{missing} & 2021/01/01 \\\\\n",
       "\t15 & 3478.9 & 1400 UTC & 28.8 & 26.9 & \\emph{missing} & 2021/01/01 \\\\\n",
       "\t16 & 3946.4 & 1500 UTC & 29.7 & 28.3 & \\emph{missing} & 2021/01/01 \\\\\n",
       "\t17 & 3749.6 & 1600 UTC & 30.5 & 28.4 & \\emph{missing} & 2021/01/01 \\\\\n",
       "\t18 & 2981.4 & 1700 UTC & 30.7 & 28.6 & \\emph{missing} & 2021/01/01 \\\\\n",
       "\t19 & 953.2 & 1800 UTC & 28.6 & 28.0 & \\emph{missing} & 2021/01/01 \\\\\n",
       "\t20 & 416.1 & 1900 UTC & 28.1 & 23.1 & \\emph{missing} & 2021/01/01 \\\\\n",
       "\t21 & 114.3 & 2000 UTC & 23.1 & 20.4 & \\emph{missing} & 2021/01/01 \\\\\n",
       "\t22 & 103.4 & 2100 UTC & 20.5 & 20.0 & \\emph{missing} & 2021/01/01 \\\\\n",
       "\t23 & 15.1 & 2200 UTC & 20.5 & 19.9 & \\emph{missing} & 2021/01/01 \\\\\n",
       "\t24 & 0.0 & 2300 UTC & 20.7 & 19.9 & \\emph{missing} & 2021/01/01 \\\\\n",
       "\t$\\dots$ & $\\dots$ & $\\dots$ & $\\dots$ & $\\dots$ & $\\dots$ & $\\dots$ \\\\\n",
       "\\end{tabular}\n"
      ],
      "text/plain": [
       "\u001b[1m8760×6 DataFrame\u001b[0m\n",
       "\u001b[1m  Row \u001b[0m│\u001b[1m ADSOLPW  \u001b[0m\u001b[1m HORA     \u001b[0m\u001b[1m DTMAX_C  \u001b[0m\u001b[1m DTMIN_C  \u001b[0m\u001b[1m ADRAIN    \u001b[0m\u001b[1m DATE       \u001b[0m\n",
       "      │\u001b[90m Float64? \u001b[0m\u001b[90m String15 \u001b[0m\u001b[90m Float64? \u001b[0m\u001b[90m Float64? \u001b[0m\u001b[90m Float64?  \u001b[0m\u001b[90m String15   \u001b[0m\n",
       "──────┼───────────────────────────────────────────────────────────────\n",
       "    1 │      0.0  0000 UTC      25.4      23.4 \u001b[90m missing   \u001b[0m 2021/01/01\n",
       "    2 │      0.0  0100 UTC      23.7      22.2 \u001b[90m missing   \u001b[0m 2021/01/01\n",
       "    3 │      0.0  0200 UTC      23.0      21.7 \u001b[90m missing   \u001b[0m 2021/01/01\n",
       "    4 │      0.0  0300 UTC      22.7      20.9 \u001b[90m missing   \u001b[0m 2021/01/01\n",
       "    5 │      0.0  0400 UTC      21.4      20.4 \u001b[90m missing   \u001b[0m 2021/01/01\n",
       "    6 │      0.0  0500 UTC      20.7      20.0 \u001b[90m missing   \u001b[0m 2021/01/01\n",
       "    7 │      0.0  0600 UTC      20.2      19.6 \u001b[90m missing   \u001b[0m 2021/01/01\n",
       "    8 │      0.0  0700 UTC      19.8      19.3 \u001b[90m missing   \u001b[0m 2021/01/01\n",
       "  ⋮   │    ⋮         ⋮         ⋮         ⋮          ⋮          ⋮\n",
       " 8754 │    953.4  1700 UTC      20.8      19.5        0.4  2021/12/31\n",
       " 8755 │    339.5  1800 UTC      20.5      19.8        1.6  2021/12/31\n",
       " 8756 │    415.8  1900 UTC      20.4      19.8        1.0  2021/12/31\n",
       " 8757 │    156.7  2000 UTC      20.5      19.5        1.8  2021/12/31\n",
       " 8758 │     55.2  2100 UTC      20.1      19.5        0.6  2021/12/31\n",
       " 8759 │      3.8  2200 UTC      20.2      19.8        0.2  2021/12/31\n",
       " 8760 │      0.0  2300 UTC      20.1      19.7        0.0  2021/12/31\n",
       "\u001b[36m                                                     8745 rows omitted\u001b[0m"
      ]
     },
     "metadata": {},
     "output_type": "display_data"
    }
   ],
   "source": [
    "dados.serie[1].dataset"
   ]
  },
  {
   "cell_type": "code",
   "execution_count": 34,
   "id": "black-jerusalem",
   "metadata": {},
   "outputs": [
    {
     "data": {
      "text/plain": [
       "ValueIterator for a Dict{Int64, Symbol} with 5 entries. Values:\n",
       "  :ADSOLPW\n",
       "  :DTMIN_C\n",
       "  :DTMAX_C\n",
       "  :ADRAIN\n",
       "  :DATE"
      ]
     },
     "metadata": {},
     "output_type": "display_data"
    }
   ],
   "source": [
    "values(columns)"
   ]
  },
  {
   "cell_type": "code",
   "execution_count": 35,
   "id": "better-pharmacy",
   "metadata": {},
   "outputs": [
    {
     "ename": "UndefVarError",
     "evalue": "UndefVarError: columns_change not defined",
     "output_type": "error",
     "traceback": [
      "UndefVarError: columns_change not defined\n",
      "\n",
      "Stacktrace:\n",
      " [1] top-level scope\n",
      "   @ ~/Insync/Trabalho/IFMG/IFMG_ARCOS/TCCs/TCCVitinho/PacoteSPF/AMBIENTEDETESTE.ipynb:1"
     ]
    }
   ],
   "source": [
    "values(columns_change)"
   ]
  },
  {
   "cell_type": "code",
   "execution_count": 36,
   "id": "public-portrait",
   "metadata": {},
   "outputs": [],
   "source": []
  },
  {
   "cell_type": "code",
   "execution_count": 37,
   "id": "precious-cleaners",
   "metadata": {},
   "outputs": [],
   "source": []
  }
 ],
 "metadata": {
  "kernelspec": {
   "display_name": "Julia 1.8.2",
   "language": "julia",
   "name": "julia-1.8"
  },
  "language_info": {
   "file_extension": ".jl",
   "mimetype": "application/julia",
   "name": "julia",
   "version": "1.8.2"
  }
 },
 "nbformat": 4,
 "nbformat_minor": 5
}
