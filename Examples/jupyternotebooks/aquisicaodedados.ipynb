{
 "cells": [
  {
   "cell_type": "markdown",
   "metadata": {
    "nteract": {
     "transient": {
      "deleting": false
     }
    }
   },
   "source": [
    "# TCC - Victor Gonçalves\n",
    "## Instruções de obtenção de dados\n",
    "Autor: Prof. Dr. Reginaldo Gonçalves Leão Junior\n",
    "\n",
    "\n",
    "### Verificação do status INMET\n",
    "\n",
    "Consiste na chamada à função `statusINMET()` que verifica a disponibilidade de séries anuais climatológicas no recurso `/dadoshistoricos` do portal, exibe um compilado deste estatus no terminal e retorna um dicionário com a estrutura:\n",
    "\n",
    "```\n",
    "Dict{Int16, String} with n entries:\n",
    "  \"20XX\" => \"https://portal.inmet.gov.br/uploads/dadoshistoricos/20XX.zip\"\n",
    "```\n",
    "\n",
    "no qual as chaves são os anos disponíveis na base no formato de um inteiro de 32 bits e os valores uma String contendo o link para download do zip file das séries para o respectivo ano."
   ]
  },
  {
   "cell_type": "markdown",
   "metadata": {
    "nteract": {
     "transient": {
      "deleting": false
     }
    }
   },
   "source": [
    "Antes de qualquer verificação, deve-se fazer a instalação do pacote em desenvolvimento, ou verificação por atualizações.\n",
    "Sendo o primeiro uso do pacote em uma determinada instalção deve-se executar as instruções do comentário `i)`, nas demais, atualizações devem ser checadas por meio das instruções do comentário `ii)`. A instrução `using Pkg` é apenas uma chamada ao módulo `Pkg` responsável pela gerência dos pacotes."
   ]
  },
  {
   "cell_type": "code",
   "execution_count": 1,
   "metadata": {
    "nteract": {
     "transient": {
      "deleting": false
     }
    },
    "tags": []
   },
   "outputs": [
    {
     "name": "stderr",
     "output_type": "stream",
     "text": [
      "\u001b[32m\u001b[1m    Updating\u001b[22m\u001b[39m registry at `~/.julia/registries/General`\n",
      "\u001b[32m\u001b[1m    Updating\u001b[22m\u001b[39m git-repo `https://github.com/JuliaRegistries/General.git`\n",
      "\u001b[32m\u001b[1m    Updating\u001b[22m\u001b[39m git-repo `https://github.com/GESESC/SolarPowerForecastingIFMG.jl`\n",
      "\u001b[32m\u001b[1m   Installed\u001b[22m\u001b[39m SLEEFPirates ─ v0.6.33\n",
      "\u001b[32m\u001b[1m  No Changes\u001b[22m\u001b[39m to `~/.julia/environments/v1.7/Project.toml`\n",
      "\u001b[32m\u001b[1m    Updating\u001b[22m\u001b[39m `~/.julia/environments/v1.7/Manifest.toml`\n",
      " \u001b[90m [476501e8] \u001b[39m\u001b[93m↑ SLEEFPirates v0.6.32 ⇒ v0.6.33\u001b[39m\n",
      "\u001b[32m\u001b[1mPrecompiling\u001b[22m\u001b[39m project...\n",
      "\u001b[32m  ✓ \u001b[39m\u001b[90mSLEEFPirates\u001b[39m\n",
      "\u001b[32m  ✓ \u001b[39m\u001b[90mLoopVectorization\u001b[39m\n",
      "\u001b[32m  ✓ \u001b[39m\u001b[90mRecursiveFactorization\u001b[39m\n",
      "\u001b[32m  ✓ \u001b[39m\u001b[90mNonlinearSolve\u001b[39m\n",
      "\u001b[32m  ✓ \u001b[39mDiffEqBase\n",
      "\u001b[32m  ✓ \u001b[39m\u001b[90mDiffEqJump\u001b[39m\n",
      "\u001b[32m  ✓ \u001b[39mSundials\n",
      "\u001b[32m  ✓ \u001b[39m\u001b[90mDiffEqCallbacks\u001b[39m\n",
      "\u001b[32m  ✓ \u001b[39m\u001b[90mBoundaryValueDiffEq\u001b[39m\n",
      "\u001b[32m  ✓ \u001b[39m\u001b[90mDiffEqNoiseProcess\u001b[39m\n",
      "\u001b[32m  ✓ \u001b[39m\u001b[90mDiffEqPhysics\u001b[39m\n",
      "\u001b[32m  ✓ \u001b[39m\u001b[90mModelingToolkit\u001b[39m\n",
      "\u001b[32m  ✓ \u001b[39m\u001b[90mSteadyStateDiffEq\u001b[39m\n",
      "\u001b[32m  ✓ \u001b[39m\u001b[90mParameterizedFunctions\u001b[39m\n",
      "\u001b[32m  ✓ \u001b[39m\u001b[90mDiffEqFinancial\u001b[39m\n",
      "\u001b[32m  ✓ \u001b[39mOrdinaryDiffEq\n",
      "\u001b[32m  ✓ \u001b[39m\u001b[90mDelayDiffEq\u001b[39m\n",
      "\u001b[32m  ✓ \u001b[39m\u001b[90mStochasticDiffEq\u001b[39m\n",
      "\u001b[32m  ✓ \u001b[39m\u001b[90mMultiScaleArrays\u001b[39m\n",
      "\u001b[32m  ✓ \u001b[39mDiffEqSensitivity\n",
      "\u001b[32m  ✓ \u001b[39mDifferentialEquations\n",
      "  21 dependencies successfully precompiled in 415 seconds (407 already precompiled)\n"
     ]
    }
   ],
   "source": [
    "using Pkg\n",
    "# i) Na primeira execução do pacote\n",
    "#Pkg.add(url=\"https://github.com/GESESC/SolarPowerForecastingIFMG.jl\")\n",
    "\n",
    "# ii) A cada nova adição de funcionalidade\n",
    "Pkg.update(\"SolarPowerForecastingIFMG\")"
   ]
  },
  {
   "cell_type": "markdown",
   "metadata": {
    "jupyter": {
     "outputs_hidden": true,
     "source_hidden": false
    },
    "nteract": {
     "transient": {
      "deleting": false
     }
    }
   },
   "source": [
    "Após a instalação ou atualização o pacote deve ser carregado no *kernel* em execução, em seguida a verificação do status no INMET pode ser imediatamente realizada."
   ]
  },
  {
   "cell_type": "code",
   "execution_count": 2,
   "metadata": {
    "nteract": {
     "transient": {
      "deleting": false
     }
    },
    "tags": []
   },
   "outputs": [],
   "source": [
    "using SolarPowerForecastingIFMG: statusINMET, obter_dados\n",
    "using DataFrames"
   ]
  },
  {
   "cell_type": "code",
   "execution_count": 3,
   "metadata": {},
   "outputs": [
    {
     "name": "stdout",
     "output_type": "stream",
     "text": [
      "\u001b[0m\u001b[1mEstrato de dados INMET\u001b[22m\n",
      "\u001b[0mPrimeiro ano disponível\t->\t\u001b[94m\u001b[1m2000\u001b[22m\u001b[39m\n",
      "\u001b[0mÚltimo ano disponível\t->\t\u001b[94m\u001b[1m2022\u001b[22m\u001b[39m\n"
     ]
    }
   ],
   "source": [
    "fonte_dados = statusINMET();"
   ]
  },
  {
   "cell_type": "markdown",
   "metadata": {},
   "source": [
    "Após a execução a variável `fonte_dados` é um dicionário que contém os links para a obtenção das tabelas CSV de cada ano."
   ]
  },
  {
   "cell_type": "code",
   "execution_count": 4,
   "metadata": {},
   "outputs": [
    {
     "name": "stdout",
     "output_type": "stream",
     "text": [
      "fonte_dados[2000] = \"https://portal.inmet.gov.br/uploads/dadoshistoricos/2000.zip\"\n",
      "fonte_dados[2010] = \"https://portal.inmet.gov.br/uploads/dadoshistoricos/2010.zip\"\n",
      "fonte_dados[2022] = \"https://portal.inmet.gov.br/uploads/dadoshistoricos/2022.zip\"\n"
     ]
    }
   ],
   "source": [
    "@show fonte_dados[2000];\n",
    "@show fonte_dados[2010];\n",
    "@show fonte_dados[2022];"
   ]
  },
  {
   "cell_type": "markdown",
   "metadata": {},
   "source": [
    "### Raspagem de Dados\n",
    "A extração de dados em si se dá por meio da função `obter_dados` cuja documentação pode ser vista àbaixo:"
   ]
  },
  {
   "cell_type": "code",
   "execution_count": 5,
   "metadata": {},
   "outputs": [
    {
     "name": "stdout",
     "output_type": "stream",
     "text": [
      "search:\n",
      "\n"
     ]
    },
    {
     "data": {
      "text/latex": [
       "Recebe:\n",
       "\n",
       "i) fonte\\_dados::Dict\\{Int16, String\\}:  um dicionário com chaves do tipo Int16, contendo o ano de uma determinada série  histórica do INMET e uma String com o link de download da série no servidor\n",
       "\n",
       "ii) cidades::Vector\\{String\\}: um vetor contendo uma lista das cidades a serem estudadas\n",
       "\n",
       "iii) [intervtemp::Vector\\{Int\\}] ou [intervtemp::UnitRange]:  um vetor contendo uma lista dos anos a serem estudados ou um UnitRang com este  intervalo de estudo.\n",
       "\n"
      ],
      "text/markdown": [
       "Recebe:\n",
       "\n",
       "i) fonte_dados::Dict{Int16, String}:  um dicionário com chaves do tipo Int16, contendo o ano de uma determinada série  histórica do INMET e uma String com o link de download da série no servidor\n",
       "\n",
       "ii) cidades::Vector{String}: um vetor contendo uma lista das cidades a serem estudadas\n",
       "\n",
       "iii) [intervtemp::Vector{Int}] ou [intervtemp::UnitRange]:  um vetor contendo uma lista dos anos a serem estudados ou um UnitRang com este  intervalo de estudo.\n"
      ],
      "text/plain": [
       "  Recebe:\n",
       "\n",
       "  i) fonte_dados::Dict{Int16, String}: um dicionário com chaves do tipo Int16,\n",
       "  contendo o ano de uma determinada série histórica do INMET e uma String com\n",
       "  o link de download da série no servidor\n",
       "\n",
       "  ii) cidades::Vector{String}: um vetor contendo uma lista das cidades a serem\n",
       "  estudadas\n",
       "\n",
       "  iii) [intervtemp::Vector{Int}] ou [intervtemp::UnitRange]: um vetor contendo\n",
       "  uma lista dos anos a serem estudados ou um UnitRang com este intervalo de\n",
       "  estudo."
      ]
     },
     "execution_count": 5,
     "metadata": {},
     "output_type": "execute_result"
    }
   ],
   "source": [
    "?obter_dados"
   ]
  },
  {
   "cell_type": "markdown",
   "metadata": {},
   "source": [
    "No exemplo abaixo utilizamos a função `obter_dados` para a `fonte_dados` requerendo estes para a cidade de Formiga e o ano de 2010.\n",
    "Note como esses parâmetros foram passados na forma de vetores, de forma tal que, mais de uma cidade, ou mesmo, mais que um ano de estudo podem ser selcionados. "
   ]
  },
  {
   "cell_type": "code",
   "execution_count": 6,
   "metadata": {},
   "outputs": [
    {
     "ename": "LoadError",
     "evalue": "Parâmetros inválidos! ",
     "output_type": "error",
     "traceback": [
      "Parâmetros inválidos! ",
      "",
      "Stacktrace:",
      " [1] error(s::String)",
      "   @ Base ./error.jl:33",
      " [2] obter_dados(fonte_dados::Dict{Int16, String}, cidades::Vector{String}, intervtemp::Vector{Int64})",
      "   @ SolarPowerForecastingIFMG ~/.julia/packages/SolarPowerForecastingIFMG/PIyWG/src/RaspagemDeDadosINMET.jl:168",
      " [3] top-level scope",
      "   @ In[6]:1",
      " [4] eval",
      "   @ ./boot.jl:373 [inlined]",
      " [5] include_string(mapexpr::typeof(REPL.softscope), mod::Module, code::String, filename::String)",
      "   @ Base ./loading.jl:1196"
     ]
    }
   ],
   "source": [
    "dados = obter_dados(fonte_dados, [\"FORMIGA\"], [2010]);"
   ]
  },
  {
   "cell_type": "code",
   "execution_count": 7,
   "metadata": {},
   "outputs": [
    {
     "ename": "LoadError",
     "evalue": "UndefVarError: dados not defined",
     "output_type": "error",
     "traceback": [
      "UndefVarError: dados not defined",
      "",
      "Stacktrace:",
      " [1] top-level scope",
      "   @ :0",
      " [2] eval",
      "   @ ./boot.jl:373 [inlined]",
      " [3] include_string(mapexpr::typeof(REPL.softscope), mod::Module, code::String, filename::String)",
      "   @ Base ./loading.jl:1196"
     ]
    }
   ],
   "source": [
    "dados"
   ]
  },
  {
   "cell_type": "markdown",
   "metadata": {},
   "source": [
    "Quando `dados` é exibido, se vê um problema de codificação no nome das colunas como por exemplo `PRECIPITA\\xc7\\xc3O` na terceira coluna, isto é uma falha de codificação na fonte dos dados. \n",
    "A lista de nomes das colunas pode ser inspecioanda utilizando-se a função name no objeto do tipo `dataset` pertencente à `mutable struct EstruturaDeCaptura`."
   ]
  },
  {
   "cell_type": "code",
   "execution_count": 8,
   "metadata": {},
   "outputs": [
    {
     "ename": "LoadError",
     "evalue": "UndefVarError: dados not defined",
     "output_type": "error",
     "traceback": [
      "UndefVarError: dados not defined",
      "",
      "Stacktrace:",
      " [1] top-level scope",
      "   @ In[8]:1",
      " [2] eval",
      "   @ ./boot.jl:373 [inlined]",
      " [3] include_string(mapexpr::typeof(REPL.softscope), mod::Module, code::String, filename::String)",
      "   @ Base ./loading.jl:1196"
     ]
    }
   ],
   "source": [
    "names(dados.serie[1].dataset)"
   ]
  },
  {
   "cell_type": "markdown",
   "metadata": {},
   "source": [
    "A estrtura de captura de dados no submódulo `RaspagemDeDadosINMET.jl` é organizada na forma:\n",
    "```Julia\n",
    "mutable struct EstruturaDeCaptura\n",
    "    cidade::Union{String, Nothing}\n",
    "    ano::Union{Int, String, Nothing}\n",
    "    dataset::Union{DataFrame, Nothing}\n",
    "end\n",
    "\n",
    "mutable struct SerieCidades \n",
    "    serie::AbstractVector{EstruturaDeCaptura}\n",
    "end\n",
    "```\n",
    "Na qual a `mutable struct SerieCidades` é utilizada para armazenar os dados das múltiplas cidades desejadas para o estudo, e a `mutable struct EstruturaDeCaptura` cotém o nome de cada cidade, e o nome de cada ano de estudo, além dos dados proprieamente ditos na forma de `DataFrame` do tipo `DataFrames.jl`.\n",
    "\n",
    "Em nosso caso, as seguintes colunas precisam de ajuste de codificação de caractere:\n",
    "\n",
    "3. `PRECIPITA\\xc7\\xc3O TOTAL, HOR\\xc1RIO (mm)` para `PRECIPITACAO TOTAL, HORARIA (mm)`;\n",
    "5. `PPRESS\\xc3O ATMOSFERICA MAX.NA HORA ANT. (AUT) (mB)` para `PRESSAO ATMOSFERICA MAX.NA HORA ANT.(AUT) (mB)`;\n",
    "6. `PPRESS\\xc3O ATMOSFERICA MIN.NA HORA ANT. (AUT) (mB)` para `PRESSAO ATMOSFERICA MIN.NA HORA ANT.(AUT) (mB)`;\n",
    "7. `RADIACAO GLOBAL (KJ/m\\xb2)` para `RADIACAO GLOBAL (KJ/m²)`;\n",
    "8. `TEMPERATURA DO AR - BULBO SECO, HORARIA (\\xb0C)` para `TEMPERATURA DO AR - BULBO SECO, HORARIA (°C)`;\n",
    "9. `TEMPERATURA DO PONTO DE ORVALHO (\\xb0C)` para `TEMPERATURA DO PONTO DE ORVALHO (°C)`;\n",
    "10. `TEMPERATURA M\\xc1XIMA NA HORA ANT. (AUT) (\\xb0C)` para `TEMPERATURA MAXIMA NA HORA ANT.(AUT) (°C)`;\n",
    "11. `TEMPERATURA M\\xcdNIMA NA HORA ANT. (AUT) (\\xb0C)` para `TEMPERATURA MINIMA NA HORA ANT.(AUT) (°C)`;\n",
    "12. `TEMPERATURA ORVALHO MAX. NA HORA ANT. (AUT) (\\xb0C)` para `TEMPERATURA ORVALHO MAX. NA HORA ANT. (AUT) (°C)`;\n",
    "13. `TEMPERATURA ORVALHO MIN. NA HORA ANT. (AUT) (\\xb0C)` para `TEMPERATURA ORVALHO MIN. NA HORA ANT. (AUT) (°C)`;\n",
    "18. `VENTO, DIRE\\xc7\\xc3O HORARIA (gr) (\\xb0 (gr))` para `VENTO, DIRECAO HORARIA (gr) (°(gr))`;\n",
    "\n",
    "Para automatizar o processo cria-se um dicionário com os índices das colunas a serem modificadas e os novos nomes seguido do ajuste iterativo sobre `dados.serie[1].dataset`"
   ]
  },
  {
   "cell_type": "code",
   "execution_count": 9,
   "metadata": {},
   "outputs": [
    {
     "ename": "LoadError",
     "evalue": "UndefVarError: dados not defined",
     "output_type": "error",
     "traceback": [
      "UndefVarError: dados not defined",
      "",
      "Stacktrace:",
      " [1] top-level scope",
      "   @ ./In[9]:15",
      " [2] eval",
      "   @ ./boot.jl:373 [inlined]",
      " [3] include_string(mapexpr::typeof(REPL.softscope), mod::Module, code::String, filename::String)",
      "   @ Base ./loading.jl:1196"
     ]
    }
   ],
   "source": [
    "columns_change = (\n",
    "    3=>\"PRECIPITACAO TOTAL, HORARIA (mm)\",\n",
    "    5=>\"PRESSAO ATMOSFERICA MAX.NA HORA ANT.(AUT) (mB)\",\n",
    "    6=>\"PRESSAO ATMOSFERICA MIN.NA HORA ANT.(AUT) (mB)\",\n",
    "    7=>\"RADIACAO GLOBAL (KJ/m²)\",\n",
    "    8=>\"TEMPERATURA DO AR - BULBO SECO, HORARIA (°C)\",\n",
    "    9=>\"TEMPERATURA DO PONTO DE ORVALHO (°C)\",\n",
    "    10=>\"TEMPERATURA MAXIMA NA HORA ANT.(AUT) (°C)\",\n",
    "    11=>\"TEMPERATURA MINIMA NA HORA ANT.(AUT) (°C)\",\n",
    "    12=>\"TEMPERATURA ORVALHO MAX. NA HORA ANT. (AUT) (°C)\",\n",
    "    13=>\"TEMPERATURA ORVALHO MIN. NA HORA ANT. (AUT) (°C)\",\n",
    "    18=>\"VENTO, DIRECAO HORARIA (gr) (°(gr))\"\n",
    ")\n",
    "for col in columns_change\n",
    "       rename!(dados.serie[1].dataset, col)\n",
    "end"
   ]
  },
  {
   "cell_type": "markdown",
   "metadata": {},
   "source": [
    "Evento que corrije o problema de codificação conforme pode ser verificado pelo código abaixo. Alguma abordagem funcional usando `map` ou `foreach` também pode ser usada, inclusive talvez até com maior desempenho. "
   ]
  },
  {
   "cell_type": "code",
   "execution_count": 10,
   "metadata": {},
   "outputs": [
    {
     "ename": "LoadError",
     "evalue": "UndefVarError: dados not defined",
     "output_type": "error",
     "traceback": [
      "UndefVarError: dados not defined",
      "",
      "Stacktrace:",
      " [1] top-level scope",
      "   @ In[10]:1",
      " [2] eval",
      "   @ ./boot.jl:373 [inlined]",
      " [3] include_string(mapexpr::typeof(REPL.softscope), mod::Module, code::String, filename::String)",
      "   @ Base ./loading.jl:1196"
     ]
    }
   ],
   "source": [
    "names(dados.serie[1].dataset)"
   ]
  },
  {
   "cell_type": "markdown",
   "metadata": {},
   "source": [
    "## Aquisições múltiplas\n",
    "A função `obter_dados` ainda possibilita a aquisição múltipla de dados, tanto para múltiplas cidades, quanto para distintos intervalos de tempo, veja os exemplos abaixos.\n",
    "\n",
    "### Aquisição de dados para múltiplas cidades\n",
    "Na caso da aquisição para várias cidades basta declarar quais aquelas desejadas para estudo no segundo parâmetro da função, como no exemplo abaixo. É importante considerar que as cidades declaras devem constar dentre aquelas onde o INMET mantém coleta de dados. Futuramente a função `statusINMET` checará essa informações de maneira automatizada para disponibilizar aos usuários."
   ]
  },
  {
   "cell_type": "code",
   "execution_count": 11,
   "metadata": {},
   "outputs": [
    {
     "ename": "LoadError",
     "evalue": "Parâmetros inválidos! ",
     "output_type": "error",
     "traceback": [
      "Parâmetros inválidos! ",
      "",
      "Stacktrace:",
      " [1] error(s::String)",
      "   @ Base ./error.jl:33",
      " [2] obter_dados(fonte_dados::Dict{Int16, String}, cidades::Vector{String}, intervtemp::Vector{Int64})",
      "   @ SolarPowerForecastingIFMG ~/.julia/packages/SolarPowerForecastingIFMG/PIyWG/src/RaspagemDeDadosINMET.jl:168",
      " [3] top-level scope",
      "   @ In[11]:1",
      " [4] eval",
      "   @ ./boot.jl:373 [inlined]",
      " [5] include_string(mapexpr::typeof(REPL.softscope), mod::Module, code::String, filename::String)",
      "   @ Base ./loading.jl:1196"
     ]
    }
   ],
   "source": [
    "dados = obter_dados(fonte_dados, [\"FORMIGA\", \"BAMBUI\"], [2020]);"
   ]
  },
  {
   "cell_type": "markdown",
   "metadata": {},
   "source": [
    "Neste caso veja como os dados ficam organizados em `dados`.\n",
    "Como já dito a variável é do tipo `SerieCidades` e possui o campo `serie` que contém um vetor do tipo `Vector{SolarPowerForecastingIFMG.EstruturaDeCaptura}`."
   ]
  },
  {
   "cell_type": "code",
   "execution_count": 12,
   "metadata": {},
   "outputs": [
    {
     "ename": "LoadError",
     "evalue": "UndefVarError: dados not defined",
     "output_type": "error",
     "traceback": [
      "UndefVarError: dados not defined",
      "",
      "Stacktrace:",
      " [1] top-level scope",
      "   @ show.jl:1047",
      " [2] eval",
      "   @ ./boot.jl:373 [inlined]",
      " [3] include_string(mapexpr::typeof(REPL.softscope), mod::Module, code::String, filename::String)",
      "   @ Base ./loading.jl:1196"
     ]
    }
   ],
   "source": [
    "@show typeof(dados)\n",
    "@show typeof(dados.serie)"
   ]
  },
  {
   "cell_type": "markdown",
   "metadata": {},
   "source": [
    "O comprimento do vetor armazenado no campo `serie` pode ser exibido fazendo-se:"
   ]
  },
  {
   "cell_type": "code",
   "execution_count": 13,
   "metadata": {},
   "outputs": [
    {
     "ename": "LoadError",
     "evalue": "UndefVarError: dados not defined",
     "output_type": "error",
     "traceback": [
      "UndefVarError: dados not defined",
      "",
      "Stacktrace:",
      " [1] top-level scope",
      "   @ In[13]:1",
      " [2] eval",
      "   @ ./boot.jl:373 [inlined]",
      " [3] include_string(mapexpr::typeof(REPL.softscope), mod::Module, code::String, filename::String)",
      "   @ Base ./loading.jl:1196"
     ]
    }
   ],
   "source": [
    "length(dados.serie)"
   ]
  },
  {
   "cell_type": "markdown",
   "metadata": {},
   "source": [
    "Onde o primeiro elemento se refere à primeira cidade declarada em `obter_dados` e o segundo à segunda.\n",
    "\n",
    "### ATENÇÃO: A função `obter_dados` não está organizando corretamente os dados de distintas cidades, além disso é preciso verificar como organizar esses dados para múltiplas cidades e múltiplos anos. Corrigido isso também explicar como a aquisição se dá via vetor com múltiplos anos ou usando UnitRanges."
   ]
  },
  {
   "cell_type": "code",
   "execution_count": 14,
   "metadata": {},
   "outputs": [
    {
     "ename": "LoadError",
     "evalue": "UndefVarError: dados not defined",
     "output_type": "error",
     "traceback": [
      "UndefVarError: dados not defined",
      "",
      "Stacktrace:",
      " [1] top-level scope",
      "   @ In[14]:1",
      " [2] eval",
      "   @ ./boot.jl:373 [inlined]",
      " [3] include_string(mapexpr::typeof(REPL.softscope), mod::Module, code::String, filename::String)",
      "   @ Base ./loading.jl:1196"
     ]
    }
   ],
   "source": [
    "println(\"Primeira cidade: \", dados.serie[1].cidade)\n",
    "println(\"Ano da série: \", dados.serie[1].ano)\n",
    "\n",
    "println(\"Segunda cidade: \", dados.serie[2].cidade)\n",
    "println(\"Ano da série: \", dados.serie[2].ano)"
   ]
  },
  {
   "cell_type": "code",
   "execution_count": null,
   "metadata": {},
   "outputs": [],
   "source": []
  },
  {
   "cell_type": "code",
   "execution_count": null,
   "metadata": {},
   "outputs": [],
   "source": []
  }
 ],
 "metadata": {
  "kernel_info": {
   "name": "python3"
  },
  "kernelspec": {
   "display_name": "Julia nodeps 1.7.3",
   "language": "julia",
   "name": "julia-nodeps-1.7"
  },
  "language_info": {
   "file_extension": ".jl",
   "mimetype": "application/julia",
   "name": "julia",
   "version": "1.7.3"
  },
  "nteract": {
   "version": "0.28.0"
  }
 },
 "nbformat": 4,
 "nbformat_minor": 4
}
