{
 "cells": [
  {
   "cell_type": "markdown",
   "metadata": {
    "nteract": {
     "transient": {
      "deleting": false
     }
    }
   },
   "source": [
    "# TCC - Victor Gonçalves\n",
    "## Instruções de obtenção de dados\n",
    "Autor: Prof. Dr. Reginaldo Gonçalves Leão Junior\n",
    "\n",
    "\n",
    "### Verificação do status INMET\n",
    "\n",
    "Consiste na chamada à função `statusINMET()` que verifica a disponibilidade de séries anuais climatológicas no recurso `/dadoshistoricos` do portal, exibe um compilado deste estatus no terminal e retorna um dicionário com a estrutura:\n",
    "\n",
    "```\n",
    "Dict{Int16, String} with n entries:\n",
    "  \"20XX\" => \"https://portal.inmet.gov.br/uploads/dadoshistoricos/20XX.zip\"\n",
    "```\n",
    "\n",
    "no qual as chaves são os anos disponíveis na base no formato de um inteiro de 32 bits e os valores uma String contendo o link para download do zip file das séries para o respectivo ano."
   ]
  },
  {
   "cell_type": "markdown",
   "metadata": {
    "nteract": {
     "transient": {
      "deleting": false
     }
    }
   },
   "source": [
    "Antes de qualquer verificação, deve-se fazer a instalação do pacote em desenvolvimento, ou verificação por atualizações.\n",
    "Sendo o primeiro uso do pacote em uma determinada instalção deve-se executar as instruções do comentário `i)`, nas demais, atualizações devem ser checadas por meio das instruções do comentário `ii)`. A instrução `using Pkg` é apenas uma chamada ao módulo `Pkg` responsável pela gerência dos pacotes."
   ]
  },
  {
   "cell_type": "code",
   "execution_count": 27,
   "metadata": {
    "nteract": {
     "transient": {
      "deleting": false
     }
    },
    "tags": []
   },
   "outputs": [
    {
     "name": "stderr",
     "output_type": "stream",
     "text": [
      "\u001b[32m\u001b[1m   Resolving\u001b[22m\u001b[39m package versions...\n",
      "\u001b[32m\u001b[1m    Updating\u001b[22m\u001b[39m `~/.julia/environments/v1.7/Project.toml`\n",
      " \u001b[90m [13f3f980] \u001b[39m\u001b[92m+ CairoMakie v0.8.7\u001b[39m\n",
      "\u001b[32m\u001b[1m    Updating\u001b[22m\u001b[39m `~/.julia/environments/v1.7/Manifest.toml`\n",
      " \u001b[90m [159f3aea] \u001b[39m\u001b[92m+ Cairo v1.0.5\u001b[39m\n",
      " \u001b[90m [13f3f980] \u001b[39m\u001b[92m+ CairoMakie v0.8.7\u001b[39m\n",
      " \u001b[90m [36c8627f] \u001b[39m\u001b[92m+ Pango_jll v1.50.3+0\u001b[39m\n"
     ]
    }
   ],
   "source": [
    "# i) Na primeira execução do pacote\n",
    "using Pkg\n",
    "#Pkg.add(url=\"https://github.com/GESESC/SolarPowerForecastingIFMG.jl\")\n",
    "#Pkg.add(\"DataFrames\")\n",
    "Pkg.add(\"CairoMakie\")\n",
    "\n",
    "# ii) A cada nova adição de funcionalidade\n",
    "#using Pkg\n",
    "#Pkg.update(\"SolarPowerForecastingIFMG\")"
   ]
  },
  {
   "cell_type": "markdown",
   "metadata": {
    "jupyter": {
     "outputs_hidden": true,
     "source_hidden": false
    },
    "nteract": {
     "transient": {
      "deleting": false
     }
    }
   },
   "source": [
    "Após a instalação ou atualização o pacote deve ser carregado no *kernel* em execução, em seguida a verificação do status no INMET pode ser imediatamente realizada."
   ]
  },
  {
   "cell_type": "code",
   "execution_count": 2,
   "metadata": {
    "nteract": {
     "transient": {
      "deleting": false
     }
    },
    "tags": []
   },
   "outputs": [],
   "source": [
    "using SolarPowerForecastingIFMG: statusINMET, obter_dados\n",
    "using DataFrames"
   ]
  },
  {
   "cell_type": "code",
   "execution_count": 3,
   "metadata": {},
   "outputs": [
    {
     "name": "stdout",
     "output_type": "stream",
     "text": [
      "\u001b[0m\u001b[1mEstrato de dados INMET\u001b[22m\n",
      "\u001b[0mPrimeiro ano disponível\t->\t\u001b[94m\u001b[1m2000\u001b[22m\u001b[39m\n",
      "\u001b[0mÚltimo ano disponível\t->\t\u001b[94m\u001b[1m2022\u001b[22m\u001b[39m\n"
     ]
    }
   ],
   "source": [
    "fonte_dados = statusINMET();"
   ]
  },
  {
   "cell_type": "markdown",
   "metadata": {},
   "source": [
    "Após a execução a variável `fonte_dados` é um dicionário que contém os links para a obtenção das tabelas CSV de cada ano."
   ]
  },
  {
   "cell_type": "code",
   "execution_count": 4,
   "metadata": {},
   "outputs": [
    {
     "name": "stdout",
     "output_type": "stream",
     "text": [
      "fonte_dados[2000] = \"https://portal.inmet.gov.br/uploads/dadoshistoricos/2000.zip\"\n",
      "fonte_dados[2010] = \"https://portal.inmet.gov.br/uploads/dadoshistoricos/2010.zip\"\n",
      "fonte_dados[2022] = \"https://portal.inmet.gov.br/uploads/dadoshistoricos/2022.zip\"\n"
     ]
    }
   ],
   "source": [
    "@show fonte_dados[2000];\n",
    "@show fonte_dados[2010];\n",
    "@show fonte_dados[2022];"
   ]
  },
  {
   "cell_type": "markdown",
   "metadata": {},
   "source": [
    "### Raspagem de Dados\n",
    "A extração de dados em si se dá por meio da função `obter_dados` cuja documentação pode ser vista àbaixo:"
   ]
  },
  {
   "cell_type": "code",
   "execution_count": 5,
   "metadata": {},
   "outputs": [
    {
     "name": "stdout",
     "output_type": "stream",
     "text": [
      "search:\n",
      "\n"
     ]
    },
    {
     "data": {
      "text/latex": [
       "Recebe:\n",
       "\n",
       "i) fonte\\_dados::Dict\\{Int16, String\\}:  um dicionário com chaves do tipo Int16, contendo o ano de uma determinada série  histórica do INMET e uma String com o link de download da série no servidor\n",
       "\n",
       "ii) cidades::Vector\\{String\\}: um vetor contendo uma lista das cidades a serem estudadas\n",
       "\n",
       "iii) [intervtemp::Vector\\{Int\\}] ou [intervtemp::UnitRange]:  um vetor contendo uma lista dos anos a serem estudados ou um UnitRang com este  intervalo de estudo.\n",
       "\n"
      ],
      "text/markdown": [
       "Recebe:\n",
       "\n",
       "i) fonte_dados::Dict{Int16, String}:  um dicionário com chaves do tipo Int16, contendo o ano de uma determinada série  histórica do INMET e uma String com o link de download da série no servidor\n",
       "\n",
       "ii) cidades::Vector{String}: um vetor contendo uma lista das cidades a serem estudadas\n",
       "\n",
       "iii) [intervtemp::Vector{Int}] ou [intervtemp::UnitRange]:  um vetor contendo uma lista dos anos a serem estudados ou um UnitRang com este  intervalo de estudo.\n"
      ],
      "text/plain": [
       "  Recebe:\n",
       "\n",
       "  i) fonte_dados::Dict{Int16, String}: um dicionário com chaves do tipo Int16,\n",
       "  contendo o ano de uma determinada série histórica do INMET e uma String com\n",
       "  o link de download da série no servidor\n",
       "\n",
       "  ii) cidades::Vector{String}: um vetor contendo uma lista das cidades a serem\n",
       "  estudadas\n",
       "\n",
       "  iii) [intervtemp::Vector{Int}] ou [intervtemp::UnitRange]: um vetor contendo\n",
       "  uma lista dos anos a serem estudados ou um UnitRang com este intervalo de\n",
       "  estudo."
      ]
     },
     "execution_count": 5,
     "metadata": {},
     "output_type": "execute_result"
    }
   ],
   "source": [
    "?obter_dados"
   ]
  },
  {
   "cell_type": "markdown",
   "metadata": {},
   "source": [
    "No exemplo abaixo utilizamos a função `obter_dados` para a `fonte_dados` requerendo estes para a cidade de Formiga e o ano de 2010.\n",
    "Note como esses parâmetros foram passados na forma de vetores, de forma tal que, mais de uma cidade, ou mesmo, mais que um ano de estudo podem ser selcionados. "
   ]
  },
  {
   "cell_type": "code",
   "execution_count": 6,
   "metadata": {},
   "outputs": [
    {
     "name": "stdout",
     "output_type": "stream",
     "text": [
      "Baixando arquivos para o ano 2010: 98.16     \r"
     ]
    },
    {
     "name": "stderr",
     "output_type": "stream",
     "text": [
      "Excessive output truncated after 524296 bytes."
     ]
    },
    {
     "name": "stdout",
     "output_type": "stream",
     "text": [
      "Baixando arquivos para o ano 2010: 98.19 \r"
     ]
    }
   ],
   "source": [
    "dados = obter_dados(fonte_dados, [\"FORMIGA\"], [2010]);"
   ]
  },
  {
   "cell_type": "code",
   "execution_count": 7,
   "metadata": {},
   "outputs": [
    {
     "data": {
      "text/plain": [
       "SolarPowerForecastingIFMG.SerieCidades(Union{Nothing, SolarPowerForecastingIFMG.EstruturaDeCaptura}[SolarPowerForecastingIFMG.EstruturaDeCaptura(\"FORMIGA\", 2010, \u001b[1m8760×20 DataFrame\u001b[0m\n",
       "\u001b[1m  Row \u001b[0m│\u001b[1m DATA (YYYY-MM-DD) \u001b[0m\u001b[1m HORA (UTC) \u001b[0m\u001b[1m PRECIPITA\\xc7\\xc3O TOTAL, HOR\\xc… \u001b[0m\u001b[1m PRES\u001b[0m ⋯\n",
       "\u001b[1m      \u001b[0m│\u001b[90m Dates.Date        \u001b[0m\u001b[90m Dates.Time \u001b[0m\u001b[90m Float64                           \u001b[0m\u001b[90m Floa\u001b[0m ⋯\n",
       "──────┼─────────────────────────────────────────────────────────────────────────\n",
       "    1 │ 2010-01-01         00:00:00                                  0.0       ⋯\n",
       "    2 │ 2010-01-01         01:00:00                                  0.0\n",
       "    3 │ 2010-01-01         02:00:00                                  0.0\n",
       "    4 │ 2010-01-01         03:00:00                                  0.0\n",
       "    5 │ 2010-01-01         04:00:00                                  0.0       ⋯\n",
       "    6 │ 2010-01-01         05:00:00                                  0.0\n",
       "    7 │ 2010-01-01         06:00:00                                  0.0\n",
       "    8 │ 2010-01-01         07:00:00                                  0.0\n",
       "    9 │ 2010-01-01         08:00:00                                  0.0       ⋯\n",
       "   10 │ 2010-01-01         09:00:00                                  0.0\n",
       "   11 │ 2010-01-01         10:00:00                                  0.0\n",
       "  ⋮   │         ⋮              ⋮                       ⋮                       ⋱\n",
       " 8751 │ 2010-12-31         14:00:00                                  0.6\n",
       " 8752 │ 2010-12-31         15:00:00                                  2.8       ⋯\n",
       " 8753 │ 2010-12-31         16:00:00                                  0.4\n",
       " 8754 │ 2010-12-31         17:00:00                                  0.8\n",
       " 8755 │ 2010-12-31         18:00:00                                  1.4\n",
       " 8756 │ 2010-12-31         19:00:00                                  2.8       ⋯\n",
       " 8757 │ 2010-12-31         20:00:00                                  0.0\n",
       " 8758 │ 2010-12-31         21:00:00                                 15.6\n",
       " 8759 │ 2010-12-31         22:00:00                                  0.6\n",
       " 8760 │ 2010-12-31         23:00:00                                  0.2       ⋯\n",
       "\u001b[36m                                                17 columns and 8739 rows omitted\u001b[0m)])"
      ]
     },
     "execution_count": 7,
     "metadata": {},
     "output_type": "execute_result"
    }
   ],
   "source": [
    "dados"
   ]
  },
  {
   "cell_type": "markdown",
   "metadata": {},
   "source": [
    "Quando `dados` é exibido, se vê um problema de codificação no nome das colunas como por exemplo `PRECIPITA\\xc7\\xc3O` na terceira coluna, isto é uma falha de codificação na fonte dos dados. \n",
    "A lista de nomes das colunas pode ser inspecioanda utilizando-se a função name no objeto do tipo `dataset` pertencente à `mutable struct EstruturaDeCaptura`."
   ]
  },
  {
   "cell_type": "code",
   "execution_count": 8,
   "metadata": {},
   "outputs": [
    {
     "data": {
      "text/plain": [
       "20-element Vector{String}:\n",
       " \"DATA (YYYY-MM-DD)\"\n",
       " \"HORA (UTC)\"\n",
       " \"PRECIPITA\\xc7\\xc3O TOTAL, HOR\\xc1RIO (mm)\"\n",
       " \"PRESSAO ATMOSFERICA AO NIVEL DA ESTACAO, HORARIA (mB)\"\n",
       " \"PRESS\\xc3O ATMOSFERICA MAX.NA HORA ANT. (AUT) (mB)\"\n",
       " \"PRESS\\xc3O ATMOSFERICA MIN. NA HORA ANT. (AUT) (mB)\"\n",
       " \"RADIACAO GLOBAL (KJ/m\\xb2)\"\n",
       " \"TEMPERATURA DO AR - BULBO SECO, HORARIA (\\xb0C)\"\n",
       " \"TEMPERATURA DO PONTO DE ORVALHO (\\xb0C)\"\n",
       " \"TEMPERATURA M\\xc1XIMA NA HORA ANT. (AUT) (\\xb0C)\"\n",
       " \"TEMPERATURA M\\xcdNIMA NA HORA ANT. (AUT) (\\xb0C)\"\n",
       " \"TEMPERATURA ORVALHO MAX. NA HORA ANT. (AUT) (\\xb0C)\"\n",
       " \"TEMPERATURA ORVALHO MIN. NA HORA ANT. (AUT) (\\xb0C)\"\n",
       " \"UMIDADE REL. MAX. NA HORA ANT. (AUT) (%)\"\n",
       " \"UMIDADE REL. MIN. NA HORA ANT. (AUT) (%)\"\n",
       " \"UMIDADE RELATIVA DO AR, HORARIA (%)\"\n",
       " \"VENTO, DIRE\\xc7\\xc3O HORARIA (gr) (\\xb0 (gr))\"\n",
       " \"VENTO, RAJADA MAXIMA (m/s)\"\n",
       " \"VENTO, VELOCIDADE HORARIA (m/s)\"\n",
       " \"Column20\""
      ]
     },
     "execution_count": 8,
     "metadata": {},
     "output_type": "execute_result"
    }
   ],
   "source": [
    "names(dados.serie[1].dataset)"
   ]
  },
  {
   "cell_type": "markdown",
   "metadata": {},
   "source": [
    "A estrtura de captura de dados no submódulo `RaspagemDeDadosINMET.jl` é organizada na forma:\n",
    "```Julia\n",
    "mutable struct EstruturaDeCaptura\n",
    "    cidade::Union{String, Nothing}\n",
    "    ano::Union{Int, String, Nothing}\n",
    "    dataset::Union{DataFrame, Nothing}\n",
    "end\n",
    "\n",
    "mutable struct SerieCidades \n",
    "    serie::AbstractVector{EstruturaDeCaptura}\n",
    "end\n",
    "```\n",
    "Na qual a `mutable struct SerieCidades` é utilizada para armazenar os dados das múltiplas cidades desejadas para o estudo, e a `mutable struct EstruturaDeCaptura` cotém o nome de cada cidade, e o nome de cada ano de estudo, além dos dados proprieamente ditos na forma de `DataFrame` do tipo `DataFrames.jl`.\n",
    "\n",
    "Em nosso caso, as seguintes colunas precisam de ajuste de codificação de caractere:\n",
    "\n",
    "3. `PRECIPITA\\xc7\\xc3O TOTAL, HOR\\xc1RIO (mm)` para `PRECIPITACAO TOTAL, HORARIA (mm)`;\n",
    "5. `PPRESS\\xc3O ATMOSFERICA MAX.NA HORA ANT. (AUT) (mB)` para `PRESSAO ATMOSFERICA MAX.NA HORA ANT.(AUT) (mB)`;\n",
    "6. `PPRESS\\xc3O ATMOSFERICA MIN.NA HORA ANT. (AUT) (mB)` para `PRESSAO ATMOSFERICA MIN.NA HORA ANT.(AUT) (mB)`;\n",
    "7. `RADIACAO GLOBAL (KJ/m\\xb2)` para `RADIACAO GLOBAL (KJ/m²)`;\n",
    "8. `TEMPERATURA DO AR - BULBO SECO, HORARIA (\\xb0C)` para `TEMPERATURA DO AR - BULBO SECO, HORARIA (°C)`;\n",
    "9. `TEMPERATURA DO PONTO DE ORVALHO (\\xb0C)` para `TEMPERATURA DO PONTO DE ORVALHO (°C)`;\n",
    "10. `TEMPERATURA M\\xc1XIMA NA HORA ANT. (AUT) (\\xb0C)` para `TEMPERATURA MAXIMA NA HORA ANT.(AUT) (°C)`;\n",
    "11. `TEMPERATURA M\\xcdNIMA NA HORA ANT. (AUT) (\\xb0C)` para `TEMPERATURA MINIMA NA HORA ANT.(AUT) (°C)`;\n",
    "12. `TEMPERATURA ORVALHO MAX. NA HORA ANT. (AUT) (\\xb0C)` para `TEMPERATURA ORVALHO MAX. NA HORA ANT. (AUT) (°C)`;\n",
    "13. `TEMPERATURA ORVALHO MIN. NA HORA ANT. (AUT) (\\xb0C)` para `TEMPERATURA ORVALHO MIN. NA HORA ANT. (AUT) (°C)`;\n",
    "18. `VENTO, DIRE\\xc7\\xc3O HORARIA (gr) (\\xb0 (gr))` para `VENTO, DIRECAO HORARIA (gr) (°(gr))`;\n",
    "\n",
    "Para automatizar o processo cria-se um dicionário com os índices das colunas a serem modificadas e os novos nomes seguido do ajuste iterativo sobre `dados.serie[1].dataset`"
   ]
  },
  {
   "cell_type": "code",
   "execution_count": 9,
   "metadata": {},
   "outputs": [],
   "source": [
    "columns_change = (\n",
    "    3=>\"PRECIPITACAO TOTAL, HORARIA (mm)\",\n",
    "    5=>\"PRESSAO ATMOSFERICA MAX.NA HORA ANT.(AUT) (mB)\",\n",
    "    6=>\"PRESSAO ATMOSFERICA MIN.NA HORA ANT.(AUT) (mB)\",\n",
    "    7=>\"RADIACAO GLOBAL (KJ/m²)\",\n",
    "    8=>\"TEMPERATURA DO AR - BULBO SECO, HORARIA (°C)\",\n",
    "    9=>\"TEMPERATURA DO PONTO DE ORVALHO (°C)\",\n",
    "    10=>\"TEMPERATURA MAXIMA NA HORA ANT.(AUT) (°C)\",\n",
    "    11=>\"TEMPERATURA MINIMA NA HORA ANT.(AUT) (°C)\",\n",
    "    12=>\"TEMPERATURA ORVALHO MAX. NA HORA ANT. (AUT) (°C)\",\n",
    "    13=>\"TEMPERATURA ORVALHO MIN. NA HORA ANT. (AUT) (°C)\",\n",
    "    17=>\"VENTO, DIRECAO HORARIA (gr) (°(gr))\"\n",
    ")\n",
    "for col in columns_change\n",
    "       rename!(dados.serie[1].dataset, col)\n",
    "end"
   ]
  },
  {
   "cell_type": "markdown",
   "metadata": {},
   "source": [
    "Evento que corrije o problema de codificação conforme pode ser verificado pelo código abaixo. Alguma abordagem funcional usando `map` ou `foreach` também pode ser usada, inclusive talvez até com maior desempenho. "
   ]
  },
  {
   "cell_type": "code",
   "execution_count": 10,
   "metadata": {},
   "outputs": [
    {
     "data": {
      "text/plain": [
       "20-element Vector{String}:\n",
       " \"DATA (YYYY-MM-DD)\"\n",
       " \"HORA (UTC)\"\n",
       " \"PRECIPITACAO TOTAL, HORARIA (mm)\"\n",
       " \"PRESSAO ATMOSFERICA AO NIVEL DA ESTACAO, HORARIA (mB)\"\n",
       " \"PRESSAO ATMOSFERICA MAX.NA HORA ANT.(AUT) (mB)\"\n",
       " \"PRESSAO ATMOSFERICA MIN.NA HORA ANT.(AUT) (mB)\"\n",
       " \"RADIACAO GLOBAL (KJ/m²)\"\n",
       " \"TEMPERATURA DO AR - BULBO SECO, HORARIA (°C)\"\n",
       " \"TEMPERATURA DO PONTO DE ORVALHO (°C)\"\n",
       " \"TEMPERATURA MAXIMA NA HORA ANT.(AUT) (°C)\"\n",
       " \"TEMPERATURA MINIMA NA HORA ANT.(AUT) (°C)\"\n",
       " \"TEMPERATURA ORVALHO MAX. NA HORA ANT. (AUT) (°C)\"\n",
       " \"TEMPERATURA ORVALHO MIN. NA HORA ANT. (AUT) (°C)\"\n",
       " \"UMIDADE REL. MAX. NA HORA ANT. (AUT) (%)\"\n",
       " \"UMIDADE REL. MIN. NA HORA ANT. (AUT) (%)\"\n",
       " \"UMIDADE RELATIVA DO AR, HORARIA (%)\"\n",
       " \"VENTO, DIRECAO HORARIA (gr) (°(gr))\"\n",
       " \"VENTO, RAJADA MAXIMA (m/s)\"\n",
       " \"VENTO, VELOCIDADE HORARIA (m/s)\"\n",
       " \"Column20\""
      ]
     },
     "execution_count": 10,
     "metadata": {},
     "output_type": "execute_result"
    }
   ],
   "source": [
    "names(dados.serie[1].dataset)"
   ]
  },
  {
   "cell_type": "markdown",
   "metadata": {},
   "source": [
    "## Aquisições múltiplas\n",
    "A função `obter_dados` ainda possibilita a aquisição múltipla de dados, tanto para múltiplas cidades, quanto para distintos intervalos de tempo, veja os exemplos abaixos.\n",
    "\n",
    "### Aquisição de dados para múltiplas cidades\n",
    "Na caso da aquisição para várias cidades basta declarar quais aquelas desejadas para estudo no segundo parâmetro da função, como no exemplo abaixo. É importante considerar que as cidades declaras devem constar dentre aquelas onde o INMET mantém coleta de dados. Futuramente a função `statusINMET` checará essa informações de maneira automatizada para disponibilizar aos usuários."
   ]
  },
  {
   "cell_type": "code",
   "execution_count": 11,
   "metadata": {},
   "outputs": [
    {
     "name": "stdout",
     "output_type": "stream",
     "text": [
      "Baixando arquivos para o ano 2020: 97.92     \r"
     ]
    },
    {
     "name": "stderr",
     "output_type": "stream",
     "text": [
      "Excessive output truncated after 524348 bytes."
     ]
    },
    {
     "name": "stdout",
     "output_type": "stream",
     "text": [
      "Baixando arquivos para o ano 2020: 97.95 \r"
     ]
    }
   ],
   "source": [
    "dados = obter_dados(fonte_dados, [\"FORMIGA\", \"BAMBUI\"], [2020]);"
   ]
  },
  {
   "cell_type": "markdown",
   "metadata": {},
   "source": [
    "Neste caso veja como os dados ficam organizados em `dados`.\n",
    "Como já dito a variável é do tipo `SerieCidades` e possui o campo `serie` que contém um vetor do tipo `Vector{SolarPowerForecastingIFMG.EstruturaDeCaptura}`."
   ]
  },
  {
   "cell_type": "code",
   "execution_count": 12,
   "metadata": {},
   "outputs": [
    {
     "name": "stdout",
     "output_type": "stream",
     "text": [
      "typeof(dados) = SolarPowerForecastingIFMG.SerieCidades\n",
      "typeof(dados.serie) = Vector{Union{Nothing, SolarPowerForecastingIFMG.EstruturaDeCaptura}}\n"
     ]
    },
    {
     "data": {
      "text/plain": [
       "Vector{Union{Nothing, EstruturaDeCaptura}} (alias for Array{Union{Nothing, SolarPowerForecastingIFMG.EstruturaDeCaptura}, 1})"
      ]
     },
     "execution_count": 12,
     "metadata": {},
     "output_type": "execute_result"
    }
   ],
   "source": [
    "@show typeof(dados)\n",
    "@show typeof(dados.serie)"
   ]
  },
  {
   "cell_type": "markdown",
   "metadata": {},
   "source": [
    "O comprimento do vetor armazenado no campo `serie` pode ser exibido fazendo-se:"
   ]
  },
  {
   "cell_type": "code",
   "execution_count": 13,
   "metadata": {},
   "outputs": [
    {
     "data": {
      "text/plain": [
       "2"
      ]
     },
     "execution_count": 13,
     "metadata": {},
     "output_type": "execute_result"
    }
   ],
   "source": [
    "length(dados.serie)"
   ]
  },
  {
   "cell_type": "markdown",
   "metadata": {},
   "source": [
    "Onde o primeiro elemento se refere à primeira cidade declarada em `obter_dados` e o segundo à segunda."
   ]
  },
  {
   "cell_type": "code",
   "execution_count": 14,
   "metadata": {},
   "outputs": [
    {
     "name": "stdout",
     "output_type": "stream",
     "text": [
      "Primeira cidade: FORMIGA\n",
      "Ano da série: 2020\n",
      "Segunda cidade: BAMBUI\n",
      "Ano da série: 2020\n"
     ]
    }
   ],
   "source": [
    "println(\"Primeira cidade: \", dados.serie[1].cidade)\n",
    "println(\"Ano da série: \", dados.serie[1].ano)\n",
    "\n",
    "println(\"Segunda cidade: \", dados.serie[2].cidade)\n",
    "println(\"Ano da série: \", dados.serie[2].ano)"
   ]
  },
  {
   "cell_type": "markdown",
   "metadata": {},
   "source": [
    "### Aquisição de dados para múltiplos períodos\n",
    "\n",
    "A aquisição para diversos anos está habilitada em dois modos distintos, o primeiro deles, declarando o \n",
    "terceiro parâmetro de `obter_dados` como um vetor com vários elementos como no exemplo abaixo:\n",
    "```Julia\n",
    "dados = obter_dados(fonte_dados, cidades, intervtemp=[2019, 2020, 2021, 2022])\n",
    "```\n",
    "\n",
    "Digamos que se queira obter os dados metereológicos para a cidade de Formiga nos anos 2010, 2015 e 2020, isto pode ser feito como:"
   ]
  },
  {
   "cell_type": "code",
   "execution_count": 15,
   "metadata": {},
   "outputs": [
    {
     "name": "stdout",
     "output_type": "stream",
     "text": [
      "Baixando arquivos para o ano 2010: 98.15     \r"
     ]
    },
    {
     "name": "stderr",
     "output_type": "stream",
     "text": [
      "Excessive output truncated after 524302 bytes."
     ]
    },
    {
     "name": "stdout",
     "output_type": "stream",
     "text": [
      "Baixando arquivos para o ano 2010: 98.15 \r"
     ]
    }
   ],
   "source": [
    "dados = obter_dados(fonte_dados, [\"FORMIGA\"], [2010, 2015, 2020]);"
   ]
  },
  {
   "cell_type": "markdown",
   "metadata": {},
   "source": [
    "As múltiplas séries exigem que a correção de codificação seja feita para cada ano o que exige um *loop* superior àquele mostrado anteriormente."
   ]
  },
  {
   "cell_type": "code",
   "execution_count": 16,
   "metadata": {},
   "outputs": [],
   "source": [
    "columns_change = (\n",
    "    3=>\"PRECIPITACAO TOTAL, HORARIA (mm)\",\n",
    "    5=>\"PRESSAO ATMOSFERICA MAX.NA HORA ANT.(AUT) (mB)\",\n",
    "    6=>\"PRESSAO ATMOSFERICA MIN.NA HORA ANT.(AUT) (mB)\",\n",
    "    7=>\"RADIACAO GLOBAL (KJ/m²)\",\n",
    "    8=>\"TEMPERATURA DO AR - BULBO SECO, HORARIA (°C)\",\n",
    "    9=>\"TEMPERATURA DO PONTO DE ORVALHO (°C)\",\n",
    "    10=>\"TEMPERATURA MAXIMA NA HORA ANT.(AUT) (°C)\",\n",
    "    11=>\"TEMPERATURA MINIMA NA HORA ANT.(AUT) (°C)\",\n",
    "    12=>\"TEMPERATURA ORVALHO MAX. NA HORA ANT. (AUT) (°C)\",\n",
    "    13=>\"TEMPERATURA ORVALHO MIN. NA HORA ANT. (AUT) (°C)\",\n",
    "    17=>\"VENTO, DIRECAO HORARIA (gr) (°(gr))\"\n",
    ")\n",
    "for idx_ano in 1:length([2010, 2015, 2020])\n",
    "    for col in columns_change\n",
    "       rename!(dados.serie[idx_ano].dataset, col)\n",
    "    end\n",
    "end"
   ]
  },
  {
   "cell_type": "code",
   "execution_count": 17,
   "metadata": {},
   "outputs": [
    {
     "name": "stdout",
     "output_type": "stream",
     "text": [
      "Serie do ano 2010 para a cidade de FORMIGA\n"
     ]
    },
    {
     "data": {
      "text/html": [
       "<div class=\"data-frame\"><p>8,760 rows × 20 columns (omitted printing of 16 columns)</p><table class=\"data-frame\"><thead><tr><th></th><th>DATA (YYYY-MM-DD)</th><th>HORA (UTC)</th><th>PRECIPITACAO TOTAL, HORARIA (mm)</th><th>PRESSAO ATMOSFERICA AO NIVEL DA ESTACAO, HORARIA (mB)</th></tr><tr><th></th><th title=\"Dates.Date\">Date</th><th title=\"Dates.Time\">Time</th><th title=\"Float64\">Float64</th><th title=\"Float64\">Float64</th></tr></thead><tbody><tr><th>1</th><td>2010-01-01</td><td>00:00:00</td><td>0.0</td><td>912.6</td></tr><tr><th>2</th><td>2010-01-01</td><td>01:00:00</td><td>0.0</td><td>913.5</td></tr><tr><th>3</th><td>2010-01-01</td><td>02:00:00</td><td>0.0</td><td>913.8</td></tr><tr><th>4</th><td>2010-01-01</td><td>03:00:00</td><td>0.0</td><td>913.3</td></tr><tr><th>5</th><td>2010-01-01</td><td>04:00:00</td><td>0.0</td><td>912.8</td></tr><tr><th>6</th><td>2010-01-01</td><td>05:00:00</td><td>0.0</td><td>912.6</td></tr><tr><th>7</th><td>2010-01-01</td><td>06:00:00</td><td>0.0</td><td>912.0</td></tr><tr><th>8</th><td>2010-01-01</td><td>07:00:00</td><td>0.0</td><td>912.0</td></tr><tr><th>9</th><td>2010-01-01</td><td>08:00:00</td><td>0.0</td><td>912.2</td></tr><tr><th>10</th><td>2010-01-01</td><td>09:00:00</td><td>0.0</td><td>912.7</td></tr><tr><th>11</th><td>2010-01-01</td><td>10:00:00</td><td>0.0</td><td>913.3</td></tr><tr><th>12</th><td>2010-01-01</td><td>11:00:00</td><td>0.0</td><td>914.1</td></tr><tr><th>13</th><td>2010-01-01</td><td>12:00:00</td><td>0.0</td><td>914.8</td></tr><tr><th>14</th><td>2010-01-01</td><td>13:00:00</td><td>0.4</td><td>915.0</td></tr><tr><th>15</th><td>2010-01-01</td><td>14:00:00</td><td>0.0</td><td>915.0</td></tr><tr><th>16</th><td>2010-01-01</td><td>15:00:00</td><td>0.0</td><td>914.5</td></tr><tr><th>17</th><td>2010-01-01</td><td>16:00:00</td><td>0.0</td><td>913.8</td></tr><tr><th>18</th><td>2010-01-01</td><td>17:00:00</td><td>0.0</td><td>913.0</td></tr><tr><th>19</th><td>2010-01-01</td><td>18:00:00</td><td>0.0</td><td>912.2</td></tr><tr><th>20</th><td>2010-01-01</td><td>19:00:00</td><td>0.0</td><td>911.8</td></tr><tr><th>21</th><td>2010-01-01</td><td>20:00:00</td><td>0.0</td><td>911.6</td></tr><tr><th>22</th><td>2010-01-01</td><td>21:00:00</td><td>0.0</td><td>912.2</td></tr><tr><th>23</th><td>2010-01-01</td><td>22:00:00</td><td>0.0</td><td>912.9</td></tr><tr><th>24</th><td>2010-01-01</td><td>23:00:00</td><td>0.0</td><td>913.8</td></tr><tr><th>25</th><td>2010-01-02</td><td>00:00:00</td><td>0.0</td><td>914.5</td></tr><tr><th>26</th><td>2010-01-02</td><td>01:00:00</td><td>0.0</td><td>915.3</td></tr><tr><th>27</th><td>2010-01-02</td><td>02:00:00</td><td>0.0</td><td>915.4</td></tr><tr><th>28</th><td>2010-01-02</td><td>03:00:00</td><td>0.0</td><td>915.1</td></tr><tr><th>29</th><td>2010-01-02</td><td>04:00:00</td><td>0.0</td><td>915.1</td></tr><tr><th>30</th><td>2010-01-02</td><td>05:00:00</td><td>0.0</td><td>914.7</td></tr><tr><th>&vellip;</th><td>&vellip;</td><td>&vellip;</td><td>&vellip;</td><td>&vellip;</td></tr></tbody></table></div>"
      ],
      "text/latex": [
       "\\begin{tabular}{r|ccccc}\n",
       "\t& DATA (YYYY-MM-DD) & HORA (UTC) & PRECIPITACAO TOTAL, HORARIA (mm) & PRESSAO ATMOSFERICA AO NIVEL DA ESTACAO, HORARIA (mB) & \\\\\n",
       "\t\\hline\n",
       "\t& Date & Time & Float64 & Float64 & \\\\\n",
       "\t\\hline\n",
       "\t1 & 2010-01-01 & 00:00:00 & 0.0 & 912.6 & $\\dots$ \\\\\n",
       "\t2 & 2010-01-01 & 01:00:00 & 0.0 & 913.5 & $\\dots$ \\\\\n",
       "\t3 & 2010-01-01 & 02:00:00 & 0.0 & 913.8 & $\\dots$ \\\\\n",
       "\t4 & 2010-01-01 & 03:00:00 & 0.0 & 913.3 & $\\dots$ \\\\\n",
       "\t5 & 2010-01-01 & 04:00:00 & 0.0 & 912.8 & $\\dots$ \\\\\n",
       "\t6 & 2010-01-01 & 05:00:00 & 0.0 & 912.6 & $\\dots$ \\\\\n",
       "\t7 & 2010-01-01 & 06:00:00 & 0.0 & 912.0 & $\\dots$ \\\\\n",
       "\t8 & 2010-01-01 & 07:00:00 & 0.0 & 912.0 & $\\dots$ \\\\\n",
       "\t9 & 2010-01-01 & 08:00:00 & 0.0 & 912.2 & $\\dots$ \\\\\n",
       "\t10 & 2010-01-01 & 09:00:00 & 0.0 & 912.7 & $\\dots$ \\\\\n",
       "\t11 & 2010-01-01 & 10:00:00 & 0.0 & 913.3 & $\\dots$ \\\\\n",
       "\t12 & 2010-01-01 & 11:00:00 & 0.0 & 914.1 & $\\dots$ \\\\\n",
       "\t13 & 2010-01-01 & 12:00:00 & 0.0 & 914.8 & $\\dots$ \\\\\n",
       "\t14 & 2010-01-01 & 13:00:00 & 0.4 & 915.0 & $\\dots$ \\\\\n",
       "\t15 & 2010-01-01 & 14:00:00 & 0.0 & 915.0 & $\\dots$ \\\\\n",
       "\t16 & 2010-01-01 & 15:00:00 & 0.0 & 914.5 & $\\dots$ \\\\\n",
       "\t17 & 2010-01-01 & 16:00:00 & 0.0 & 913.8 & $\\dots$ \\\\\n",
       "\t18 & 2010-01-01 & 17:00:00 & 0.0 & 913.0 & $\\dots$ \\\\\n",
       "\t19 & 2010-01-01 & 18:00:00 & 0.0 & 912.2 & $\\dots$ \\\\\n",
       "\t20 & 2010-01-01 & 19:00:00 & 0.0 & 911.8 & $\\dots$ \\\\\n",
       "\t21 & 2010-01-01 & 20:00:00 & 0.0 & 911.6 & $\\dots$ \\\\\n",
       "\t22 & 2010-01-01 & 21:00:00 & 0.0 & 912.2 & $\\dots$ \\\\\n",
       "\t23 & 2010-01-01 & 22:00:00 & 0.0 & 912.9 & $\\dots$ \\\\\n",
       "\t24 & 2010-01-01 & 23:00:00 & 0.0 & 913.8 & $\\dots$ \\\\\n",
       "\t25 & 2010-01-02 & 00:00:00 & 0.0 & 914.5 & $\\dots$ \\\\\n",
       "\t26 & 2010-01-02 & 01:00:00 & 0.0 & 915.3 & $\\dots$ \\\\\n",
       "\t27 & 2010-01-02 & 02:00:00 & 0.0 & 915.4 & $\\dots$ \\\\\n",
       "\t28 & 2010-01-02 & 03:00:00 & 0.0 & 915.1 & $\\dots$ \\\\\n",
       "\t29 & 2010-01-02 & 04:00:00 & 0.0 & 915.1 & $\\dots$ \\\\\n",
       "\t30 & 2010-01-02 & 05:00:00 & 0.0 & 914.7 & $\\dots$ \\\\\n",
       "\t$\\dots$ & $\\dots$ & $\\dots$ & $\\dots$ & $\\dots$ &  \\\\\n",
       "\\end{tabular}\n"
      ],
      "text/plain": [
       "\u001b[1m8760×20 DataFrame\u001b[0m\n",
       "\u001b[1m  Row \u001b[0m│\u001b[1m DATA (YYYY-MM-DD) \u001b[0m\u001b[1m HORA (UTC) \u001b[0m\u001b[1m PRECIPITACAO TOTAL, HORARIA (mm) \u001b[0m\u001b[1m PRESS\u001b[0m ⋯\n",
       "\u001b[1m      \u001b[0m│\u001b[90m Dates.Date        \u001b[0m\u001b[90m Dates.Time \u001b[0m\u001b[90m Float64                          \u001b[0m\u001b[90m Float\u001b[0m ⋯\n",
       "──────┼─────────────────────────────────────────────────────────────────────────\n",
       "    1 │ 2010-01-01         00:00:00                                 0.0        ⋯\n",
       "    2 │ 2010-01-01         01:00:00                                 0.0\n",
       "    3 │ 2010-01-01         02:00:00                                 0.0\n",
       "    4 │ 2010-01-01         03:00:00                                 0.0\n",
       "    5 │ 2010-01-01         04:00:00                                 0.0        ⋯\n",
       "    6 │ 2010-01-01         05:00:00                                 0.0\n",
       "    7 │ 2010-01-01         06:00:00                                 0.0\n",
       "    8 │ 2010-01-01         07:00:00                                 0.0\n",
       "    9 │ 2010-01-01         08:00:00                                 0.0        ⋯\n",
       "   10 │ 2010-01-01         09:00:00                                 0.0\n",
       "   11 │ 2010-01-01         10:00:00                                 0.0\n",
       "  ⋮   │         ⋮              ⋮                      ⋮                        ⋱\n",
       " 8751 │ 2010-12-31         14:00:00                                 0.6\n",
       " 8752 │ 2010-12-31         15:00:00                                 2.8        ⋯\n",
       " 8753 │ 2010-12-31         16:00:00                                 0.4\n",
       " 8754 │ 2010-12-31         17:00:00                                 0.8\n",
       " 8755 │ 2010-12-31         18:00:00                                 1.4\n",
       " 8756 │ 2010-12-31         19:00:00                                 2.8        ⋯\n",
       " 8757 │ 2010-12-31         20:00:00                                 0.0\n",
       " 8758 │ 2010-12-31         21:00:00                                15.6\n",
       " 8759 │ 2010-12-31         22:00:00                                 0.6\n",
       " 8760 │ 2010-12-31         23:00:00                                 0.2        ⋯\n",
       "\u001b[36m                                                17 columns and 8739 rows omitted\u001b[0m"
      ]
     },
     "execution_count": 17,
     "metadata": {},
     "output_type": "execute_result"
    }
   ],
   "source": [
    "println(\"Serie do ano $(dados.serie[1].ano) para a cidade de $(dados.serie[1].cidade)\")\n",
    "dados.serie[1].dataset"
   ]
  },
  {
   "cell_type": "code",
   "execution_count": 18,
   "metadata": {},
   "outputs": [
    {
     "name": "stdout",
     "output_type": "stream",
     "text": [
      "Serie do ano 2015 para a cidade de FORMIGA\n"
     ]
    },
    {
     "data": {
      "text/html": [
       "<div class=\"data-frame\"><p>8,760 rows × 20 columns (omitted printing of 16 columns)</p><table class=\"data-frame\"><thead><tr><th></th><th>DATA (YYYY-MM-DD)</th><th>HORA (UTC)</th><th>PRECIPITACAO TOTAL, HORARIA (mm)</th><th>PRESSAO ATMOSFERICA AO NIVEL DA ESTACAO, HORARIA (mB)</th></tr><tr><th></th><th title=\"Dates.Date\">Date</th><th title=\"Dates.Time\">Time</th><th title=\"Float64\">Float64</th><th title=\"Float64\">Float64</th></tr></thead><tbody><tr><th>1</th><td>2015-01-01</td><td>00:00:00</td><td>0.0</td><td>916.2</td></tr><tr><th>2</th><td>2015-01-01</td><td>01:00:00</td><td>0.0</td><td>916.8</td></tr><tr><th>3</th><td>2015-01-01</td><td>02:00:00</td><td>0.0</td><td>916.5</td></tr><tr><th>4</th><td>2015-01-01</td><td>03:00:00</td><td>0.0</td><td>916.1</td></tr><tr><th>5</th><td>2015-01-01</td><td>04:00:00</td><td>0.0</td><td>915.7</td></tr><tr><th>6</th><td>2015-01-01</td><td>05:00:00</td><td>0.0</td><td>915.2</td></tr><tr><th>7</th><td>2015-01-01</td><td>06:00:00</td><td>0.0</td><td>915.1</td></tr><tr><th>8</th><td>2015-01-01</td><td>07:00:00</td><td>0.0</td><td>915.2</td></tr><tr><th>9</th><td>2015-01-01</td><td>08:00:00</td><td>0.0</td><td>915.6</td></tr><tr><th>10</th><td>2015-01-01</td><td>09:00:00</td><td>0.0</td><td>916.1</td></tr><tr><th>11</th><td>2015-01-01</td><td>10:00:00</td><td>0.0</td><td>916.6</td></tr><tr><th>12</th><td>2015-01-01</td><td>11:00:00</td><td>0.0</td><td>916.9</td></tr><tr><th>13</th><td>2015-01-01</td><td>12:00:00</td><td>0.0</td><td>917.1</td></tr><tr><th>14</th><td>2015-01-01</td><td>13:00:00</td><td>0.0</td><td>917.1</td></tr><tr><th>15</th><td>2015-01-01</td><td>14:00:00</td><td>0.0</td><td>916.7</td></tr><tr><th>16</th><td>2015-01-01</td><td>15:00:00</td><td>0.0</td><td>916.3</td></tr><tr><th>17</th><td>2015-01-01</td><td>16:00:00</td><td>0.0</td><td>915.9</td></tr><tr><th>18</th><td>2015-01-01</td><td>17:00:00</td><td>0.0</td><td>915.0</td></tr><tr><th>19</th><td>2015-01-01</td><td>18:00:00</td><td>0.0</td><td>914.0</td></tr><tr><th>20</th><td>2015-01-01</td><td>19:00:00</td><td>0.0</td><td>913.1</td></tr><tr><th>21</th><td>2015-01-01</td><td>20:00:00</td><td>0.0</td><td>913.2</td></tr><tr><th>22</th><td>2015-01-01</td><td>21:00:00</td><td>0.0</td><td>913.4</td></tr><tr><th>23</th><td>2015-01-01</td><td>22:00:00</td><td>0.0</td><td>914.3</td></tr><tr><th>24</th><td>2015-01-01</td><td>23:00:00</td><td>0.0</td><td>914.7</td></tr><tr><th>25</th><td>2015-01-02</td><td>00:00:00</td><td>0.0</td><td>915.6</td></tr><tr><th>26</th><td>2015-01-02</td><td>01:00:00</td><td>0.0</td><td>915.6</td></tr><tr><th>27</th><td>2015-01-02</td><td>02:00:00</td><td>0.0</td><td>915.7</td></tr><tr><th>28</th><td>2015-01-02</td><td>03:00:00</td><td>0.0</td><td>915.0</td></tr><tr><th>29</th><td>2015-01-02</td><td>04:00:00</td><td>0.0</td><td>914.6</td></tr><tr><th>30</th><td>2015-01-02</td><td>05:00:00</td><td>0.0</td><td>913.9</td></tr><tr><th>&vellip;</th><td>&vellip;</td><td>&vellip;</td><td>&vellip;</td><td>&vellip;</td></tr></tbody></table></div>"
      ],
      "text/latex": [
       "\\begin{tabular}{r|ccccc}\n",
       "\t& DATA (YYYY-MM-DD) & HORA (UTC) & PRECIPITACAO TOTAL, HORARIA (mm) & PRESSAO ATMOSFERICA AO NIVEL DA ESTACAO, HORARIA (mB) & \\\\\n",
       "\t\\hline\n",
       "\t& Date & Time & Float64 & Float64 & \\\\\n",
       "\t\\hline\n",
       "\t1 & 2015-01-01 & 00:00:00 & 0.0 & 916.2 & $\\dots$ \\\\\n",
       "\t2 & 2015-01-01 & 01:00:00 & 0.0 & 916.8 & $\\dots$ \\\\\n",
       "\t3 & 2015-01-01 & 02:00:00 & 0.0 & 916.5 & $\\dots$ \\\\\n",
       "\t4 & 2015-01-01 & 03:00:00 & 0.0 & 916.1 & $\\dots$ \\\\\n",
       "\t5 & 2015-01-01 & 04:00:00 & 0.0 & 915.7 & $\\dots$ \\\\\n",
       "\t6 & 2015-01-01 & 05:00:00 & 0.0 & 915.2 & $\\dots$ \\\\\n",
       "\t7 & 2015-01-01 & 06:00:00 & 0.0 & 915.1 & $\\dots$ \\\\\n",
       "\t8 & 2015-01-01 & 07:00:00 & 0.0 & 915.2 & $\\dots$ \\\\\n",
       "\t9 & 2015-01-01 & 08:00:00 & 0.0 & 915.6 & $\\dots$ \\\\\n",
       "\t10 & 2015-01-01 & 09:00:00 & 0.0 & 916.1 & $\\dots$ \\\\\n",
       "\t11 & 2015-01-01 & 10:00:00 & 0.0 & 916.6 & $\\dots$ \\\\\n",
       "\t12 & 2015-01-01 & 11:00:00 & 0.0 & 916.9 & $\\dots$ \\\\\n",
       "\t13 & 2015-01-01 & 12:00:00 & 0.0 & 917.1 & $\\dots$ \\\\\n",
       "\t14 & 2015-01-01 & 13:00:00 & 0.0 & 917.1 & $\\dots$ \\\\\n",
       "\t15 & 2015-01-01 & 14:00:00 & 0.0 & 916.7 & $\\dots$ \\\\\n",
       "\t16 & 2015-01-01 & 15:00:00 & 0.0 & 916.3 & $\\dots$ \\\\\n",
       "\t17 & 2015-01-01 & 16:00:00 & 0.0 & 915.9 & $\\dots$ \\\\\n",
       "\t18 & 2015-01-01 & 17:00:00 & 0.0 & 915.0 & $\\dots$ \\\\\n",
       "\t19 & 2015-01-01 & 18:00:00 & 0.0 & 914.0 & $\\dots$ \\\\\n",
       "\t20 & 2015-01-01 & 19:00:00 & 0.0 & 913.1 & $\\dots$ \\\\\n",
       "\t21 & 2015-01-01 & 20:00:00 & 0.0 & 913.2 & $\\dots$ \\\\\n",
       "\t22 & 2015-01-01 & 21:00:00 & 0.0 & 913.4 & $\\dots$ \\\\\n",
       "\t23 & 2015-01-01 & 22:00:00 & 0.0 & 914.3 & $\\dots$ \\\\\n",
       "\t24 & 2015-01-01 & 23:00:00 & 0.0 & 914.7 & $\\dots$ \\\\\n",
       "\t25 & 2015-01-02 & 00:00:00 & 0.0 & 915.6 & $\\dots$ \\\\\n",
       "\t26 & 2015-01-02 & 01:00:00 & 0.0 & 915.6 & $\\dots$ \\\\\n",
       "\t27 & 2015-01-02 & 02:00:00 & 0.0 & 915.7 & $\\dots$ \\\\\n",
       "\t28 & 2015-01-02 & 03:00:00 & 0.0 & 915.0 & $\\dots$ \\\\\n",
       "\t29 & 2015-01-02 & 04:00:00 & 0.0 & 914.6 & $\\dots$ \\\\\n",
       "\t30 & 2015-01-02 & 05:00:00 & 0.0 & 913.9 & $\\dots$ \\\\\n",
       "\t$\\dots$ & $\\dots$ & $\\dots$ & $\\dots$ & $\\dots$ &  \\\\\n",
       "\\end{tabular}\n"
      ],
      "text/plain": [
       "\u001b[1m8760×20 DataFrame\u001b[0m\n",
       "\u001b[1m  Row \u001b[0m│\u001b[1m DATA (YYYY-MM-DD) \u001b[0m\u001b[1m HORA (UTC) \u001b[0m\u001b[1m PRECIPITACAO TOTAL, HORARIA (mm) \u001b[0m\u001b[1m PRESS\u001b[0m ⋯\n",
       "\u001b[1m      \u001b[0m│\u001b[90m Dates.Date        \u001b[0m\u001b[90m Dates.Time \u001b[0m\u001b[90m Float64                          \u001b[0m\u001b[90m Float\u001b[0m ⋯\n",
       "──────┼─────────────────────────────────────────────────────────────────────────\n",
       "    1 │ 2015-01-01         00:00:00                                 0.0        ⋯\n",
       "    2 │ 2015-01-01         01:00:00                                 0.0\n",
       "    3 │ 2015-01-01         02:00:00                                 0.0\n",
       "    4 │ 2015-01-01         03:00:00                                 0.0\n",
       "    5 │ 2015-01-01         04:00:00                                 0.0        ⋯\n",
       "    6 │ 2015-01-01         05:00:00                                 0.0\n",
       "    7 │ 2015-01-01         06:00:00                                 0.0\n",
       "    8 │ 2015-01-01         07:00:00                                 0.0\n",
       "    9 │ 2015-01-01         08:00:00                                 0.0        ⋯\n",
       "   10 │ 2015-01-01         09:00:00                                 0.0\n",
       "   11 │ 2015-01-01         10:00:00                                 0.0\n",
       "  ⋮   │         ⋮              ⋮                      ⋮                        ⋱\n",
       " 8751 │ 2015-12-31         14:00:00                                 0.0\n",
       " 8752 │ 2015-12-31         15:00:00                                 0.0        ⋯\n",
       " 8753 │ 2015-12-31         16:00:00                                 0.0\n",
       " 8754 │ 2015-12-31         17:00:00                                 0.0\n",
       " 8755 │ 2015-12-31         18:00:00                                 0.0\n",
       " 8756 │ 2015-12-31         19:00:00                                 0.0        ⋯\n",
       " 8757 │ 2015-12-31         20:00:00                                 0.0\n",
       " 8758 │ 2015-12-31         21:00:00                                 0.0\n",
       " 8759 │ 2015-12-31         22:00:00                                 0.0\n",
       " 8760 │ 2015-12-31         23:00:00                                 0.0        ⋯\n",
       "\u001b[36m                                                17 columns and 8739 rows omitted\u001b[0m"
      ]
     },
     "execution_count": 18,
     "metadata": {},
     "output_type": "execute_result"
    }
   ],
   "source": [
    "println(\"Serie do ano $(dados.serie[2].ano) para a cidade de $(dados.serie[2].cidade)\")\n",
    "dados.serie[2].dataset"
   ]
  },
  {
   "cell_type": "code",
   "execution_count": 19,
   "metadata": {},
   "outputs": [
    {
     "name": "stdout",
     "output_type": "stream",
     "text": [
      "Serie do ano 2020 para a cidade de FORMIGA\n"
     ]
    },
    {
     "data": {
      "text/html": [
       "<div class=\"data-frame\"><p>8,784 rows × 20 columns (omitted printing of 16 columns)</p><table class=\"data-frame\"><thead><tr><th></th><th>Data</th><th>Hora UTC</th><th>PRECIPITACAO TOTAL, HORARIA (mm)</th><th>PRESSAO ATMOSFERICA AO NIVEL DA ESTACAO, HORARIA (mB)</th></tr><tr><th></th><th title=\"InlineStrings.String15\">String15</th><th title=\"InlineStrings.String15\">String15</th><th title=\"Union{Missing, Float64}\">Float64?</th><th title=\"Union{Missing, Float64}\">Float64?</th></tr></thead><tbody><tr><th>1</th><td>2020/01/01</td><td>0000 UTC</td><td>0.0</td><td>912.4</td></tr><tr><th>2</th><td>2020/01/01</td><td>0100 UTC</td><td>0.0</td><td>912.7</td></tr><tr><th>3</th><td>2020/01/01</td><td>0200 UTC</td><td>0.0</td><td>913.2</td></tr><tr><th>4</th><td>2020/01/01</td><td>0300 UTC</td><td>0.0</td><td>913.0</td></tr><tr><th>5</th><td>2020/01/01</td><td>0400 UTC</td><td>0.0</td><td>913.0</td></tr><tr><th>6</th><td>2020/01/01</td><td>0500 UTC</td><td>0.0</td><td>912.8</td></tr><tr><th>7</th><td>2020/01/01</td><td>0600 UTC</td><td>0.0</td><td>912.8</td></tr><tr><th>8</th><td>2020/01/01</td><td>0700 UTC</td><td>0.0</td><td>913.2</td></tr><tr><th>9</th><td>2020/01/01</td><td>0800 UTC</td><td>0.0</td><td>913.2</td></tr><tr><th>10</th><td>2020/01/01</td><td>0900 UTC</td><td>0.0</td><td>913.7</td></tr><tr><th>11</th><td>2020/01/01</td><td>1000 UTC</td><td>0.0</td><td>913.4</td></tr><tr><th>12</th><td>2020/01/01</td><td>1100 UTC</td><td>0.0</td><td>913.5</td></tr><tr><th>13</th><td>2020/01/01</td><td>1200 UTC</td><td>0.0</td><td>913.6</td></tr><tr><th>14</th><td>2020/01/01</td><td>1300 UTC</td><td>0.0</td><td>913.6</td></tr><tr><th>15</th><td>2020/01/01</td><td>1400 UTC</td><td>0.0</td><td>912.8</td></tr><tr><th>16</th><td>2020/01/01</td><td>1500 UTC</td><td>0.0</td><td>912.1</td></tr><tr><th>17</th><td>2020/01/01</td><td>1600 UTC</td><td>0.0</td><td>911.4</td></tr><tr><th>18</th><td>2020/01/01</td><td>1700 UTC</td><td>0.0</td><td>910.5</td></tr><tr><th>19</th><td>2020/01/01</td><td>1800 UTC</td><td>0.0</td><td>909.7</td></tr><tr><th>20</th><td>2020/01/01</td><td>1900 UTC</td><td>0.0</td><td>908.7</td></tr><tr><th>21</th><td>2020/01/01</td><td>2000 UTC</td><td>0.0</td><td>908.9</td></tr><tr><th>22</th><td>2020/01/01</td><td>2100 UTC</td><td>0.0</td><td>909.4</td></tr><tr><th>23</th><td>2020/01/01</td><td>2200 UTC</td><td>0.0</td><td>909.9</td></tr><tr><th>24</th><td>2020/01/01</td><td>2300 UTC</td><td>0.0</td><td>911.0</td></tr><tr><th>25</th><td>2020/01/02</td><td>0000 UTC</td><td>0.0</td><td>911.6</td></tr><tr><th>26</th><td>2020/01/02</td><td>0100 UTC</td><td>0.0</td><td>911.8</td></tr><tr><th>27</th><td>2020/01/02</td><td>0200 UTC</td><td>0.0</td><td>912.0</td></tr><tr><th>28</th><td>2020/01/02</td><td>0300 UTC</td><td>0.0</td><td>911.7</td></tr><tr><th>29</th><td>2020/01/02</td><td>0400 UTC</td><td>0.0</td><td>911.4</td></tr><tr><th>30</th><td>2020/01/02</td><td>0500 UTC</td><td>0.0</td><td>910.9</td></tr><tr><th>&vellip;</th><td>&vellip;</td><td>&vellip;</td><td>&vellip;</td><td>&vellip;</td></tr></tbody></table></div>"
      ],
      "text/latex": [
       "\\begin{tabular}{r|ccccc}\n",
       "\t& Data & Hora UTC & PRECIPITACAO TOTAL, HORARIA (mm) & PRESSAO ATMOSFERICA AO NIVEL DA ESTACAO, HORARIA (mB) & \\\\\n",
       "\t\\hline\n",
       "\t& String15 & String15 & Float64? & Float64? & \\\\\n",
       "\t\\hline\n",
       "\t1 & 2020/01/01 & 0000 UTC & 0.0 & 912.4 & $\\dots$ \\\\\n",
       "\t2 & 2020/01/01 & 0100 UTC & 0.0 & 912.7 & $\\dots$ \\\\\n",
       "\t3 & 2020/01/01 & 0200 UTC & 0.0 & 913.2 & $\\dots$ \\\\\n",
       "\t4 & 2020/01/01 & 0300 UTC & 0.0 & 913.0 & $\\dots$ \\\\\n",
       "\t5 & 2020/01/01 & 0400 UTC & 0.0 & 913.0 & $\\dots$ \\\\\n",
       "\t6 & 2020/01/01 & 0500 UTC & 0.0 & 912.8 & $\\dots$ \\\\\n",
       "\t7 & 2020/01/01 & 0600 UTC & 0.0 & 912.8 & $\\dots$ \\\\\n",
       "\t8 & 2020/01/01 & 0700 UTC & 0.0 & 913.2 & $\\dots$ \\\\\n",
       "\t9 & 2020/01/01 & 0800 UTC & 0.0 & 913.2 & $\\dots$ \\\\\n",
       "\t10 & 2020/01/01 & 0900 UTC & 0.0 & 913.7 & $\\dots$ \\\\\n",
       "\t11 & 2020/01/01 & 1000 UTC & 0.0 & 913.4 & $\\dots$ \\\\\n",
       "\t12 & 2020/01/01 & 1100 UTC & 0.0 & 913.5 & $\\dots$ \\\\\n",
       "\t13 & 2020/01/01 & 1200 UTC & 0.0 & 913.6 & $\\dots$ \\\\\n",
       "\t14 & 2020/01/01 & 1300 UTC & 0.0 & 913.6 & $\\dots$ \\\\\n",
       "\t15 & 2020/01/01 & 1400 UTC & 0.0 & 912.8 & $\\dots$ \\\\\n",
       "\t16 & 2020/01/01 & 1500 UTC & 0.0 & 912.1 & $\\dots$ \\\\\n",
       "\t17 & 2020/01/01 & 1600 UTC & 0.0 & 911.4 & $\\dots$ \\\\\n",
       "\t18 & 2020/01/01 & 1700 UTC & 0.0 & 910.5 & $\\dots$ \\\\\n",
       "\t19 & 2020/01/01 & 1800 UTC & 0.0 & 909.7 & $\\dots$ \\\\\n",
       "\t20 & 2020/01/01 & 1900 UTC & 0.0 & 908.7 & $\\dots$ \\\\\n",
       "\t21 & 2020/01/01 & 2000 UTC & 0.0 & 908.9 & $\\dots$ \\\\\n",
       "\t22 & 2020/01/01 & 2100 UTC & 0.0 & 909.4 & $\\dots$ \\\\\n",
       "\t23 & 2020/01/01 & 2200 UTC & 0.0 & 909.9 & $\\dots$ \\\\\n",
       "\t24 & 2020/01/01 & 2300 UTC & 0.0 & 911.0 & $\\dots$ \\\\\n",
       "\t25 & 2020/01/02 & 0000 UTC & 0.0 & 911.6 & $\\dots$ \\\\\n",
       "\t26 & 2020/01/02 & 0100 UTC & 0.0 & 911.8 & $\\dots$ \\\\\n",
       "\t27 & 2020/01/02 & 0200 UTC & 0.0 & 912.0 & $\\dots$ \\\\\n",
       "\t28 & 2020/01/02 & 0300 UTC & 0.0 & 911.7 & $\\dots$ \\\\\n",
       "\t29 & 2020/01/02 & 0400 UTC & 0.0 & 911.4 & $\\dots$ \\\\\n",
       "\t30 & 2020/01/02 & 0500 UTC & 0.0 & 910.9 & $\\dots$ \\\\\n",
       "\t$\\dots$ & $\\dots$ & $\\dots$ & $\\dots$ & $\\dots$ &  \\\\\n",
       "\\end{tabular}\n"
      ],
      "text/plain": [
       "\u001b[1m8784×20 DataFrame\u001b[0m\n",
       "\u001b[1m  Row \u001b[0m│\u001b[1m Data       \u001b[0m\u001b[1m Hora UTC \u001b[0m\u001b[1m PRECIPITACAO TOTAL, HORARIA (mm) \u001b[0m\u001b[1m PRESSAO ATMOSF\u001b[0m ⋯\n",
       "\u001b[1m      \u001b[0m│\u001b[90m String15   \u001b[0m\u001b[90m String15 \u001b[0m\u001b[90m Union{Missing, Float64}          \u001b[0m\u001b[90m Union{Missing,\u001b[0m ⋯\n",
       "──────┼─────────────────────────────────────────────────────────────────────────\n",
       "    1 │ 2020/01/01  0000 UTC                               0.0                 ⋯\n",
       "    2 │ 2020/01/01  0100 UTC                               0.0\n",
       "    3 │ 2020/01/01  0200 UTC                               0.0\n",
       "    4 │ 2020/01/01  0300 UTC                               0.0\n",
       "    5 │ 2020/01/01  0400 UTC                               0.0                 ⋯\n",
       "    6 │ 2020/01/01  0500 UTC                               0.0\n",
       "    7 │ 2020/01/01  0600 UTC                               0.0\n",
       "    8 │ 2020/01/01  0700 UTC                               0.0\n",
       "    9 │ 2020/01/01  0800 UTC                               0.0                 ⋯\n",
       "   10 │ 2020/01/01  0900 UTC                               0.0\n",
       "   11 │ 2020/01/01  1000 UTC                               0.0\n",
       "  ⋮   │     ⋮          ⋮                     ⋮                                 ⋱\n",
       " 8775 │ 2020/12/31  1400 UTC                               0.0\n",
       " 8776 │ 2020/12/31  1500 UTC                               0.0                 ⋯\n",
       " 8777 │ 2020/12/31  1600 UTC                               0.0\n",
       " 8778 │ 2020/12/31  1700 UTC                               0.0\n",
       " 8779 │ 2020/12/31  1800 UTC                               0.0\n",
       " 8780 │ 2020/12/31  1900 UTC                               0.0                 ⋯\n",
       " 8781 │ 2020/12/31  2000 UTC                               0.0\n",
       " 8782 │ 2020/12/31  2100 UTC                               0.0\n",
       " 8783 │ 2020/12/31  2200 UTC                               0.0\n",
       " 8784 │ 2020/12/31  2300 UTC                               0.0                 ⋯\n",
       "\u001b[36m                                                17 columns and 8763 rows omitted\u001b[0m"
      ]
     },
     "execution_count": 19,
     "metadata": {},
     "output_type": "execute_result"
    }
   ],
   "source": [
    "println(\"Serie do ano $(dados.serie[3].ano) para a cidade de $(dados.serie[3].cidade)\")\n",
    "dados.serie[3].dataset"
   ]
  },
  {
   "cell_type": "markdown",
   "metadata": {},
   "source": [
    "### Aquisição de dados para múltiplos períodos\n",
    "\n",
    "Como existe alta probabilidade, principalmente por tratar-se de séries temporais, que as aquisições se refiram a períodos sequenciais (adjacentes) a determinação do período total também pode ser realizada via `UnitRange` (vide: \n",
    "[https://docs.julialang.org/en/v1/base/collections/#Base.UnitRange]). Nestes casos o parâmetro `intervtemp` pode ser escrito como uma sequência de forma bastante reduzida. Veja o exemplo:"
   ]
  },
  {
   "cell_type": "code",
   "execution_count": 20,
   "metadata": {},
   "outputs": [
    {
     "name": "stdout",
     "output_type": "stream",
     "text": [
      "Baixando arquivos para o ano 2010: 98.19     \r"
     ]
    },
    {
     "name": "stderr",
     "output_type": "stream",
     "text": [
      "Excessive output truncated after 524334 bytes."
     ]
    },
    {
     "name": "stdout",
     "output_type": "stream",
     "text": [
      "Baixando arquivos para o ano 2010: 98.22 \r"
     ]
    }
   ],
   "source": [
    "interv_temp = 2010:2014 #intervado de dados entre 2010 à 2014\n",
    "dados = obter_dados(fonte_dados, [\"FORMIGA\"], interv_temp); \n",
    "columns_change = (\n",
    "    3=>\"PRECIPITACAO TOTAL, HORARIA (mm)\",\n",
    "    5=>\"PRESSAO ATMOSFERICA MAX.NA HORA ANT.(AUT) (mB)\",\n",
    "    6=>\"PRESSAO ATMOSFERICA MIN.NA HORA ANT.(AUT) (mB)\",\n",
    "    7=>\"RADIACAO GLOBAL (KJ/m²)\",\n",
    "    8=>\"TEMPERATURA DO AR - BULBO SECO, HORARIA (°C)\",\n",
    "    9=>\"TEMPERATURA DO PONTO DE ORVALHO (°C)\",\n",
    "    10=>\"TEMPERATURA MAXIMA NA HORA ANT.(AUT) (°C)\",\n",
    "    11=>\"TEMPERATURA MINIMA NA HORA ANT.(AUT) (°C)\",\n",
    "    12=>\"TEMPERATURA ORVALHO MAX. NA HORA ANT. (AUT) (°C)\",\n",
    "    13=>\"TEMPERATURA ORVALHO MIN. NA HORA ANT. (AUT) (°C)\",\n",
    "    17=>\"VENTO, DIRECAO HORARIA (gr) (°(gr))\"\n",
    ")\n",
    "for idx_ano in 1:length(interv_temp)\n",
    "    for col in columns_change\n",
    "       rename!(dados.serie[idx_ano].dataset, col)\n",
    "    end\n",
    "end"
   ]
  },
  {
   "cell_type": "markdown",
   "metadata": {},
   "source": [
    "Os dados podem então ser acessados diretamente pelo campo `dataset`. Aqui usa-se a função `first` para exibir apenas as primeiras cinco linhas de cada série. "
   ]
  },
  {
   "cell_type": "code",
   "execution_count": 21,
   "metadata": {},
   "outputs": [
    {
     "name": "stdout",
     "output_type": "stream",
     "text": [
      "Serie do ano 2010 para a cidade de FORMIGA\n"
     ]
    },
    {
     "data": {
      "text/html": [
       "<div class=\"data-frame\"><p>5 rows × 20 columns (omitted printing of 16 columns)</p><table class=\"data-frame\"><thead><tr><th></th><th>DATA (YYYY-MM-DD)</th><th>HORA (UTC)</th><th>PRECIPITACAO TOTAL, HORARIA (mm)</th><th>PRESSAO ATMOSFERICA AO NIVEL DA ESTACAO, HORARIA (mB)</th></tr><tr><th></th><th title=\"Dates.Date\">Date</th><th title=\"Dates.Time\">Time</th><th title=\"Float64\">Float64</th><th title=\"Float64\">Float64</th></tr></thead><tbody><tr><th>1</th><td>2010-01-01</td><td>00:00:00</td><td>0.0</td><td>912.6</td></tr><tr><th>2</th><td>2010-01-01</td><td>01:00:00</td><td>0.0</td><td>913.5</td></tr><tr><th>3</th><td>2010-01-01</td><td>02:00:00</td><td>0.0</td><td>913.8</td></tr><tr><th>4</th><td>2010-01-01</td><td>03:00:00</td><td>0.0</td><td>913.3</td></tr><tr><th>5</th><td>2010-01-01</td><td>04:00:00</td><td>0.0</td><td>912.8</td></tr></tbody></table></div>"
      ],
      "text/latex": [
       "\\begin{tabular}{r|ccccc}\n",
       "\t& DATA (YYYY-MM-DD) & HORA (UTC) & PRECIPITACAO TOTAL, HORARIA (mm) & PRESSAO ATMOSFERICA AO NIVEL DA ESTACAO, HORARIA (mB) & \\\\\n",
       "\t\\hline\n",
       "\t& Date & Time & Float64 & Float64 & \\\\\n",
       "\t\\hline\n",
       "\t1 & 2010-01-01 & 00:00:00 & 0.0 & 912.6 & $\\dots$ \\\\\n",
       "\t2 & 2010-01-01 & 01:00:00 & 0.0 & 913.5 & $\\dots$ \\\\\n",
       "\t3 & 2010-01-01 & 02:00:00 & 0.0 & 913.8 & $\\dots$ \\\\\n",
       "\t4 & 2010-01-01 & 03:00:00 & 0.0 & 913.3 & $\\dots$ \\\\\n",
       "\t5 & 2010-01-01 & 04:00:00 & 0.0 & 912.8 & $\\dots$ \\\\\n",
       "\\end{tabular}\n"
      ],
      "text/plain": [
       "\u001b[1m5×20 DataFrame\u001b[0m\n",
       "\u001b[1m Row \u001b[0m│\u001b[1m DATA (YYYY-MM-DD) \u001b[0m\u001b[1m HORA (UTC) \u001b[0m\u001b[1m PRECIPITACAO TOTAL, HORARIA (mm) \u001b[0m\u001b[1m PRESSA\u001b[0m ⋯\n",
       "\u001b[1m     \u001b[0m│\u001b[90m Dates.Date        \u001b[0m\u001b[90m Dates.Time \u001b[0m\u001b[90m Float64                          \u001b[0m\u001b[90m Float6\u001b[0m ⋯\n",
       "─────┼──────────────────────────────────────────────────────────────────────────\n",
       "   1 │ 2010-01-01         00:00:00                                 0.0         ⋯\n",
       "   2 │ 2010-01-01         01:00:00                                 0.0\n",
       "   3 │ 2010-01-01         02:00:00                                 0.0\n",
       "   4 │ 2010-01-01         03:00:00                                 0.0\n",
       "   5 │ 2010-01-01         04:00:00                                 0.0         ⋯\n",
       "\u001b[36m                                                              17 columns omitted\u001b[0m"
      ]
     },
     "execution_count": 21,
     "metadata": {},
     "output_type": "execute_result"
    }
   ],
   "source": [
    "println(\"Serie do ano $(dados.serie[1].ano) para a cidade de $(dados.serie[1].cidade)\")\n",
    "first(dados.serie[1].dataset, 5)"
   ]
  },
  {
   "cell_type": "code",
   "execution_count": 22,
   "metadata": {},
   "outputs": [
    {
     "name": "stdout",
     "output_type": "stream",
     "text": [
      "Serie do ano 2011 para a cidade de FORMIGA\n"
     ]
    },
    {
     "data": {
      "text/html": [
       "<div class=\"data-frame\"><p>5 rows × 20 columns (omitted printing of 16 columns)</p><table class=\"data-frame\"><thead><tr><th></th><th>DATA (YYYY-MM-DD)</th><th>HORA (UTC)</th><th>PRECIPITACAO TOTAL, HORARIA (mm)</th><th>PRESSAO ATMOSFERICA AO NIVEL DA ESTACAO, HORARIA (mB)</th></tr><tr><th></th><th title=\"Dates.Date\">Date</th><th title=\"Dates.Time\">Time</th><th title=\"Float64\">Float64</th><th title=\"Float64\">Float64</th></tr></thead><tbody><tr><th>1</th><td>2011-01-01</td><td>00:00:00</td><td>0.2</td><td>910.6</td></tr><tr><th>2</th><td>2011-01-01</td><td>01:00:00</td><td>1.0</td><td>910.6</td></tr><tr><th>3</th><td>2011-01-01</td><td>02:00:00</td><td>0.0</td><td>911.1</td></tr><tr><th>4</th><td>2011-01-01</td><td>03:00:00</td><td>0.0</td><td>911.0</td></tr><tr><th>5</th><td>2011-01-01</td><td>04:00:00</td><td>0.2</td><td>910.4</td></tr></tbody></table></div>"
      ],
      "text/latex": [
       "\\begin{tabular}{r|ccccc}\n",
       "\t& DATA (YYYY-MM-DD) & HORA (UTC) & PRECIPITACAO TOTAL, HORARIA (mm) & PRESSAO ATMOSFERICA AO NIVEL DA ESTACAO, HORARIA (mB) & \\\\\n",
       "\t\\hline\n",
       "\t& Date & Time & Float64 & Float64 & \\\\\n",
       "\t\\hline\n",
       "\t1 & 2011-01-01 & 00:00:00 & 0.2 & 910.6 & $\\dots$ \\\\\n",
       "\t2 & 2011-01-01 & 01:00:00 & 1.0 & 910.6 & $\\dots$ \\\\\n",
       "\t3 & 2011-01-01 & 02:00:00 & 0.0 & 911.1 & $\\dots$ \\\\\n",
       "\t4 & 2011-01-01 & 03:00:00 & 0.0 & 911.0 & $\\dots$ \\\\\n",
       "\t5 & 2011-01-01 & 04:00:00 & 0.2 & 910.4 & $\\dots$ \\\\\n",
       "\\end{tabular}\n"
      ],
      "text/plain": [
       "\u001b[1m5×20 DataFrame\u001b[0m\n",
       "\u001b[1m Row \u001b[0m│\u001b[1m DATA (YYYY-MM-DD) \u001b[0m\u001b[1m HORA (UTC) \u001b[0m\u001b[1m PRECIPITACAO TOTAL, HORARIA (mm) \u001b[0m\u001b[1m PRESSA\u001b[0m ⋯\n",
       "\u001b[1m     \u001b[0m│\u001b[90m Dates.Date        \u001b[0m\u001b[90m Dates.Time \u001b[0m\u001b[90m Float64                          \u001b[0m\u001b[90m Float6\u001b[0m ⋯\n",
       "─────┼──────────────────────────────────────────────────────────────────────────\n",
       "   1 │ 2011-01-01         00:00:00                                 0.2         ⋯\n",
       "   2 │ 2011-01-01         01:00:00                                 1.0\n",
       "   3 │ 2011-01-01         02:00:00                                 0.0\n",
       "   4 │ 2011-01-01         03:00:00                                 0.0\n",
       "   5 │ 2011-01-01         04:00:00                                 0.2         ⋯\n",
       "\u001b[36m                                                              17 columns omitted\u001b[0m"
      ]
     },
     "execution_count": 22,
     "metadata": {},
     "output_type": "execute_result"
    }
   ],
   "source": [
    "println(\"Serie do ano $(dados.serie[2].ano) para a cidade de $(dados.serie[2].cidade)\")\n",
    "first(dados.serie[2].dataset, 5)"
   ]
  },
  {
   "cell_type": "code",
   "execution_count": 23,
   "metadata": {},
   "outputs": [
    {
     "name": "stdout",
     "output_type": "stream",
     "text": [
      "Serie do ano 2012 para a cidade de FORMIGA\n"
     ]
    },
    {
     "data": {
      "text/html": [
       "<div class=\"data-frame\"><p>5 rows × 20 columns (omitted printing of 16 columns)</p><table class=\"data-frame\"><thead><tr><th></th><th>DATA (YYYY-MM-DD)</th><th>HORA (UTC)</th><th>PRECIPITACAO TOTAL, HORARIA (mm)</th><th>PRESSAO ATMOSFERICA AO NIVEL DA ESTACAO, HORARIA (mB)</th></tr><tr><th></th><th title=\"Dates.Date\">Date</th><th title=\"Dates.Time\">Time</th><th title=\"Float64\">Float64</th><th title=\"Float64\">Float64</th></tr></thead><tbody><tr><th>1</th><td>2012-01-01</td><td>00:00:00</td><td>1.8</td><td>911.9</td></tr><tr><th>2</th><td>2012-01-01</td><td>01:00:00</td><td>3.8</td><td>911.7</td></tr><tr><th>3</th><td>2012-01-01</td><td>02:00:00</td><td>1.2</td><td>911.5</td></tr><tr><th>4</th><td>2012-01-01</td><td>03:00:00</td><td>1.0</td><td>910.8</td></tr><tr><th>5</th><td>2012-01-01</td><td>04:00:00</td><td>0.6</td><td>910.1</td></tr></tbody></table></div>"
      ],
      "text/latex": [
       "\\begin{tabular}{r|ccccc}\n",
       "\t& DATA (YYYY-MM-DD) & HORA (UTC) & PRECIPITACAO TOTAL, HORARIA (mm) & PRESSAO ATMOSFERICA AO NIVEL DA ESTACAO, HORARIA (mB) & \\\\\n",
       "\t\\hline\n",
       "\t& Date & Time & Float64 & Float64 & \\\\\n",
       "\t\\hline\n",
       "\t1 & 2012-01-01 & 00:00:00 & 1.8 & 911.9 & $\\dots$ \\\\\n",
       "\t2 & 2012-01-01 & 01:00:00 & 3.8 & 911.7 & $\\dots$ \\\\\n",
       "\t3 & 2012-01-01 & 02:00:00 & 1.2 & 911.5 & $\\dots$ \\\\\n",
       "\t4 & 2012-01-01 & 03:00:00 & 1.0 & 910.8 & $\\dots$ \\\\\n",
       "\t5 & 2012-01-01 & 04:00:00 & 0.6 & 910.1 & $\\dots$ \\\\\n",
       "\\end{tabular}\n"
      ],
      "text/plain": [
       "\u001b[1m5×20 DataFrame\u001b[0m\n",
       "\u001b[1m Row \u001b[0m│\u001b[1m DATA (YYYY-MM-DD) \u001b[0m\u001b[1m HORA (UTC) \u001b[0m\u001b[1m PRECIPITACAO TOTAL, HORARIA (mm) \u001b[0m\u001b[1m PRESSA\u001b[0m ⋯\n",
       "\u001b[1m     \u001b[0m│\u001b[90m Dates.Date        \u001b[0m\u001b[90m Dates.Time \u001b[0m\u001b[90m Float64                          \u001b[0m\u001b[90m Float6\u001b[0m ⋯\n",
       "─────┼──────────────────────────────────────────────────────────────────────────\n",
       "   1 │ 2012-01-01         00:00:00                                 1.8         ⋯\n",
       "   2 │ 2012-01-01         01:00:00                                 3.8\n",
       "   3 │ 2012-01-01         02:00:00                                 1.2\n",
       "   4 │ 2012-01-01         03:00:00                                 1.0\n",
       "   5 │ 2012-01-01         04:00:00                                 0.6         ⋯\n",
       "\u001b[36m                                                              17 columns omitted\u001b[0m"
      ]
     },
     "execution_count": 23,
     "metadata": {},
     "output_type": "execute_result"
    }
   ],
   "source": [
    "println(\"Serie do ano $(dados.serie[3].ano) para a cidade de $(dados.serie[3].cidade)\")\n",
    "first(dados.serie[3].dataset, 5)"
   ]
  },
  {
   "cell_type": "code",
   "execution_count": 24,
   "metadata": {},
   "outputs": [
    {
     "name": "stdout",
     "output_type": "stream",
     "text": [
      "Serie do ano 2013 para a cidade de FORMIGA\n"
     ]
    },
    {
     "data": {
      "text/html": [
       "<div class=\"data-frame\"><p>4 rows × 20 columns (omitted printing of 16 columns)</p><table class=\"data-frame\"><thead><tr><th></th><th>DATA (YYYY-MM-DD)</th><th>HORA (UTC)</th><th>PRECIPITACAO TOTAL, HORARIA (mm)</th><th>PRESSAO ATMOSFERICA AO NIVEL DA ESTACAO, HORARIA (mB)</th></tr><tr><th></th><th title=\"Dates.Date\">Date</th><th title=\"Dates.Time\">Time</th><th title=\"Float64\">Float64</th><th title=\"Float64\">Float64</th></tr></thead><tbody><tr><th>1</th><td>2013-01-01</td><td>00:00:00</td><td>0.0</td><td>915.3</td></tr><tr><th>2</th><td>2013-01-01</td><td>01:00:00</td><td>0.0</td><td>915.8</td></tr><tr><th>3</th><td>2013-01-01</td><td>02:00:00</td><td>0.0</td><td>916.0</td></tr><tr><th>4</th><td>2013-01-01</td><td>03:00:00</td><td>0.0</td><td>915.8</td></tr></tbody></table></div>"
      ],
      "text/latex": [
       "\\begin{tabular}{r|ccccc}\n",
       "\t& DATA (YYYY-MM-DD) & HORA (UTC) & PRECIPITACAO TOTAL, HORARIA (mm) & PRESSAO ATMOSFERICA AO NIVEL DA ESTACAO, HORARIA (mB) & \\\\\n",
       "\t\\hline\n",
       "\t& Date & Time & Float64 & Float64 & \\\\\n",
       "\t\\hline\n",
       "\t1 & 2013-01-01 & 00:00:00 & 0.0 & 915.3 & $\\dots$ \\\\\n",
       "\t2 & 2013-01-01 & 01:00:00 & 0.0 & 915.8 & $\\dots$ \\\\\n",
       "\t3 & 2013-01-01 & 02:00:00 & 0.0 & 916.0 & $\\dots$ \\\\\n",
       "\t4 & 2013-01-01 & 03:00:00 & 0.0 & 915.8 & $\\dots$ \\\\\n",
       "\\end{tabular}\n"
      ],
      "text/plain": [
       "\u001b[1m4×20 DataFrame\u001b[0m\n",
       "\u001b[1m Row \u001b[0m│\u001b[1m DATA (YYYY-MM-DD) \u001b[0m\u001b[1m HORA (UTC) \u001b[0m\u001b[1m PRECIPITACAO TOTAL, HORARIA (mm) \u001b[0m\u001b[1m PRESSA\u001b[0m ⋯\n",
       "\u001b[1m     \u001b[0m│\u001b[90m Dates.Date        \u001b[0m\u001b[90m Dates.Time \u001b[0m\u001b[90m Float64                          \u001b[0m\u001b[90m Float6\u001b[0m ⋯\n",
       "─────┼──────────────────────────────────────────────────────────────────────────\n",
       "   1 │ 2013-01-01         00:00:00                                 0.0         ⋯\n",
       "   2 │ 2013-01-01         01:00:00                                 0.0\n",
       "   3 │ 2013-01-01         02:00:00                                 0.0\n",
       "   4 │ 2013-01-01         03:00:00                                 0.0\n",
       "\u001b[36m                                                              17 columns omitted\u001b[0m"
      ]
     },
     "execution_count": 24,
     "metadata": {},
     "output_type": "execute_result"
    }
   ],
   "source": [
    "println(\"Serie do ano $(dados.serie[4].ano) para a cidade de $(dados.serie[4].cidade)\")\n",
    "first(dados.serie[4].dataset, 4)"
   ]
  },
  {
   "cell_type": "code",
   "execution_count": 25,
   "metadata": {},
   "outputs": [
    {
     "name": "stdout",
     "output_type": "stream",
     "text": [
      "Serie do ano 2014 para a cidade de FORMIGA\n"
     ]
    },
    {
     "data": {
      "text/html": [
       "<div class=\"data-frame\"><p>5 rows × 20 columns (omitted printing of 16 columns)</p><table class=\"data-frame\"><thead><tr><th></th><th>DATA (YYYY-MM-DD)</th><th>HORA (UTC)</th><th>PRECIPITACAO TOTAL, HORARIA (mm)</th><th>PRESSAO ATMOSFERICA AO NIVEL DA ESTACAO, HORARIA (mB)</th></tr><tr><th></th><th title=\"Dates.Date\">Date</th><th title=\"Dates.Time\">Time</th><th title=\"Float64\">Float64</th><th title=\"Float64\">Float64</th></tr></thead><tbody><tr><th>1</th><td>2014-01-01</td><td>00:00:00</td><td>0.0</td><td>915.6</td></tr><tr><th>2</th><td>2014-01-01</td><td>01:00:00</td><td>0.0</td><td>916.2</td></tr><tr><th>3</th><td>2014-01-01</td><td>02:00:00</td><td>0.0</td><td>915.8</td></tr><tr><th>4</th><td>2014-01-01</td><td>03:00:00</td><td>0.0</td><td>915.6</td></tr><tr><th>5</th><td>2014-01-01</td><td>04:00:00</td><td>0.0</td><td>915.1</td></tr></tbody></table></div>"
      ],
      "text/latex": [
       "\\begin{tabular}{r|ccccc}\n",
       "\t& DATA (YYYY-MM-DD) & HORA (UTC) & PRECIPITACAO TOTAL, HORARIA (mm) & PRESSAO ATMOSFERICA AO NIVEL DA ESTACAO, HORARIA (mB) & \\\\\n",
       "\t\\hline\n",
       "\t& Date & Time & Float64 & Float64 & \\\\\n",
       "\t\\hline\n",
       "\t1 & 2014-01-01 & 00:00:00 & 0.0 & 915.6 & $\\dots$ \\\\\n",
       "\t2 & 2014-01-01 & 01:00:00 & 0.0 & 916.2 & $\\dots$ \\\\\n",
       "\t3 & 2014-01-01 & 02:00:00 & 0.0 & 915.8 & $\\dots$ \\\\\n",
       "\t4 & 2014-01-01 & 03:00:00 & 0.0 & 915.6 & $\\dots$ \\\\\n",
       "\t5 & 2014-01-01 & 04:00:00 & 0.0 & 915.1 & $\\dots$ \\\\\n",
       "\\end{tabular}\n"
      ],
      "text/plain": [
       "\u001b[1m5×20 DataFrame\u001b[0m\n",
       "\u001b[1m Row \u001b[0m│\u001b[1m DATA (YYYY-MM-DD) \u001b[0m\u001b[1m HORA (UTC) \u001b[0m\u001b[1m PRECIPITACAO TOTAL, HORARIA (mm) \u001b[0m\u001b[1m PRESSA\u001b[0m ⋯\n",
       "\u001b[1m     \u001b[0m│\u001b[90m Dates.Date        \u001b[0m\u001b[90m Dates.Time \u001b[0m\u001b[90m Float64                          \u001b[0m\u001b[90m Float6\u001b[0m ⋯\n",
       "─────┼──────────────────────────────────────────────────────────────────────────\n",
       "   1 │ 2014-01-01         00:00:00                                 0.0         ⋯\n",
       "   2 │ 2014-01-01         01:00:00                                 0.0\n",
       "   3 │ 2014-01-01         02:00:00                                 0.0\n",
       "   4 │ 2014-01-01         03:00:00                                 0.0\n",
       "   5 │ 2014-01-01         04:00:00                                 0.0         ⋯\n",
       "\u001b[36m                                                              17 columns omitted\u001b[0m"
      ]
     },
     "execution_count": 25,
     "metadata": {},
     "output_type": "execute_result"
    }
   ],
   "source": [
    "println(\"Serie do ano $(dados.serie[5].ano) para a cidade de $(dados.serie[5].cidade)\")\n",
    "first(dados.serie[5].dataset, 5)"
   ]
  },
  {
   "cell_type": "markdown",
   "metadata": {},
   "source": [
    "**Autor:** Reginaldo Gonçalves Leão Junior (prof.reginaldo.leao@gmail.com)\n",
    "\n",
    "*Todos os direitos reservados*"
   ]
  }
 ],
 "metadata": {
  "kernel_info": {
   "name": "python3"
  },
  "kernelspec": {
   "display_name": "Julia 1.7.3",
   "language": "julia",
   "name": "julia-1.7"
  },
  "language_info": {
   "file_extension": ".jl",
   "mimetype": "application/julia",
   "name": "julia",
   "version": "1.7.3"
  },
  "nteract": {
   "version": "0.28.0"
  }
 },
 "nbformat": 4,
 "nbformat_minor": 4
}
