{
 "cells": [
  {
   "cell_type": "markdown",
   "id": "modern-filling",
   "metadata": {},
   "source": [
    "# TCC - Victor Gonçalves\n",
    "## Truncagem e tratamento de dados\n",
    "Autor: Prof. Dr. Reginaldo Gonçalves Leão Junior\n",
    "\n",
    "Neste *notebook* são mostrados os métodos empregados para a truncagem das tabelas de dados (*dataframes*) e tratamento das séries temporais.\n",
    "\n",
    "### Seleção de *Features*\n",
    "\n",
    "Uma boa parcela dos estudos de previsão de potência, independente do método de ML utilizado, realizam um estudo de seleção de *features* e dimensionamento de *train*, *validation* e *test set*. No entanto, recomendo o estudo de *Torres et al.* (2019) como parâmetro de seleção destes valores, as recomendações se baseiam em uma truncagem dos dados em 70% para treinamento e 30% para validação.  As *features* recomendadas para técnicas baseadas em *big data* são descritas na tabela com nomeclatura ajustada ao *dataset* disponível e utilizando símbolos para a nomeaçã:\n",
    "\n",
    " ID  | Nome        | Descrição                     | Unidade\n",
    "-----|-------------|-------------------------------|--------\n",
    "1    | `:DATE`     | Data da amostragem            | aaaa-mm-dd\n",
    "2    | `:HORA`     | Hora da amostragem            | UTC \n",
    "3    | `:DTMIN_C`  | Temperatura diária mínima     | °C\n",
    "4    | `:DTMAX_C`  | Temperatura diária máxima     | °C\n",
    "5    | `:ADRAIN`   | Precipitação diária acumulada | mm\n",
    "6    | `:ADSOLPW`  | Radiação global acumulada     | KJ/m²\n",
    "\n",
    "O método de soma acumulativa considera como primeira hora de acumulação o primeiro horário em que `:ADSOLPW` $> 0$ e se aplica tanto a precipitação quanto a radiação global. Isto evita que eventos meteorológicos fora dos momentos de geração impactem no comportamento da rede neural. Além disto, e para evitar o mesmo efeito, as máximas e mínimas temperaturas serão selecionadas dentre os horários de acumulação, evitando, neste caso, impactos comportamentais na rede neural induzidos pelas baixas temperaturas do período da noite. "
   ]
  },
  {
   "cell_type": "code",
   "execution_count": null,
   "id": "rural-helicopter",
   "metadata": {},
   "outputs": [],
   "source": []
  }
 ],
 "metadata": {
  "kernelspec": {
   "display_name": "Julia 1.8.5",
   "language": "julia",
   "name": "julia-1.8"
  },
  "language_info": {
   "file_extension": ".jl",
   "mimetype": "application/julia",
   "name": "julia",
   "version": "1.8.5"
  }
 },
 "nbformat": 4,
 "nbformat_minor": 5
}
