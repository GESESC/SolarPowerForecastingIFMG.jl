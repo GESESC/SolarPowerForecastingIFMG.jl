{
 "cells": [
  {
   "cell_type": "markdown",
   "id": "intellectual-measurement",
   "metadata": {},
   "source": [
    "# TCC - Victor Gonçalves\n",
    "## Truncagem de dados\n",
    "Autor: Prof. Dr. Reginaldo Gonçalves Leão Junior"
   ]
  },
  {
   "cell_type": "code",
   "execution_count": null,
   "id": "acting-characteristic",
   "metadata": {},
   "outputs": [],
   "source": []
  }
 ],
 "metadata": {
  "kernelspec": {
   "display_name": "Julia nodeps 1.7.3",
   "language": "julia",
   "name": "julia-nodeps-1.7"
  },
  "language_info": {
   "file_extension": ".jl",
   "mimetype": "application/julia",
   "name": "julia",
   "version": "1.7.3"
  }
 },
 "nbformat": 4,
 "nbformat_minor": 5
}
