{
  "cells": [
    {
      "cell_type": "markdown",
      "source": [
        "# TCC - Victor Gonçalves\n",
        "## Instruções de uso do código\n",
        "Autor: Prof. Dr. Reginaldo Gonçalves Leão Junior\n",
        "\n",
        "### Descrição da Proposta e Ferramentas\n",
        "A corrente proposta do trabalho consiste no uso de uma rede neural recorrente (RNN) com camadas do tipo *long short-term memory* para predição da potência solar na microrregião de Formiga ou na Mesorregião Oeste de Minas Gerais. Os dados de treinamento do modelo devem ser obtidos de *datasets* gratuítos disponibilizados na web e os dados climáticos da região obtidos do INMET.(https://portal.inmet.gov.br/dadoshistoricos).\n",
        "\n",
        "Por motivos de desempenho, o modelo será desenvolvido na linguagem Julia (+1.7 - https://julialang.org/downloads/) utilizando a biblioteca Flux.jl (https://fluxml.ai/Flux.jl/stable/) para a implementação das soluções baseadas em ML. "
      ],
      "metadata": {
        "nteract": {
          "transient": {
            "deleting": false
          }
        }
      }
    },
    {
      "cell_type": "markdown",
      "source": [],
      "metadata": {
        "nteract": {
          "transient": {
            "deleting": false
          }
        }
      }
    }
  ],
  "metadata": {
    "kernel_info": {
      "name": "python3"
    },
    "language_info": {
      "file_extension": ".jl",
      "name": "julia",
      "mimetype": "application/julia",
      "version": "1.7.1"
    },
    "kernelspec": {
      "argv": [
        "python",
        "-m",
        "ipykernel_launcher",
        "-f",
        "{connection_file}"
      ],
      "display_name": "Python 3",
      "language": "python",
      "name": "python3"
    },
    "nteract": {
      "version": "0.28.0"
    }
  },
  "nbformat": 4,
  "nbformat_minor": 0
}