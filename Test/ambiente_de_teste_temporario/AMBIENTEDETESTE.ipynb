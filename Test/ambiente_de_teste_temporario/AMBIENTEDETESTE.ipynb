{
 "cells": [
  {
   "cell_type": "markdown",
   "id": "official-journey",
   "metadata": {},
   "source": [
    "# AMBIENTE DE TESTE"
   ]
  },
  {
   "cell_type": "code",
   "execution_count": 1,
   "id": "toxic-volunteer",
   "metadata": {},
   "outputs": [
    {
     "name": "stderr",
     "output_type": "stream",
     "text": [
      "\u001b[32m\u001b[1m  Activating\u001b[22m\u001b[39m project at `~/GITHUBexample/SolarPowerForecastingIFMG.jl/Test/ambiente_de_teste_temporario`\n"
     ]
    }
   ],
   "source": [
    "using Pkg\n",
    "Pkg.activate(\".\")\n",
    "#Pkg.develop(path=\"../..\")"
   ]
  },
  {
   "cell_type": "code",
   "execution_count": 2,
   "id": "7230ea9e",
   "metadata": {},
   "outputs": [
    {
     "name": "stderr",
     "output_type": "stream",
     "text": [
      "\u001b[32m\u001b[1m    Updating\u001b[22m\u001b[39m registry at `~/.julia/registries/General.toml`\n",
      "\u001b[32m\u001b[1m  No Changes\u001b[22m\u001b[39m to `~/GITHUBexample/SolarPowerForecastingIFMG.jl/Test/ambiente_de_teste_temporario/Project.toml`\n",
      "\u001b[32m\u001b[1m  No Changes\u001b[22m\u001b[39m to `~/GITHUBexample/SolarPowerForecastingIFMG.jl/Test/ambiente_de_teste_temporario/Manifest.toml`\n"
     ]
    }
   ],
   "source": [
    "Pkg.update()"
   ]
  },
  {
   "cell_type": "code",
   "execution_count": 3,
   "id": "strategic-jonathan",
   "metadata": {},
   "outputs": [
    {
     "name": "stderr",
     "output_type": "stream",
     "text": [
      "┌ Info: Precompiling SolarPowerForecastingIFMG [324c0b22-a149-4aa4-8e58-0d2d69aac616]\n",
      "└ @ Base loading.jl:1664\n"
     ]
    }
   ],
   "source": [
    "using SolarPowerForecastingIFMG.RaspagemDeDadosINMET, SolarPowerForecastingIFMG.TruncagemDeDados\n",
    "using DataFrames, Missings"
   ]
  },
  {
   "cell_type": "code",
   "execution_count": 4,
   "id": "0d05d93b",
   "metadata": {},
   "outputs": [
    {
     "name": "stdout",
     "output_type": "stream",
     "text": [
      "\u001b[0m\u001b[1mEstrato de dados INMET\u001b[22m\n",
      "\u001b[0mPrimeiro ano disponível\t->\t\u001b[94m\u001b[1m2000\u001b[22m\u001b[39m\n",
      "\u001b[0mÚltimo ano disponível\t->\t\u001b[94m\u001b[1m2022\u001b[22m\u001b[39m\n",
      "Baixando arquivos para o ano 2020: 97.94     \r"
     ]
    },
    {
     "name": "stderr",
     "output_type": "stream",
     "text": [
      "Excessive output truncated after 524359 bytes."
     ]
    },
    {
     "name": "stdout",
     "output_type": "stream",
     "text": [
      "Baixando arquivos para o ano 2020: 97.97 \r"
     ]
    }
   ],
   "source": [
    "fonte_dados = statusINMET();\n",
    "dados = obter_dados(fonte_dados, [\"FORMIGA\"], 2020:2021);"
   ]
  },
  {
   "cell_type": "code",
   "execution_count": 5,
   "id": "figured-browse",
   "metadata": {},
   "outputs": [],
   "source": [
    "ajs_col_names!(dados);\n",
    "#dados.serie[1].dataset"
   ]
  },
  {
   "cell_type": "code",
   "execution_count": 6,
   "id": "statewide-genealogy",
   "metadata": {},
   "outputs": [
    {
     "ename": "LoadError",
     "evalue": "MethodError: no method matching map!(::PooledArrays.PooledVector{InlineStrings.String15, UInt32, Vector{UInt32}}, ::SolarPowerForecastingIFMG.TruncagemDeDados.var\"#3#5\")\n\u001b[0mClosest candidates are:\n\u001b[0m  map!(::Any, \u001b[91m::SharedArrays.SharedArray\u001b[39m, \u001b[91m::SharedArrays.SharedArray\u001b[39m) at ~/JuliaLanguage/julia-1.8.2/share/julia/stdlib/v1.8/SharedArrays/src/SharedArrays.jl:575\n\u001b[0m  map!(::Tf, \u001b[91m::SparseArrays.AbstractSparseMatrixCSC\u001b[39m, \u001b[91m::Union{LinearAlgebra.Bidiagonal, LinearAlgebra.Diagonal, LinearAlgebra.LowerTriangular, LinearAlgebra.SymTridiagonal, LinearAlgebra.Tridiagonal, LinearAlgebra.UnitLowerTriangular, LinearAlgebra.UnitUpperTriangular, LinearAlgebra.UpperTriangular, SparseArrays.SparseMatrixCSC}\u001b[39m, \u001b[91m::Union{LinearAlgebra.Bidiagonal, LinearAlgebra.Diagonal, LinearAlgebra.LowerTriangular, LinearAlgebra.SymTridiagonal, LinearAlgebra.Tridiagonal, LinearAlgebra.UnitLowerTriangular, LinearAlgebra.UnitUpperTriangular, LinearAlgebra.UpperTriangular, SparseArrays.SparseMatrixCSC}...\u001b[39m) where {Tf, N} at ~/JuliaLanguage/julia-1.8.2/share/julia/stdlib/v1.8/SparseArrays/src/higherorderfns.jl:1162\n\u001b[0m  map!(::Tf, \u001b[91m::SparseArrays.AbstractSparseMatrixCSC\u001b[39m, \u001b[91m::SparseArrays.AbstractSparseMatrixCSC\u001b[39m, \u001b[91m::SparseArrays.SparseMatrixCSC...\u001b[39m) where {Tf, N} at ~/JuliaLanguage/julia-1.8.2/share/julia/stdlib/v1.8/SparseArrays/src/higherorderfns.jl:153\n\u001b[0m  ...",
     "output_type": "error",
     "traceback": [
      "MethodError: no method matching map!(::PooledArrays.PooledVector{InlineStrings.String15, UInt32, Vector{UInt32}}, ::SolarPowerForecastingIFMG.TruncagemDeDados.var\"#3#5\")\n\u001b[0mClosest candidates are:\n\u001b[0m  map!(::Any, \u001b[91m::SharedArrays.SharedArray\u001b[39m, \u001b[91m::SharedArrays.SharedArray\u001b[39m) at ~/JuliaLanguage/julia-1.8.2/share/julia/stdlib/v1.8/SharedArrays/src/SharedArrays.jl:575\n\u001b[0m  map!(::Tf, \u001b[91m::SparseArrays.AbstractSparseMatrixCSC\u001b[39m, \u001b[91m::Union{LinearAlgebra.Bidiagonal, LinearAlgebra.Diagonal, LinearAlgebra.LowerTriangular, LinearAlgebra.SymTridiagonal, LinearAlgebra.Tridiagonal, LinearAlgebra.UnitLowerTriangular, LinearAlgebra.UnitUpperTriangular, LinearAlgebra.UpperTriangular, SparseArrays.SparseMatrixCSC}\u001b[39m, \u001b[91m::Union{LinearAlgebra.Bidiagonal, LinearAlgebra.Diagonal, LinearAlgebra.LowerTriangular, LinearAlgebra.SymTridiagonal, LinearAlgebra.Tridiagonal, LinearAlgebra.UnitLowerTriangular, LinearAlgebra.UnitUpperTriangular, LinearAlgebra.UpperTriangular, SparseArrays.SparseMatrixCSC}...\u001b[39m) where {Tf, N} at ~/JuliaLanguage/julia-1.8.2/share/julia/stdlib/v1.8/SparseArrays/src/higherorderfns.jl:1162\n\u001b[0m  map!(::Tf, \u001b[91m::SparseArrays.AbstractSparseMatrixCSC\u001b[39m, \u001b[91m::SparseArrays.AbstractSparseMatrixCSC\u001b[39m, \u001b[91m::SparseArrays.SparseMatrixCSC...\u001b[39m) where {Tf, N} at ~/JuliaLanguage/julia-1.8.2/share/julia/stdlib/v1.8/SparseArrays/src/higherorderfns.jl:153\n\u001b[0m  ...",
      "",
      "Stacktrace:",
      " [1] treat_data(sercid::SerieCidades, metodo::Symbol; tr::Float64, vd::Float64)",
      "   @ SolarPowerForecastingIFMG.TruncagemDeDados ~/GITHUBexample/SolarPowerForecastingIFMG.jl/src/TruncagemDeDados.jl:100",
      " [2] treat_data (repeats 2 times)",
      "   @ ~/GITHUBexample/SolarPowerForecastingIFMG.jl/src/TruncagemDeDados.jl:60 [inlined]",
      " [3] top-level scope",
      "   @ In[6]:1",
      " [4] eval",
      "   @ ./boot.jl:368 [inlined]",
      " [5] include_string(mapexpr::typeof(REPL.softscope), mod::Module, code::String, filename::String)",
      "   @ Base ./loading.jl:1428"
     ]
    }
   ],
   "source": [
    "dataset = treat_data(dados);\n",
    "#typeof(dados.serie[1].dataset[!,:DATE])"
   ]
  },
  {
   "cell_type": "code",
   "execution_count": null,
   "id": "10526b16",
   "metadata": {},
   "outputs": [],
   "source": [
    "dataset"
   ]
  },
  {
   "cell_type": "code",
   "execution_count": null,
   "id": "92d6255a",
   "metadata": {},
   "outputs": [],
   "source": [
    "dados.serie[1].dataset[!,[:DATE == \"2021/01/01\"]]"
   ]
  },
  {
   "cell_type": "code",
   "execution_count": null,
   "id": "amazing-meaning",
   "metadata": {},
   "outputs": [],
   "source": [
    "unique(select(dados.serie[1].dataset, :ADSOLPW))"
   ]
  },
  {
   "cell_type": "code",
   "execution_count": null,
   "id": "productive-myanmar",
   "metadata": {},
   "outputs": [],
   "source": [
    "first(dados.serie[1].dataset, 50)"
   ]
  },
  {
   "cell_type": "code",
   "execution_count": null,
   "id": "armed-ottawa",
   "metadata": {},
   "outputs": [],
   "source": [
    "dados.serie[1].dataset[:,:ADSOLPW] = collect(Missings.replace(dados.serie[1].dataset[:,:ADSOLPW], 0))"
   ]
  },
  {
   "cell_type": "code",
   "execution_count": null,
   "id": "5bcb8c88",
   "metadata": {},
   "outputs": [],
   "source": [
    "replace!(dados.serie[1].dataset[:,:ADRAIN], missing => 0.)"
   ]
  },
  {
   "cell_type": "code",
   "execution_count": null,
   "id": "plastic-wales",
   "metadata": {},
   "outputs": [],
   "source": [
    "columns = Dict(1 => :DATE, 3 => :ADRAIN, 7 => :ADSOLPW, 10 => :DTMAX_C, 11 => :DTMIN_C)"
   ]
  },
  {
   "cell_type": "code",
   "execution_count": null,
   "id": "3c8467b5",
   "metadata": {},
   "outputs": [],
   "source": [
    "dados.serie[1].dataset"
   ]
  },
  {
   "cell_type": "code",
   "execution_count": null,
   "id": "black-jerusalem",
   "metadata": {},
   "outputs": [],
   "source": [
    "values(columns)"
   ]
  },
  {
   "cell_type": "code",
   "execution_count": null,
   "id": "better-pharmacy",
   "metadata": {},
   "outputs": [],
   "source": [
    "values(columns_change)"
   ]
  },
  {
   "cell_type": "code",
   "execution_count": null,
   "id": "public-portrait",
   "metadata": {},
   "outputs": [],
   "source": []
  },
  {
   "cell_type": "code",
   "execution_count": null,
   "id": "precious-cleaners",
   "metadata": {},
   "outputs": [],
   "source": []
  }
 ],
 "metadata": {
  "kernelspec": {
   "display_name": "Julia 1.8.2",
   "language": "julia",
   "name": "julia-1.8"
  },
  "language_info": {
   "file_extension": ".jl",
   "mimetype": "application/julia",
   "name": "julia",
   "version": "1.8.2"
  }
 },
 "nbformat": 4,
 "nbformat_minor": 5
}
