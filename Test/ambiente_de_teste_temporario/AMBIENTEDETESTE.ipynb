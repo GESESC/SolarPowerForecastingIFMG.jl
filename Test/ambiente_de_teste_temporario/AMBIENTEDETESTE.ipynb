{
 "cells": [
  {
   "cell_type": "markdown",
   "id": "official-journey",
   "metadata": {},
   "source": [
    "# AMBIENTE DE TESTE"
   ]
  },
  {
   "cell_type": "code",
   "execution_count": 1,
   "id": "toxic-volunteer",
   "metadata": {},
   "outputs": [
    {
     "name": "stderr",
     "output_type": "stream",
     "text": [
      "\u001b[32m\u001b[1m  Activating\u001b[22m\u001b[39m project at `~/Insync/Trabalho/IFMG/IFMG_ARCOS/TCCs/TCCVitinho/SolarPowerForecastingIFMG.jl/Test/ambiente_de_teste_temporario`\n"
     ]
    }
   ],
   "source": [
    "using Pkg\n",
    "Pkg.activate(\".\")\n",
    "#Pkg.develop(path=\"../..\")"
   ]
  },
  {
   "cell_type": "code",
   "execution_count": 2,
   "id": "7230ea9e",
   "metadata": {},
   "outputs": [
    {
     "name": "stderr",
     "output_type": "stream",
     "text": [
      "\u001b[32m\u001b[1m    Updating\u001b[22m\u001b[39m registry at `~/.julia/registries/General.toml`\n",
      "\u001b[32m\u001b[1m  No Changes\u001b[22m\u001b[39m to `~/Insync/Trabalho/IFMG/IFMG_ARCOS/TCCs/TCCVitinho/SolarPowerForecastingIFMG.jl/Test/ambiente_de_teste_temporario/Project.toml`\n",
      "\u001b[32m\u001b[1m  No Changes\u001b[22m\u001b[39m to `~/Insync/Trabalho/IFMG/IFMG_ARCOS/TCCs/TCCVitinho/SolarPowerForecastingIFMG.jl/Test/ambiente_de_teste_temporario/Manifest.toml`\n",
      "\u001b[32m\u001b[1mPrecompiling\u001b[22m\u001b[39m project...\n",
      "\u001b[32m  ✓ \u001b[39mSolarPowerForecastingIFMG\n",
      "  1 dependency successfully precompiled in 7 seconds. 206 already precompiled.\n"
     ]
    }
   ],
   "source": [
    "Pkg.update()"
   ]
  },
  {
   "cell_type": "code",
   "execution_count": 3,
   "id": "strategic-jonathan",
   "metadata": {},
   "outputs": [],
   "source": [
    "using SolarPowerForecastingIFMG.RaspagemDeDadosINMET, SolarPowerForecastingIFMG.TruncagemDeDados\n",
    "using DataFrames, Missings"
   ]
  },
  {
   "cell_type": "code",
   "execution_count": 4,
   "id": "0d05d93b",
   "metadata": {},
   "outputs": [
    {
     "name": "stdout",
     "output_type": "stream",
     "text": [
      "\u001b[0m\u001b[1mEstrato de dados INMET\u001b[22m\n",
      "\u001b[0mPrimeiro ano disponível\t->\t\u001b[94m\u001b[1m2000\u001b[22m\u001b[39m\n",
      "\u001b[0mÚltimo ano disponível\t->\t\u001b[94m\u001b[1m2022\u001b[22m\u001b[39m\n",
      "Baixando arquivos para o ano 2021: 98.39    \r"
     ]
    },
    {
     "name": "stderr",
     "output_type": "stream",
     "text": [
      "Excessive output truncated after 524361 bytes."
     ]
    },
    {
     "name": "stdout",
     "output_type": "stream",
     "text": [
      "Baixando arquivos para o ano 2021: 98.42 \r"
     ]
    }
   ],
   "source": [
    "fonte_dados = statusINMET();\n",
    "dados = obter_dados(fonte_dados, [\"FORMIGA\"], [2021]);"
   ]
  },
  {
   "cell_type": "code",
   "execution_count": 5,
   "id": "figured-browse",
   "metadata": {},
   "outputs": [],
   "source": [
    "ajs_col_names!(dados);\n",
    "#dados.serie[1].dataset"
   ]
  },
  {
   "cell_type": "code",
   "execution_count": 6,
   "id": "statewide-genealogy",
   "metadata": {},
   "outputs": [],
   "source": [
    "dados.serie[1].dataset = trunc_data(dados.serie[1].dataset);\n",
    "#typeof(dados.serie[1].dataset[!,:DATE])"
   ]
  },
  {
   "cell_type": "code",
   "execution_count": 7,
   "id": "10526b16",
   "metadata": {},
   "outputs": [
    {
     "data": {
      "text/html": [
       "<div><div style = \"float: left;\"><span>365×5 DataFrame</span></div><div style = \"float: right;\"><span style = \"font-style: italic;\">340 rows omitted</span></div><div style = \"clear: both;\"></div></div><div class = \"data-frame\" style = \"overflow-x: scroll;\"><table class = \"data-frame\" style = \"margin-bottom: 6px;\"><thead><tr class = \"header\"><th class = \"rowNumber\" style = \"font-weight: bold; text-align: right;\">Row</th><th style = \"text-align: left;\">ADRAIN</th><th style = \"text-align: left;\">ADSOLPW</th><th style = \"text-align: left;\">DTMAX_C</th><th style = \"text-align: left;\">DTMIN_C</th><th style = \"text-align: left;\">DATE</th></tr><tr class = \"subheader headerLastRow\"><th class = \"rowNumber\" style = \"font-weight: bold; text-align: right;\"></th><th title = \"Float64\" style = \"text-align: left;\">Float64</th><th title = \"Float64\" style = \"text-align: left;\">Float64</th><th title = \"Float64\" style = \"text-align: left;\">Float64</th><th title = \"Float64\" style = \"text-align: left;\">Float64</th><th title = \"InlineStrings.String15\" style = \"text-align: left;\">String15</th></tr></thead><tbody><tr><td class = \"rowNumber\" style = \"font-weight: bold; text-align: right;\">1</td><td style = \"text-align: right;\">0.0</td><td style = \"text-align: right;\">23503.2</td><td style = \"text-align: right;\">30.7</td><td style = \"text-align: right;\">18.8</td><td style = \"text-align: left;\">2021/01/01</td></tr><tr><td class = \"rowNumber\" style = \"font-weight: bold; text-align: right;\">2</td><td style = \"text-align: right;\">0.0</td><td style = \"text-align: right;\">20843.4</td><td style = \"text-align: right;\">29.3</td><td style = \"text-align: right;\">18.6</td><td style = \"text-align: left;\">2021/01/02</td></tr><tr><td class = \"rowNumber\" style = \"font-weight: bold; text-align: right;\">3</td><td style = \"text-align: right;\">0.0</td><td style = \"text-align: right;\">15139.2</td><td style = \"text-align: right;\">28.3</td><td style = \"text-align: right;\">17.5</td><td style = \"text-align: left;\">2021/01/03</td></tr><tr><td class = \"rowNumber\" style = \"font-weight: bold; text-align: right;\">4</td><td style = \"text-align: right;\">0.0</td><td style = \"text-align: right;\">27540.8</td><td style = \"text-align: right;\">28.1</td><td style = \"text-align: right;\">16.1</td><td style = \"text-align: left;\">2021/01/04</td></tr><tr><td class = \"rowNumber\" style = \"font-weight: bold; text-align: right;\">5</td><td style = \"text-align: right;\">0.0</td><td style = \"text-align: right;\">28674.4</td><td style = \"text-align: right;\">29.5</td><td style = \"text-align: right;\">17.7</td><td style = \"text-align: left;\">2021/01/05</td></tr><tr><td class = \"rowNumber\" style = \"font-weight: bold; text-align: right;\">6</td><td style = \"text-align: right;\">0.0</td><td style = \"text-align: right;\">21251.9</td><td style = \"text-align: right;\">30.3</td><td style = \"text-align: right;\">19.3</td><td style = \"text-align: left;\">2021/01/06</td></tr><tr><td class = \"rowNumber\" style = \"font-weight: bold; text-align: right;\">7</td><td style = \"text-align: right;\">0.0</td><td style = \"text-align: right;\">24720.6</td><td style = \"text-align: right;\">31.3</td><td style = \"text-align: right;\">19.2</td><td style = \"text-align: left;\">2021/01/07</td></tr><tr><td class = \"rowNumber\" style = \"font-weight: bold; text-align: right;\">8</td><td style = \"text-align: right;\">0.0</td><td style = \"text-align: right;\">26532.3</td><td style = \"text-align: right;\">30.3</td><td style = \"text-align: right;\">18.9</td><td style = \"text-align: left;\">2021/01/08</td></tr><tr><td class = \"rowNumber\" style = \"font-weight: bold; text-align: right;\">9</td><td style = \"text-align: right;\">0.0</td><td style = \"text-align: right;\">13811.5</td><td style = \"text-align: right;\">27.5</td><td style = \"text-align: right;\">20.6</td><td style = \"text-align: left;\">2021/01/09</td></tr><tr><td class = \"rowNumber\" style = \"font-weight: bold; text-align: right;\">10</td><td style = \"text-align: right;\">0.0</td><td style = \"text-align: right;\">12537.4</td><td style = \"text-align: right;\">28.1</td><td style = \"text-align: right;\">20.9</td><td style = \"text-align: left;\">2021/01/10</td></tr><tr><td class = \"rowNumber\" style = \"font-weight: bold; text-align: right;\">11</td><td style = \"text-align: right;\">0.0</td><td style = \"text-align: right;\">21852.3</td><td style = \"text-align: right;\">29.6</td><td style = \"text-align: right;\">20.4</td><td style = \"text-align: left;\">2021/01/11</td></tr><tr><td class = \"rowNumber\" style = \"font-weight: bold; text-align: right;\">12</td><td style = \"text-align: right;\">0.0</td><td style = \"text-align: right;\">16254.7</td><td style = \"text-align: right;\">29.5</td><td style = \"text-align: right;\">20.7</td><td style = \"text-align: left;\">2021/01/12</td></tr><tr><td class = \"rowNumber\" style = \"font-weight: bold; text-align: right;\">13</td><td style = \"text-align: right;\">0.0</td><td style = \"text-align: right;\">15069.9</td><td style = \"text-align: right;\">29.2</td><td style = \"text-align: right;\">20.5</td><td style = \"text-align: left;\">2021/01/13</td></tr><tr><td style = \"text-align: right;\">&vellip;</td><td style = \"text-align: right;\">&vellip;</td><td style = \"text-align: right;\">&vellip;</td><td style = \"text-align: right;\">&vellip;</td><td style = \"text-align: right;\">&vellip;</td><td style = \"text-align: right;\">&vellip;</td></tr><tr><td class = \"rowNumber\" style = \"font-weight: bold; text-align: right;\">354</td><td style = \"text-align: right;\">0.0</td><td style = \"text-align: right;\">23915.6</td><td style = \"text-align: right;\">28.6</td><td style = \"text-align: right;\">17.5</td><td style = \"text-align: left;\">2021/12/20</td></tr><tr><td class = \"rowNumber\" style = \"font-weight: bold; text-align: right;\">355</td><td style = \"text-align: right;\">0.0</td><td style = \"text-align: right;\">19589.0</td><td style = \"text-align: right;\">27.9</td><td style = \"text-align: right;\">18.5</td><td style = \"text-align: left;\">2021/12/21</td></tr><tr><td class = \"rowNumber\" style = \"font-weight: bold; text-align: right;\">356</td><td style = \"text-align: right;\">0.0</td><td style = \"text-align: right;\">25474.4</td><td style = \"text-align: right;\">30.5</td><td style = \"text-align: right;\">18.5</td><td style = \"text-align: left;\">2021/12/22</td></tr><tr><td class = \"rowNumber\" style = \"font-weight: bold; text-align: right;\">357</td><td style = \"text-align: right;\">5.2</td><td style = \"text-align: right;\">20468.7</td><td style = \"text-align: right;\">29.1</td><td style = \"text-align: right;\">20.0</td><td style = \"text-align: left;\">2021/12/23</td></tr><tr><td class = \"rowNumber\" style = \"font-weight: bold; text-align: right;\">358</td><td style = \"text-align: right;\">0.0</td><td style = \"text-align: right;\">20783.9</td><td style = \"text-align: right;\">27.7</td><td style = \"text-align: right;\">17.1</td><td style = \"text-align: left;\">2021/12/24</td></tr><tr><td class = \"rowNumber\" style = \"font-weight: bold; text-align: right;\">359</td><td style = \"text-align: right;\">0.0</td><td style = \"text-align: right;\">23470.1</td><td style = \"text-align: right;\">28.2</td><td style = \"text-align: right;\">17.6</td><td style = \"text-align: left;\">2021/12/25</td></tr><tr><td class = \"rowNumber\" style = \"font-weight: bold; text-align: right;\">360</td><td style = \"text-align: right;\">0.0</td><td style = \"text-align: right;\">29121.9</td><td style = \"text-align: right;\">30.5</td><td style = \"text-align: right;\">16.9</td><td style = \"text-align: left;\">2021/12/26</td></tr><tr><td class = \"rowNumber\" style = \"font-weight: bold; text-align: right;\">361</td><td style = \"text-align: right;\">0.0</td><td style = \"text-align: right;\">29621.6</td><td style = \"text-align: right;\">29.9</td><td style = \"text-align: right;\">17.9</td><td style = \"text-align: left;\">2021/12/27</td></tr><tr><td class = \"rowNumber\" style = \"font-weight: bold; text-align: right;\">362</td><td style = \"text-align: right;\">0.0</td><td style = \"text-align: right;\">22141.8</td><td style = \"text-align: right;\">31.1</td><td style = \"text-align: right;\">20.1</td><td style = \"text-align: left;\">2021/12/28</td></tr><tr><td class = \"rowNumber\" style = \"font-weight: bold; text-align: right;\">363</td><td style = \"text-align: right;\">0.0</td><td style = \"text-align: right;\">18427.4</td><td style = \"text-align: right;\">27.5</td><td style = \"text-align: right;\">19.0</td><td style = \"text-align: left;\">2021/12/29</td></tr><tr><td class = \"rowNumber\" style = \"font-weight: bold; text-align: right;\">364</td><td style = \"text-align: right;\">12.0</td><td style = \"text-align: right;\">7720.0</td><td style = \"text-align: right;\">22.8</td><td style = \"text-align: right;\">19.0</td><td style = \"text-align: left;\">2021/12/30</td></tr><tr><td class = \"rowNumber\" style = \"font-weight: bold; text-align: right;\">365</td><td style = \"text-align: right;\">43.8</td><td style = \"text-align: right;\">6067.9</td><td style = \"text-align: right;\">20.8</td><td style = \"text-align: right;\">17.3</td><td style = \"text-align: left;\">2021/12/31</td></tr></tbody></table></div>"
      ],
      "text/latex": [
       "\\begin{tabular}{r|ccccc}\n",
       "\t& ADRAIN & ADSOLPW & DTMAX\\_C & DTMIN\\_C & DATE\\\\\n",
       "\t\\hline\n",
       "\t& Float64 & Float64 & Float64 & Float64 & String15\\\\\n",
       "\t\\hline\n",
       "\t1 & 0.0 & 23503.2 & 30.7 & 18.8 & 2021/01/01 \\\\\n",
       "\t2 & 0.0 & 20843.4 & 29.3 & 18.6 & 2021/01/02 \\\\\n",
       "\t3 & 0.0 & 15139.2 & 28.3 & 17.5 & 2021/01/03 \\\\\n",
       "\t4 & 0.0 & 27540.8 & 28.1 & 16.1 & 2021/01/04 \\\\\n",
       "\t5 & 0.0 & 28674.4 & 29.5 & 17.7 & 2021/01/05 \\\\\n",
       "\t6 & 0.0 & 21251.9 & 30.3 & 19.3 & 2021/01/06 \\\\\n",
       "\t7 & 0.0 & 24720.6 & 31.3 & 19.2 & 2021/01/07 \\\\\n",
       "\t8 & 0.0 & 26532.3 & 30.3 & 18.9 & 2021/01/08 \\\\\n",
       "\t9 & 0.0 & 13811.5 & 27.5 & 20.6 & 2021/01/09 \\\\\n",
       "\t10 & 0.0 & 12537.4 & 28.1 & 20.9 & 2021/01/10 \\\\\n",
       "\t11 & 0.0 & 21852.3 & 29.6 & 20.4 & 2021/01/11 \\\\\n",
       "\t12 & 0.0 & 16254.7 & 29.5 & 20.7 & 2021/01/12 \\\\\n",
       "\t13 & 0.0 & 15069.9 & 29.2 & 20.5 & 2021/01/13 \\\\\n",
       "\t14 & 0.0 & 16568.7 & 27.9 & 19.6 & 2021/01/14 \\\\\n",
       "\t15 & 0.0 & 10108.1 & 24.8 & 19.6 & 2021/01/15 \\\\\n",
       "\t16 & 0.0 & 8812.4 & 25.6 & 18.7 & 2021/01/16 \\\\\n",
       "\t17 & 0.0 & 17651.8 & 26.9 & 19.5 & 2021/01/17 \\\\\n",
       "\t18 & 0.0 & 26940.6 & 29.9 & 20.0 & 2021/01/18 \\\\\n",
       "\t19 & 0.0 & 23228.0 & 30.3 & 20.5 & 2021/01/19 \\\\\n",
       "\t20 & 0.0 & 26325.3 & 31.1 & 16.6 & 2021/01/20 \\\\\n",
       "\t21 & 0.0 & 29989.1 & 30.0 & 16.7 & 2021/01/21 \\\\\n",
       "\t22 & 0.0 & 28635.8 & 30.1 & 15.7 & 2021/01/22 \\\\\n",
       "\t23 & 0.0 & 25097.4 & 29.1 & 16.3 & 2021/01/23 \\\\\n",
       "\t24 & 0.0 & 24853.3 & 30.0 & 18.2 & 2021/01/24 \\\\\n",
       "\t25 & 0.0 & 24102.6 & 29.6 & 18.9 & 2021/01/25 \\\\\n",
       "\t26 & 0.0 & 23569.2 & 31.1 & 18.7 & 2021/01/26 \\\\\n",
       "\t27 & 0.0 & 26835.2 & 31.0 & 21.7 & 2021/01/27 \\\\\n",
       "\t28 & 0.0 & 26440.3 & 30.3 & 17.0 & 2021/01/28 \\\\\n",
       "\t29 & 0.0 & 28099.8 & 31.3 & 17.1 & 2021/01/29 \\\\\n",
       "\t30 & 0.0 & 25930.4 & 32.6 & 18.1 & 2021/01/30 \\\\\n",
       "\t$\\dots$ & $\\dots$ & $\\dots$ & $\\dots$ & $\\dots$ & $\\dots$ \\\\\n",
       "\\end{tabular}\n"
      ],
      "text/plain": [
       "\u001b[1m365×5 DataFrame\u001b[0m\n",
       "\u001b[1m Row \u001b[0m│\u001b[1m ADRAIN  \u001b[0m\u001b[1m ADSOLPW \u001b[0m\u001b[1m DTMAX_C \u001b[0m\u001b[1m DTMIN_C \u001b[0m\u001b[1m DATE       \u001b[0m\n",
       "     │\u001b[90m Float64 \u001b[0m\u001b[90m Float64 \u001b[0m\u001b[90m Float64 \u001b[0m\u001b[90m Float64 \u001b[0m\u001b[90m String15   \u001b[0m\n",
       "─────┼────────────────────────────────────────────────\n",
       "   1 │     0.0  23503.2     30.7     18.8  2021/01/01\n",
       "   2 │     0.0  20843.4     29.3     18.6  2021/01/02\n",
       "   3 │     0.0  15139.2     28.3     17.5  2021/01/03\n",
       "   4 │     0.0  27540.8     28.1     16.1  2021/01/04\n",
       "   5 │     0.0  28674.4     29.5     17.7  2021/01/05\n",
       "   6 │     0.0  21251.9     30.3     19.3  2021/01/06\n",
       "   7 │     0.0  24720.6     31.3     19.2  2021/01/07\n",
       "   8 │     0.0  26532.3     30.3     18.9  2021/01/08\n",
       "   9 │     0.0  13811.5     27.5     20.6  2021/01/09\n",
       "  10 │     0.0  12537.4     28.1     20.9  2021/01/10\n",
       "  11 │     0.0  21852.3     29.6     20.4  2021/01/11\n",
       "  ⋮  │    ⋮        ⋮        ⋮        ⋮         ⋮\n",
       " 356 │     0.0  25474.4     30.5     18.5  2021/12/22\n",
       " 357 │     5.2  20468.7     29.1     20.0  2021/12/23\n",
       " 358 │     0.0  20783.9     27.7     17.1  2021/12/24\n",
       " 359 │     0.0  23470.1     28.2     17.6  2021/12/25\n",
       " 360 │     0.0  29121.9     30.5     16.9  2021/12/26\n",
       " 361 │     0.0  29621.6     29.9     17.9  2021/12/27\n",
       " 362 │     0.0  22141.8     31.1     20.1  2021/12/28\n",
       " 363 │     0.0  18427.4     27.5     19.0  2021/12/29\n",
       " 364 │    12.0   7720.0     22.8     19.0  2021/12/30\n",
       " 365 │    43.8   6067.9     20.8     17.3  2021/12/31\n",
       "\u001b[36m                                      344 rows omitted\u001b[0m"
      ]
     },
     "execution_count": 7,
     "metadata": {},
     "output_type": "execute_result"
    }
   ],
   "source": [
    "dados.serie[1].dataset"
   ]
  },
  {
   "cell_type": "code",
   "execution_count": null,
   "id": "92d6255a",
   "metadata": {},
   "outputs": [],
   "source": [
    "dados.serie[1].dataset[!,[:DATE == \"2021/01/01\"]]"
   ]
  },
  {
   "cell_type": "code",
   "execution_count": null,
   "id": "amazing-meaning",
   "metadata": {},
   "outputs": [],
   "source": [
    "unique(select(dados.serie[1].dataset, :ADSOLPW))"
   ]
  },
  {
   "cell_type": "code",
   "execution_count": null,
   "id": "productive-myanmar",
   "metadata": {},
   "outputs": [],
   "source": [
    "first(dados.serie[1].dataset, 50)"
   ]
  },
  {
   "cell_type": "code",
   "execution_count": null,
   "id": "armed-ottawa",
   "metadata": {},
   "outputs": [],
   "source": [
    "dados.serie[1].dataset[:,:ADSOLPW] = collect(Missings.replace(dados.serie[1].dataset[:,:ADSOLPW], 0))"
   ]
  },
  {
   "cell_type": "code",
   "execution_count": null,
   "id": "5bcb8c88",
   "metadata": {},
   "outputs": [],
   "source": [
    "replace!(dados.serie[1].dataset[:,:ADRAIN], missing => 0.)"
   ]
  },
  {
   "cell_type": "code",
   "execution_count": null,
   "id": "plastic-wales",
   "metadata": {},
   "outputs": [],
   "source": [
    "columns = Dict(1 => :DATE, 3 => :ADRAIN, 7 => :ADSOLPW, 10 => :DTMAX_C, 11 => :DTMIN_C)"
   ]
  },
  {
   "cell_type": "code",
   "execution_count": null,
   "id": "3c8467b5",
   "metadata": {},
   "outputs": [],
   "source": [
    "dados.serie[1].dataset"
   ]
  },
  {
   "cell_type": "code",
   "execution_count": null,
   "id": "black-jerusalem",
   "metadata": {},
   "outputs": [],
   "source": [
    "values(columns)"
   ]
  },
  {
   "cell_type": "code",
   "execution_count": null,
   "id": "better-pharmacy",
   "metadata": {},
   "outputs": [],
   "source": [
    "values(columns_change)"
   ]
  },
  {
   "cell_type": "code",
   "execution_count": null,
   "id": "public-portrait",
   "metadata": {},
   "outputs": [],
   "source": []
  },
  {
   "cell_type": "code",
   "execution_count": null,
   "id": "precious-cleaners",
   "metadata": {},
   "outputs": [],
   "source": []
  }
 ],
 "metadata": {
  "kernelspec": {
   "display_name": "Julia 1.8.2",
   "language": "julia",
   "name": "julia-1.8"
  },
  "language_info": {
   "file_extension": ".jl",
   "mimetype": "application/julia",
   "name": "julia",
   "version": "1.8.2"
  }
 },
 "nbformat": 4,
 "nbformat_minor": 5
}
