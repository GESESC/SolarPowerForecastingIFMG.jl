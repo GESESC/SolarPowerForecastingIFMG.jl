{
 "cells": [
  {
   "cell_type": "markdown",
   "id": "official-journey",
   "metadata": {},
   "source": [
    "# AMBIENTE DE TESTE"
   ]
  },
  {
   "cell_type": "code",
   "execution_count": 1,
   "id": "toxic-volunteer",
   "metadata": {},
   "outputs": [
    {
     "name": "stderr",
     "output_type": "stream",
     "text": [
      "\u001b[32m\u001b[1m  Activating\u001b[22m\u001b[39m project at `~/Insync/Trabalho/IFMG/IFMG_ARCOS/TCCs/TCCVitinho/SolarPowerForecastingIFMG.jl/Test/ambiente_de_teste_temporario`\n"
     ]
    }
   ],
   "source": [
    "using Pkg\n",
    "Pkg.activate(\".\")\n",
    "#Pkg.develop(path=\"../..\")"
   ]
  },
  {
   "cell_type": "code",
   "execution_count": 2,
   "id": "7230ea9e",
   "metadata": {},
   "outputs": [
    {
     "name": "stderr",
     "output_type": "stream",
     "text": [
      "\u001b[32m\u001b[1m    Updating\u001b[22m\u001b[39m registry at `~/.julia/registries/General.toml`\n",
      "\u001b[32m\u001b[1m  No Changes\u001b[22m\u001b[39m to `~/Insync/Trabalho/IFMG/IFMG_ARCOS/TCCs/TCCVitinho/SolarPowerForecastingIFMG.jl/Test/ambiente_de_teste_temporario/Project.toml`\n",
      "\u001b[32m\u001b[1m  No Changes\u001b[22m\u001b[39m to `~/Insync/Trabalho/IFMG/IFMG_ARCOS/TCCs/TCCVitinho/SolarPowerForecastingIFMG.jl/Test/ambiente_de_teste_temporario/Manifest.toml`\n",
      "\u001b[32m\u001b[1mPrecompiling\u001b[22m\u001b[39m project...\n",
      "\u001b[32m  ✓ \u001b[39mSolarPowerForecastingIFMG\n",
      "  1 dependency successfully precompiled in 3 seconds. 253 already precompiled.\n"
     ]
    }
   ],
   "source": [
    "Pkg.update()"
   ]
  },
  {
   "cell_type": "code",
   "execution_count": 3,
   "id": "strategic-jonathan",
   "metadata": {},
   "outputs": [],
   "source": [
    "using SolarPowerForecastingIFMG.RaspagemDeDadosINMET, SolarPowerForecastingIFMG.TruncagemDeDados\n",
    "using DataFrames, Missings"
   ]
  },
  {
   "cell_type": "code",
   "execution_count": 4,
   "id": "0d05d93b",
   "metadata": {
    "tags": []
   },
   "outputs": [
    {
     "name": "stdout",
     "output_type": "stream",
     "text": [
      "\u001b[0m\u001b[1mEstrato de dados INMET\u001b[22m\n",
      "\u001b[0mPrimeiro ano disponível\t->\t\u001b[94m\u001b[1m2000\u001b[22m\u001b[39m\n",
      "\u001b[0mÚltimo ano disponível\t->\t\u001b[94m\u001b[1m2023\u001b[22m\u001b[39m\n"
     ]
    }
   ],
   "source": [
    "fonte_dados = statusINMET();"
   ]
  },
  {
   "cell_type": "code",
   "execution_count": 5,
   "id": "3988c6e6-1bd1-416e-8167-fe072505dadb",
   "metadata": {},
   "outputs": [
    {
     "name": "stdout",
     "output_type": "stream",
     "text": [
      "\u001b[32m\u001b[1mBaixando dados para o ano 2019:\u001b[22m\u001b[39m\n",
      "\n",
      "Processando arquivos de dados do ano 2019 para a cidade de FORMIGA...\n"
     ]
    }
   ],
   "source": [
    "dados = obter_dados(fonte_dados, [\"FORMIGA\"], [2019]);"
   ]
  },
  {
   "cell_type": "code",
   "execution_count": 6,
   "id": "figured-browse",
   "metadata": {},
   "outputs": [],
   "source": [
    "ajst_colnames!(dados);"
   ]
  },
  {
   "cell_type": "code",
   "execution_count": 7,
   "id": "statewide-genealogy",
   "metadata": {},
   "outputs": [
    {
     "data": {
      "text/plain": [
       "SerieCidades(Union{Nothing, EstruturaDeCaptura}[EstruturaDeCaptura(\"FORMIGA\", 2019, \u001b[1m365×5 DataFrame\u001b[0m\n",
       "\u001b[1m Row \u001b[0m│\u001b[1m ADRAIN  \u001b[0m\u001b[1m ADSOLPW \u001b[0m\u001b[1m DTMAX_C \u001b[0m\u001b[1m DTMIN_C \u001b[0m\u001b[1m DATE       \u001b[0m\n",
       "     │\u001b[90m Float64 \u001b[0m\u001b[90m Float64 \u001b[0m\u001b[90m Float64 \u001b[0m\u001b[90m Float64 \u001b[0m\u001b[90m Date       \u001b[0m\n",
       "─────┼────────────────────────────────────────────────\n",
       "   1 │     0.6  24396.6     28.2     19.1  2019-01-01\n",
       "   2 │     0.0  27677.2     30.9     17.8  2019-01-02\n",
       "   3 │     0.0  21536.9     30.1     20.2  2019-01-03\n",
       "   4 │     7.8   8292.9     25.3     19.5  2019-01-04\n",
       "   5 │     0.0  15369.1     26.3     19.4  2019-01-05\n",
       "   6 │     0.0  25874.5     30.4     18.2  2019-01-06\n",
       "   7 │     0.0  30501.9     31.2     19.9  2019-01-07\n",
       "   8 │     4.0  25638.5     33.4     18.9  2019-01-08\n",
       "   9 │     0.2  26599.4     29.4     18.3  2019-01-09\n",
       "  10 │     0.0  26307.4     30.1     18.3  2019-01-10\n",
       "  11 │     1.4  24685.3     31.0     18.0  2019-01-11\n",
       "  ⋮  │    ⋮        ⋮        ⋮        ⋮         ⋮\n",
       " 356 │     0.0  24539.8     31.1     19.0  2019-12-22\n",
       " 357 │     1.4  16343.3     26.7     19.6  2019-12-23\n",
       " 358 │    23.4  11901.6     25.6     18.6  2019-12-24\n",
       " 359 │     0.0  25464.1     30.0     17.3  2019-12-25\n",
       " 360 │     6.4  28223.6     30.7     18.5  2019-12-26\n",
       " 361 │     1.0  25534.4     30.7     19.2  2019-12-27\n",
       " 362 │     0.0  25541.1     30.4     18.0  2019-12-28\n",
       " 363 │     0.0  27072.8     30.4     19.8  2019-12-29\n",
       " 364 │     0.0  25445.5     29.2     19.7  2019-12-30\n",
       " 365 │     0.0  26276.2     30.5     19.4  2019-12-31\n",
       "\u001b[36m                                      344 rows omitted\u001b[0m)])"
      ]
     },
     "execution_count": 7,
     "metadata": {},
     "output_type": "execute_result"
    }
   ],
   "source": [
    "dataset = treat_data(dados)"
   ]
  },
  {
   "cell_type": "code",
   "execution_count": 10,
   "id": "10526b16",
   "metadata": {},
   "outputs": [
    {
     "data": {
      "text/html": [
       "<div><div style = \"float: left;\"><span>365×5 DataFrame</span></div><div style = \"float: right;\"><span style = \"font-style: italic;\">340 rows omitted</span></div><div style = \"clear: both;\"></div></div><div class = \"data-frame\" style = \"overflow-x: scroll;\"><table class = \"data-frame\" style = \"margin-bottom: 6px;\"><thead><tr class = \"header\"><th class = \"rowNumber\" style = \"font-weight: bold; text-align: right;\">Row</th><th style = \"text-align: left;\">ADRAIN</th><th style = \"text-align: left;\">ADSOLPW</th><th style = \"text-align: left;\">DTMAX_C</th><th style = \"text-align: left;\">DTMIN_C</th><th style = \"text-align: left;\">DATE</th></tr><tr class = \"subheader headerLastRow\"><th class = \"rowNumber\" style = \"font-weight: bold; text-align: right;\"></th><th title = \"Float64\" style = \"text-align: left;\">Float64</th><th title = \"Float64\" style = \"text-align: left;\">Float64</th><th title = \"Float64\" style = \"text-align: left;\">Float64</th><th title = \"Float64\" style = \"text-align: left;\">Float64</th><th title = \"Dates.Date\" style = \"text-align: left;\">Date</th></tr></thead><tbody><tr><td class = \"rowNumber\" style = \"font-weight: bold; text-align: right;\">1</td><td style = \"text-align: right;\">0.6</td><td style = \"text-align: right;\">24396.6</td><td style = \"text-align: right;\">28.2</td><td style = \"text-align: right;\">19.1</td><td style = \"text-align: left;\">2019-01-01</td></tr><tr><td class = \"rowNumber\" style = \"font-weight: bold; text-align: right;\">2</td><td style = \"text-align: right;\">0.0</td><td style = \"text-align: right;\">27677.2</td><td style = \"text-align: right;\">30.9</td><td style = \"text-align: right;\">17.8</td><td style = \"text-align: left;\">2019-01-02</td></tr><tr><td class = \"rowNumber\" style = \"font-weight: bold; text-align: right;\">3</td><td style = \"text-align: right;\">0.0</td><td style = \"text-align: right;\">21536.9</td><td style = \"text-align: right;\">30.1</td><td style = \"text-align: right;\">20.2</td><td style = \"text-align: left;\">2019-01-03</td></tr><tr><td class = \"rowNumber\" style = \"font-weight: bold; text-align: right;\">4</td><td style = \"text-align: right;\">7.8</td><td style = \"text-align: right;\">8292.9</td><td style = \"text-align: right;\">25.3</td><td style = \"text-align: right;\">19.5</td><td style = \"text-align: left;\">2019-01-04</td></tr><tr><td class = \"rowNumber\" style = \"font-weight: bold; text-align: right;\">5</td><td style = \"text-align: right;\">0.0</td><td style = \"text-align: right;\">15369.1</td><td style = \"text-align: right;\">26.3</td><td style = \"text-align: right;\">19.4</td><td style = \"text-align: left;\">2019-01-05</td></tr><tr><td class = \"rowNumber\" style = \"font-weight: bold; text-align: right;\">6</td><td style = \"text-align: right;\">0.0</td><td style = \"text-align: right;\">25874.5</td><td style = \"text-align: right;\">30.4</td><td style = \"text-align: right;\">18.2</td><td style = \"text-align: left;\">2019-01-06</td></tr><tr><td class = \"rowNumber\" style = \"font-weight: bold; text-align: right;\">7</td><td style = \"text-align: right;\">0.0</td><td style = \"text-align: right;\">30501.9</td><td style = \"text-align: right;\">31.2</td><td style = \"text-align: right;\">19.9</td><td style = \"text-align: left;\">2019-01-07</td></tr><tr><td class = \"rowNumber\" style = \"font-weight: bold; text-align: right;\">8</td><td style = \"text-align: right;\">4.0</td><td style = \"text-align: right;\">25638.5</td><td style = \"text-align: right;\">33.4</td><td style = \"text-align: right;\">18.9</td><td style = \"text-align: left;\">2019-01-08</td></tr><tr><td class = \"rowNumber\" style = \"font-weight: bold; text-align: right;\">9</td><td style = \"text-align: right;\">0.2</td><td style = \"text-align: right;\">26599.4</td><td style = \"text-align: right;\">29.4</td><td style = \"text-align: right;\">18.3</td><td style = \"text-align: left;\">2019-01-09</td></tr><tr><td class = \"rowNumber\" style = \"font-weight: bold; text-align: right;\">10</td><td style = \"text-align: right;\">0.0</td><td style = \"text-align: right;\">26307.4</td><td style = \"text-align: right;\">30.1</td><td style = \"text-align: right;\">18.3</td><td style = \"text-align: left;\">2019-01-10</td></tr><tr><td class = \"rowNumber\" style = \"font-weight: bold; text-align: right;\">11</td><td style = \"text-align: right;\">1.4</td><td style = \"text-align: right;\">24685.3</td><td style = \"text-align: right;\">31.0</td><td style = \"text-align: right;\">18.0</td><td style = \"text-align: left;\">2019-01-11</td></tr><tr><td class = \"rowNumber\" style = \"font-weight: bold; text-align: right;\">12</td><td style = \"text-align: right;\">0.0</td><td style = \"text-align: right;\">15761.2</td><td style = \"text-align: right;\">30.1</td><td style = \"text-align: right;\">21.0</td><td style = \"text-align: left;\">2019-01-12</td></tr><tr><td class = \"rowNumber\" style = \"font-weight: bold; text-align: right;\">13</td><td style = \"text-align: right;\">0.0</td><td style = \"text-align: right;\">24255.2</td><td style = \"text-align: right;\">31.1</td><td style = \"text-align: right;\">18.3</td><td style = \"text-align: left;\">2019-01-13</td></tr><tr><td style = \"text-align: right;\">&vellip;</td><td style = \"text-align: right;\">&vellip;</td><td style = \"text-align: right;\">&vellip;</td><td style = \"text-align: right;\">&vellip;</td><td style = \"text-align: right;\">&vellip;</td><td style = \"text-align: right;\">&vellip;</td></tr><tr><td class = \"rowNumber\" style = \"font-weight: bold; text-align: right;\">354</td><td style = \"text-align: right;\">10.6</td><td style = \"text-align: right;\">22704.3</td><td style = \"text-align: right;\">30.1</td><td style = \"text-align: right;\">17.7</td><td style = \"text-align: left;\">2019-12-20</td></tr><tr><td class = \"rowNumber\" style = \"font-weight: bold; text-align: right;\">355</td><td style = \"text-align: right;\">0.2</td><td style = \"text-align: right;\">18492.0</td><td style = \"text-align: right;\">27.1</td><td style = \"text-align: right;\">18.7</td><td style = \"text-align: left;\">2019-12-21</td></tr><tr><td class = \"rowNumber\" style = \"font-weight: bold; text-align: right;\">356</td><td style = \"text-align: right;\">0.0</td><td style = \"text-align: right;\">24539.8</td><td style = \"text-align: right;\">31.1</td><td style = \"text-align: right;\">19.0</td><td style = \"text-align: left;\">2019-12-22</td></tr><tr><td class = \"rowNumber\" style = \"font-weight: bold; text-align: right;\">357</td><td style = \"text-align: right;\">1.4</td><td style = \"text-align: right;\">16343.3</td><td style = \"text-align: right;\">26.7</td><td style = \"text-align: right;\">19.6</td><td style = \"text-align: left;\">2019-12-23</td></tr><tr><td class = \"rowNumber\" style = \"font-weight: bold; text-align: right;\">358</td><td style = \"text-align: right;\">23.4</td><td style = \"text-align: right;\">11901.6</td><td style = \"text-align: right;\">25.6</td><td style = \"text-align: right;\">18.6</td><td style = \"text-align: left;\">2019-12-24</td></tr><tr><td class = \"rowNumber\" style = \"font-weight: bold; text-align: right;\">359</td><td style = \"text-align: right;\">0.0</td><td style = \"text-align: right;\">25464.1</td><td style = \"text-align: right;\">30.0</td><td style = \"text-align: right;\">17.3</td><td style = \"text-align: left;\">2019-12-25</td></tr><tr><td class = \"rowNumber\" style = \"font-weight: bold; text-align: right;\">360</td><td style = \"text-align: right;\">6.4</td><td style = \"text-align: right;\">28223.6</td><td style = \"text-align: right;\">30.7</td><td style = \"text-align: right;\">18.5</td><td style = \"text-align: left;\">2019-12-26</td></tr><tr><td class = \"rowNumber\" style = \"font-weight: bold; text-align: right;\">361</td><td style = \"text-align: right;\">1.0</td><td style = \"text-align: right;\">25534.4</td><td style = \"text-align: right;\">30.7</td><td style = \"text-align: right;\">19.2</td><td style = \"text-align: left;\">2019-12-27</td></tr><tr><td class = \"rowNumber\" style = \"font-weight: bold; text-align: right;\">362</td><td style = \"text-align: right;\">0.0</td><td style = \"text-align: right;\">25541.1</td><td style = \"text-align: right;\">30.4</td><td style = \"text-align: right;\">18.0</td><td style = \"text-align: left;\">2019-12-28</td></tr><tr><td class = \"rowNumber\" style = \"font-weight: bold; text-align: right;\">363</td><td style = \"text-align: right;\">0.0</td><td style = \"text-align: right;\">27072.8</td><td style = \"text-align: right;\">30.4</td><td style = \"text-align: right;\">19.8</td><td style = \"text-align: left;\">2019-12-29</td></tr><tr><td class = \"rowNumber\" style = \"font-weight: bold; text-align: right;\">364</td><td style = \"text-align: right;\">0.0</td><td style = \"text-align: right;\">25445.5</td><td style = \"text-align: right;\">29.2</td><td style = \"text-align: right;\">19.7</td><td style = \"text-align: left;\">2019-12-30</td></tr><tr><td class = \"rowNumber\" style = \"font-weight: bold; text-align: right;\">365</td><td style = \"text-align: right;\">0.0</td><td style = \"text-align: right;\">26276.2</td><td style = \"text-align: right;\">30.5</td><td style = \"text-align: right;\">19.4</td><td style = \"text-align: left;\">2019-12-31</td></tr></tbody></table></div>"
      ],
      "text/latex": [
       "\\begin{tabular}{r|ccccc}\n",
       "\t& ADRAIN & ADSOLPW & DTMAX\\_C & DTMIN\\_C & DATE\\\\\n",
       "\t\\hline\n",
       "\t& Float64 & Float64 & Float64 & Float64 & Date\\\\\n",
       "\t\\hline\n",
       "\t1 & 0.6 & 24396.6 & 28.2 & 19.1 & 2019-01-01 \\\\\n",
       "\t2 & 0.0 & 27677.2 & 30.9 & 17.8 & 2019-01-02 \\\\\n",
       "\t3 & 0.0 & 21536.9 & 30.1 & 20.2 & 2019-01-03 \\\\\n",
       "\t4 & 7.8 & 8292.9 & 25.3 & 19.5 & 2019-01-04 \\\\\n",
       "\t5 & 0.0 & 15369.1 & 26.3 & 19.4 & 2019-01-05 \\\\\n",
       "\t6 & 0.0 & 25874.5 & 30.4 & 18.2 & 2019-01-06 \\\\\n",
       "\t7 & 0.0 & 30501.9 & 31.2 & 19.9 & 2019-01-07 \\\\\n",
       "\t8 & 4.0 & 25638.5 & 33.4 & 18.9 & 2019-01-08 \\\\\n",
       "\t9 & 0.2 & 26599.4 & 29.4 & 18.3 & 2019-01-09 \\\\\n",
       "\t10 & 0.0 & 26307.4 & 30.1 & 18.3 & 2019-01-10 \\\\\n",
       "\t11 & 1.4 & 24685.3 & 31.0 & 18.0 & 2019-01-11 \\\\\n",
       "\t12 & 0.0 & 15761.2 & 30.1 & 21.0 & 2019-01-12 \\\\\n",
       "\t13 & 0.0 & 24255.2 & 31.1 & 18.3 & 2019-01-13 \\\\\n",
       "\t14 & 0.2 & 26136.5 & 31.7 & 19.8 & 2019-01-14 \\\\\n",
       "\t15 & 0.0 & 25965.9 & 31.6 & 19.8 & 2019-01-15 \\\\\n",
       "\t16 & 0.0 & 27668.0 & 33.4 & 19.0 & 2019-01-16 \\\\\n",
       "\t17 & 0.0 & 29785.9 & 31.7 & 19.7 & 2019-01-17 \\\\\n",
       "\t18 & 0.0 & 27881.8 & 32.2 & 20.1 & 2019-01-18 \\\\\n",
       "\t19 & 0.2 & 27953.5 & 32.5 & 21.0 & 2019-01-19 \\\\\n",
       "\t20 & 0.0 & 23929.0 & 32.6 & 21.5 & 2019-01-20 \\\\\n",
       "\t21 & 0.0 & 26090.1 & 34.2 & 20.3 & 2019-01-21 \\\\\n",
       "\t22 & 16.4 & 25081.8 & 34.2 & 20.0 & 2019-01-22 \\\\\n",
       "\t23 & 0.4 & 22763.0 & 31.6 & 20.3 & 2019-01-23 \\\\\n",
       "\t24 & 0.0 & 28683.5 & 32.8 & 19.7 & 2019-01-24 \\\\\n",
       "\t25 & 0.8 & 23163.2 & 32.1 & 18.9 & 2019-01-25 \\\\\n",
       "\t26 & 18.6 & 6066.6 & 23.5 & 17.7 & 2019-01-26 \\\\\n",
       "\t27 & 0.2 & 26773.7 & 28.9 & 17.5 & 2019-01-27 \\\\\n",
       "\t28 & 0.0 & 29159.1 & 31.7 & 17.8 & 2019-01-28 \\\\\n",
       "\t29 & 0.0 & 25303.2 & 32.9 & 18.1 & 2019-01-29 \\\\\n",
       "\t30 & 0.0 & 26411.5 & 32.8 & 18.0 & 2019-01-30 \\\\\n",
       "\t$\\dots$ & $\\dots$ & $\\dots$ & $\\dots$ & $\\dots$ & $\\dots$ \\\\\n",
       "\\end{tabular}\n"
      ],
      "text/plain": [
       "\u001b[1m365×5 DataFrame\u001b[0m\n",
       "\u001b[1m Row \u001b[0m│\u001b[1m ADRAIN  \u001b[0m\u001b[1m ADSOLPW \u001b[0m\u001b[1m DTMAX_C \u001b[0m\u001b[1m DTMIN_C \u001b[0m\u001b[1m DATE       \u001b[0m\n",
       "     │\u001b[90m Float64 \u001b[0m\u001b[90m Float64 \u001b[0m\u001b[90m Float64 \u001b[0m\u001b[90m Float64 \u001b[0m\u001b[90m Date       \u001b[0m\n",
       "─────┼────────────────────────────────────────────────\n",
       "   1 │     0.6  24396.6     28.2     19.1  2019-01-01\n",
       "   2 │     0.0  27677.2     30.9     17.8  2019-01-02\n",
       "   3 │     0.0  21536.9     30.1     20.2  2019-01-03\n",
       "   4 │     7.8   8292.9     25.3     19.5  2019-01-04\n",
       "   5 │     0.0  15369.1     26.3     19.4  2019-01-05\n",
       "   6 │     0.0  25874.5     30.4     18.2  2019-01-06\n",
       "   7 │     0.0  30501.9     31.2     19.9  2019-01-07\n",
       "   8 │     4.0  25638.5     33.4     18.9  2019-01-08\n",
       "   9 │     0.2  26599.4     29.4     18.3  2019-01-09\n",
       "  10 │     0.0  26307.4     30.1     18.3  2019-01-10\n",
       "  11 │     1.4  24685.3     31.0     18.0  2019-01-11\n",
       "  ⋮  │    ⋮        ⋮        ⋮        ⋮         ⋮\n",
       " 356 │     0.0  24539.8     31.1     19.0  2019-12-22\n",
       " 357 │     1.4  16343.3     26.7     19.6  2019-12-23\n",
       " 358 │    23.4  11901.6     25.6     18.6  2019-12-24\n",
       " 359 │     0.0  25464.1     30.0     17.3  2019-12-25\n",
       " 360 │     6.4  28223.6     30.7     18.5  2019-12-26\n",
       " 361 │     1.0  25534.4     30.7     19.2  2019-12-27\n",
       " 362 │     0.0  25541.1     30.4     18.0  2019-12-28\n",
       " 363 │     0.0  27072.8     30.4     19.8  2019-12-29\n",
       " 364 │     0.0  25445.5     29.2     19.7  2019-12-30\n",
       " 365 │     0.0  26276.2     30.5     19.4  2019-12-31\n",
       "\u001b[36m                                      344 rows omitted\u001b[0m"
      ]
     },
     "execution_count": 10,
     "metadata": {},
     "output_type": "execute_result"
    }
   ],
   "source": [
    "dataset.serie[1].dataset"
   ]
  }
 ],
 "metadata": {
  "kernelspec": {
   "display_name": "Julia 1.8.5",
   "language": "julia",
   "name": "julia-1.8"
  },
  "language_info": {
   "file_extension": ".jl",
   "mimetype": "application/julia",
   "name": "julia",
   "version": "1.8.5"
  }
 },
 "nbformat": 4,
 "nbformat_minor": 5
}
