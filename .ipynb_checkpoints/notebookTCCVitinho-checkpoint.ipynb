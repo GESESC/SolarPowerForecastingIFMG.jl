{
 "cells": [
  {
   "cell_type": "markdown",
   "metadata": {
    "nteract": {
     "transient": {
      "deleting": false
     }
    }
   },
   "source": [
    "# TCC - Victor Gonçalves\n",
    "## Instruções de uso do código\n",
    "Autor: Prof. Dr. Reginaldo Gonçalves Leão Junior\n",
    "\n",
    "### Descrição da Proposta e Ferramentas\n",
    "A corrente proposta do trabalho consiste no uso de uma rede neural recorrente (RNN) com camadas do tipo *long short-term memory* para predição da potência solar na microrregião de Formiga ou na Mesorregião Oeste de Minas Gerais. Os dados de treinamento do modelo devem ser obtidos de *datasets* gratuítos disponibilizados na web e os dados climáticos da região obtidos do INMET.(https://portal.inmet.gov.br/dadoshistoricos).\n",
    "\n",
    "Por motivos de desempenho, o modelo será desenvolvido na linguagem Julia (+1.7 - https://julialang.org/downloads/) utilizando a biblioteca Flux.jl (https://fluxml.ai/Flux.jl/stable/) para a implementação das soluções baseadas em ML. Todas as funcionalidades estão contidas em um módulo denominado `SolarPowerForecastingIFMG` desenvolvido no contexto deste trabalho de conclusão de curso.\n",
    "\n",
    "A rotina de uso do modelo deve seguir a seguinte rotina, obviamente, flexibilizações podem ser introduzidas quando necessário, ou mesmo novas rotinas podem ser criadas.\n",
    "\n",
    "### Verificação do status INMET\n",
    "\n",
    "Consiste na chamada à função `statusINMET()` que verifica a disponibilidade de séries anuais climatológicas no recurso `/dadoshistoricos` do portal, exibe um compilado deste estatus no terminal e retorna um dicionário com a estrutura:\n",
    "\n",
    "```\n",
    "Dict{Int16, String} with n entries:\n",
    "  \"20XX\" => \"https://portal.inmet.gov.br/uploads/dadoshistoricos/20XX.zip\"\n",
    "```\n",
    "\n",
    "no qual as chaves são os anos disponíveis na base no formato de um inteiro de 32 bits e os valores uma String contendo o link para download do zip file das séries para o respectivo ano."
   ]
  },
  {
   "cell_type": "markdown",
   "metadata": {
    "nteract": {
     "transient": {
      "deleting": false
     }
    }
   },
   "source": [
    "Antes de qualquer verificação, deve-se fazer a instalação do pacote em desenvolvimento, ou verificação por atualizações.\n",
    "Sendo o primeiro uso do pacote em uma determinada instalção deve-se executar as instruções do comentário `i)`, nas demais, atualizações devem ser checadas por meio das instruções do comentário `ii)`. A instrução `using Pkg` é apenas uma chamada ao módulo `Pkg` responsável pela gerência dos pacotes."
   ]
  },
  {
   "cell_type": "code",
   "execution_count": 3,
   "metadata": {
    "collapsed": true,
    "execution": {
     "iopub.execute_input": "2022-01-14T17:59:10.305Z",
     "iopub.status.busy": "2022-01-14T17:59:10.298Z",
     "iopub.status.idle": "2022-01-14T17:59:10.316Z",
     "shell.execute_reply": "2022-01-14T17:49:21.140Z"
    },
    "jupyter": {
     "outputs_hidden": true,
     "source_hidden": false
    },
    "nteract": {
     "transient": {
      "deleting": false
     }
    }
   },
   "outputs": [],
   "source": [
    "using Pkg\n",
    "#= i) Na primeira execução do pacote\n",
    "Pkg.develop(\"SolarPowerForecastingIFMG\")\n",
    "=#\n",
    "\n",
    "#= ii) A cada nova adição de funcionalidade\n",
    "Pkg.update(\"SolarPowerForecastingIFMG\")\n",
    "=#"
   ]
  },
  {
   "cell_type": "markdown",
   "metadata": {
    "jupyter": {
     "outputs_hidden": true,
     "source_hidden": false
    },
    "nteract": {
     "transient": {
      "deleting": false
     }
    }
   },
   "source": [
    "Após a instalação ou atualização o pacote deve ser carregado no *kernel* em execução, em seguida a verificação do status no INMET pode ser imediatamente realizada."
   ]
  },
  {
   "cell_type": "code",
   "execution_count": 7,
   "metadata": {
    "nteract": {
     "transient": {
      "deleting": false
     }
    },
    "tags": []
   },
   "outputs": [
    {
     "name": "stdout",
     "output_type": "stream",
     "text": [
      "\u001b[0m\u001b[1mEstrato de dados INMET\u001b[22m\n",
      "\u001b[0mPrimeiro ano disponível\t->\t\u001b[94m\u001b[1m2000\u001b[22m\u001b[39m\n",
      "\u001b[0mÚltimo ano disponível\t->\t\u001b[94m\u001b[1m2021\u001b[22m\u001b[39m\n"
     ]
    }
   ],
   "source": [
    "using SolarPowerForecastingIFMG: statusINMET\n",
    "fonte_dados = statusINMET();"
   ]
  },
  {
   "cell_type": "markdown",
   "metadata": {},
   "source": [
    "Após a execução a variável `fonte_dados` é um dicionário que contém os links para a obtenção das tabelas CSV de cada ano."
   ]
  },
  {
   "cell_type": "code",
   "execution_count": 9,
   "metadata": {},
   "outputs": [
    {
     "name": "stdout",
     "output_type": "stream",
     "text": [
      "fonte_dados[2000] = \"https://portal.inmet.gov.br/uploads/dadoshistoricos/2000.zip\"\n",
      "fonte_dados[2010] = \"https://portal.inmet.gov.br/uploads/dadoshistoricos/2010.zip\"\n",
      "fonte_dados[2021] = \"https://portal.inmet.gov.br/uploads/dadoshistoricos/2021.zip\"\n"
     ]
    }
   ],
   "source": [
    "@show fonte_dados[2000];\n",
    "@show fonte_dados[2010];\n",
    "@show fonte_dados[2021];"
   ]
  },
  {
   "cell_type": "code",
   "execution_count": null,
   "metadata": {},
   "outputs": [],
   "source": []
  }
 ],
 "metadata": {
  "kernel_info": {
   "name": "python3"
  },
  "kernelspec": {
   "display_name": "Julia 1.7.1",
   "language": "julia",
   "name": "julia-1.7"
  },
  "language_info": {
   "file_extension": ".jl",
   "mimetype": "application/julia",
   "name": "julia",
   "version": "1.7.1"
  },
  "nteract": {
   "version": "0.28.0"
  }
 },
 "nbformat": 4,
 "nbformat_minor": 4
}
