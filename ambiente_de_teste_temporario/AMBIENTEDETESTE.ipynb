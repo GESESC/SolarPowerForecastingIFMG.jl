{
 "cells": [
  {
   "cell_type": "markdown",
   "id": "official-journey",
   "metadata": {},
   "source": [
    "# AMBIENTE DE TESTE"
   ]
  },
  {
   "cell_type": "code",
   "execution_count": 1,
   "id": "toxic-volunteer",
   "metadata": {},
   "outputs": [
    {
     "name": "stderr",
     "output_type": "stream",
     "text": [
      "\u001b[32m\u001b[1m  Activating\u001b[22m\u001b[39m project at `~/Gihub_temps/ambiente_de_teste_temporario`\n"
     ]
    }
   ],
   "source": [
    "using Pkg\n",
    "Pkg.activate(\"/home/reginaldo/Gihub_temps/ambiente_de_teste_temporario\")\n",
    "#Pkg.develop(path=\"/home/reginaldo/Gihub_temps/SolarPowerForecastingIFMG.jl\")"
   ]
  },
  {
   "cell_type": "code",
   "execution_count": 2,
   "id": "7230ea9e",
   "metadata": {},
   "outputs": [
    {
     "name": "stderr",
     "output_type": "stream",
     "text": [
      "\u001b[32m\u001b[1m    Updating\u001b[22m\u001b[39m registry at `~/.julia/registries/General.toml`\n",
      "\u001b[32m\u001b[1m  No Changes\u001b[22m\u001b[39m to `~/Gihub_temps/ambiente_de_teste_temporario/Project.toml`\n",
      "\u001b[32m\u001b[1m  No Changes\u001b[22m\u001b[39m to `~/Gihub_temps/ambiente_de_teste_temporario/Manifest.toml`\n"
     ]
    }
   ],
   "source": [
    "Pkg.update()"
   ]
  },
  {
   "cell_type": "code",
   "execution_count": 3,
   "id": "strategic-jonathan",
   "metadata": {},
   "outputs": [
    {
     "name": "stderr",
     "output_type": "stream",
     "text": [
      "┌ Info: Precompiling SolarPowerForecastingIFMG [324c0b22-a149-4aa4-8e58-0d2d69aac616]\n",
      "└ @ Base loading.jl:1664\n"
     ]
    }
   ],
   "source": [
    "using SolarPowerForecastingIFMG.RaspagemDeDadosINMET, SolarPowerForecastingIFMG.TruncagemDeDados\n",
    "using DataFrames, Missings"
   ]
  },
  {
   "cell_type": "code",
   "execution_count": 4,
   "id": "0d05d93b",
   "metadata": {},
   "outputs": [
    {
     "name": "stdout",
     "output_type": "stream",
     "text": [
      "\u001b[0m\u001b[1mEstrato de dados INMET\u001b[22m\n",
      "\u001b[0mPrimeiro ano disponível\t->\t\u001b[94m\u001b[1m2000\u001b[22m\u001b[39m\n",
      "\u001b[0mÚltimo ano disponível\t->\t\u001b[94m\u001b[1m2022\u001b[22m\u001b[39m\n",
      "Baixando arquivos para o ano 2021: 92.90     \r"
     ]
    },
    {
     "name": "stderr",
     "output_type": "stream",
     "text": [
      "Excessive output truncated after 524335 bytes."
     ]
    },
    {
     "name": "stdout",
     "output_type": "stream",
     "text": [
      "Baixando arquivos para o ano 2021: 93.01 \r"
     ]
    }
   ],
   "source": [
    "fonte_dados = statusINMET();\n",
    "dados = obter_dados(fonte_dados, [\"FORMIGA\"], [2021]);"
   ]
  },
  {
   "cell_type": "code",
   "execution_count": 5,
   "id": "figured-browse",
   "metadata": {},
   "outputs": [],
   "source": [
    "ajs_col_names!(dados);\n",
    "#dados.serie[1].dataset"
   ]
  },
  {
   "cell_type": "code",
   "execution_count": 6,
   "id": "statewide-genealogy",
   "metadata": {},
   "outputs": [
    {
     "ename": "LoadError",
     "evalue": "MethodError: no method matching +(::InlineStrings.String15, ::InlineStrings.String15)\n\u001b[0mClosest candidates are:\n\u001b[0m  +(::Any, ::Any, \u001b[91m::Any\u001b[39m, \u001b[91m::Any...\u001b[39m) at operators.jl:591",
     "output_type": "error",
     "traceback": [
      "MethodError: no method matching +(::InlineStrings.String15, ::InlineStrings.String15)\n\u001b[0mClosest candidates are:\n\u001b[0m  +(::Any, ::Any, \u001b[91m::Any\u001b[39m, \u001b[91m::Any...\u001b[39m) at operators.jl:591",
      "",
      "Stacktrace:",
      "  [1] add_sum(x::InlineStrings.String15, y::InlineStrings.String15)",
      "    @ Base ./reduce.jl:24",
      "  [2] mapreduce_impl(f::typeof(identity), op::typeof(Base.add_sum), A::PooledArrays.PooledVector{InlineStrings.String15, UInt32, Vector{UInt32}}, ifirst::Int64, ilast::Int64, blksize::Int64)",
      "    @ Base ./reduce.jl:257",
      "  [3] mapreduce_impl",
      "    @ ./reduce.jl:272 [inlined]",
      "  [4] _mapreduce",
      "    @ ./reduce.jl:442 [inlined]",
      "  [5] _mapreduce_dim",
      "    @ ./reducedim.jl:365 [inlined]",
      "  [6] #mapreduce#765",
      "    @ ./reducedim.jl:357 [inlined]",
      "  [7] mapreduce",
      "    @ ./reducedim.jl:357 [inlined]",
      "  [8] #_sum#775",
      "    @ ./reducedim.jl:999 [inlined]",
      "  [9] _sum",
      "    @ ./reducedim.jl:999 [inlined]",
      " [10] #_sum#774",
      "    @ ./reducedim.jl:998 [inlined]",
      " [11] _sum",
      "    @ ./reducedim.jl:998 [inlined]",
      " [12] #sum#772",
      "    @ ./reducedim.jl:994 [inlined]",
      " [13] sum(a::PooledArrays.PooledVector{InlineStrings.String15, UInt32, Vector{UInt32}})",
      "    @ Base ./reducedim.jl:994",
      " [14] _transformation_helper(df::DataFrame, col_idx::Int64, ::Base.RefValue{Any})",
      "    @ DataFrames ~/.julia/packages/DataFrames/bza1S/src/abstractdataframe/selection.jl:563",
      " [15] select_transform!(::Base.RefValue{Any}, df::DataFrame, newdf::DataFrame, transformed_cols::Set{Symbol}, copycols::Bool, allow_resizing_newdf::Base.RefValue{Bool}, column_to_copy::BitVector)",
      "    @ DataFrames ~/.julia/packages/DataFrames/bza1S/src/abstractdataframe/selection.jl:795",
      " [16] _manipulate(df::DataFrame, normalized_cs::Vector{Any}, copycols::Bool, keeprows::Bool)",
      "    @ DataFrames ~/.julia/packages/DataFrames/bza1S/src/abstractdataframe/selection.jl:1766",
      " [17] manipulate(::DataFrame, ::Any, ::Vararg{Any}; copycols::Bool, keeprows::Bool, renamecols::Bool)",
      "    @ DataFrames ~/.julia/packages/DataFrames/bza1S/src/abstractdataframe/selection.jl:1686",
      " [18] #manipulate#559",
      "    @ ~/.julia/packages/DataFrames/bza1S/src/abstractdataframe/selection.jl:1825 [inlined]",
      " [19] combine(df::DataFrame, args::Any; renamecols::Bool, threads::Bool)",
      "    @ DataFrames ~/.julia/packages/DataFrames/bza1S/src/abstractdataframe/selection.jl:1658",
      " [20] trunc_data!(dataset::DataFrame, metodo::Symbol; tr::Float64, vd::Float64)",
      "    @ SolarPowerForecastingIFMG.TruncagemDeDados ~/Gihub_temps/SolarPowerForecastingIFMG.jl/src/TruncagemDeDados.jl:98",
      " [21] trunc_data! (repeats 2 times)",
      "    @ ~/Gihub_temps/SolarPowerForecastingIFMG.jl/src/TruncagemDeDados.jl:59 [inlined]",
      " [22] top-level scope",
      "    @ In[6]:1",
      " [23] eval",
      "    @ ./boot.jl:368 [inlined]",
      " [24] include_string(mapexpr::typeof(REPL.softscope), mod::Module, code::String, filename::String)",
      "    @ Base ./loading.jl:1428"
     ]
    }
   ],
   "source": [
    "trunc_data!(dados.serie[1].dataset);\n",
    "#typeof(dados.serie[1].dataset[!,:DATE])"
   ]
  },
  {
   "cell_type": "code",
   "execution_count": null,
   "id": "92d6255a",
   "metadata": {},
   "outputs": [],
   "source": [
    "dados.serie[1].dataset[!,[:DATE == \"2021/01/01\"]]"
   ]
  },
  {
   "cell_type": "code",
   "execution_count": null,
   "id": "amazing-meaning",
   "metadata": {},
   "outputs": [],
   "source": [
    "unique(select(dados.serie[1].dataset, :ADSOLPW))"
   ]
  },
  {
   "cell_type": "code",
   "execution_count": null,
   "id": "productive-myanmar",
   "metadata": {},
   "outputs": [],
   "source": [
    "first(dados.serie[1].dataset, 50)"
   ]
  },
  {
   "cell_type": "code",
   "execution_count": null,
   "id": "armed-ottawa",
   "metadata": {},
   "outputs": [],
   "source": [
    "dados.serie[1].dataset[:,:ADSOLPW] = collect(Missings.replace(dados.serie[1].dataset[:,:ADSOLPW], 0))"
   ]
  },
  {
   "cell_type": "code",
   "execution_count": null,
   "id": "5bcb8c88",
   "metadata": {},
   "outputs": [],
   "source": [
    "replace!(dados.serie[1].dataset[:,:ADRAIN], missing => 0.)"
   ]
  },
  {
   "cell_type": "code",
   "execution_count": null,
   "id": "plastic-wales",
   "metadata": {},
   "outputs": [],
   "source": [
    "columns = Dict(1 => :DATE, 3 => :ADRAIN, 7 => :ADSOLPW, 10 => :DTMAX_C, 11 => :DTMIN_C)"
   ]
  },
  {
   "cell_type": "code",
   "execution_count": null,
   "id": "3c8467b5",
   "metadata": {},
   "outputs": [],
   "source": [
    "dados.serie[1].dataset"
   ]
  },
  {
   "cell_type": "code",
   "execution_count": null,
   "id": "black-jerusalem",
   "metadata": {},
   "outputs": [],
   "source": [
    "values(columns)"
   ]
  },
  {
   "cell_type": "code",
   "execution_count": null,
   "id": "better-pharmacy",
   "metadata": {},
   "outputs": [],
   "source": [
    "values(columns_change)"
   ]
  },
  {
   "cell_type": "code",
   "execution_count": null,
   "id": "public-portrait",
   "metadata": {},
   "outputs": [],
   "source": []
  },
  {
   "cell_type": "code",
   "execution_count": null,
   "id": "precious-cleaners",
   "metadata": {},
   "outputs": [],
   "source": []
  }
 ],
 "metadata": {
  "kernelspec": {
   "display_name": "Julia 1.8.2",
   "language": "julia",
   "name": "julia-1.8"
  },
  "language_info": {
   "file_extension": ".jl",
   "mimetype": "application/julia",
   "name": "julia",
   "version": "1.8.2"
  }
 },
 "nbformat": 4,
 "nbformat_minor": 5
}
