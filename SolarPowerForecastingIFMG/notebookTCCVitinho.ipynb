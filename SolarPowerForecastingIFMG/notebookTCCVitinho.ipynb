{
 "cells": [
  {
   "cell_type": "markdown",
   "metadata": {
    "nteract": {
     "transient": {
      "deleting": false
     }
    }
   },
   "source": [
    "# TCC - Victor Gonçalves\n",
    "## Instruções de uso do código\n",
    "Autor: Prof. Dr. Reginaldo Gonçalves Leão Junior\n",
    "\n",
    "### Descrição da Proposta e Ferramentas\n",
    "A corrente proposta do trabalho consiste no uso de uma rede neural recorrente (RNN) com camadas do tipo *long short-term memory* para predição da potência solar na microrregião de Formiga ou na Mesorregião Oeste de Minas Gerais. Os dados de treinamento do modelo devem ser obtidos de *datasets* gratuítos disponibilizados na web e os dados climáticos da região obtidos do INMET.(https://portal.inmet.gov.br/dadoshistoricos).\n",
    "\n",
    "Por motivos de desempenho, o modelo será desenvolvido na linguagem Julia (+1.7 - https://julialang.org/downloads/) utilizando a biblioteca Flux.jl (https://fluxml.ai/Flux.jl/stable/) para a implementação das soluções baseadas em ML. Todas as funcionalidades estão contidas em um módulo denominado `SolarPowerForecastingIFMG` desenvolvido no contexto deste trabalho de conclusão de curso.\n",
    "\n",
    "A rotina de uso do modelo deve seguir a seguinte rotina, obviamente, flexibilizações podem ser introduzidas quando necessário, ou mesmo novas rotinas podem ser criadas.\n",
    "\n",
    "### Verificação do status INMET\n",
    "\n",
    "Consiste na chamada à função `statusINMET()` que verifica a disponibilidade de séries anuais climatológicas no recurso `/dadoshistoricos` do portal, exibe um compilado deste estatus no terminal e retorna um dicionário com a estrutura:\n",
    "\n",
    "```\n",
    "Dict{Int16, String} with n entries:\n",
    "  \"20XX\" => \"https://portal.inmet.gov.br/uploads/dadoshistoricos/20XX.zip\"\n",
    "```\n",
    "\n",
    "no qual as chaves são os anos disponíveis na base no formato de um inteiro de 32 bits e os valores uma String contendo o link para download do zip file das séries para o respectivo ano."
   ]
  },
  {
   "cell_type": "markdown",
   "metadata": {
    "nteract": {
     "transient": {
      "deleting": false
     }
    }
   },
   "source": [
    "Antes de qualquer verificação, deve-se fazer a instalação do pacote em desenvolvimento, ou verificação por atualizações.\n",
    "Sendo o primeiro uso do pacote em uma determinada instalção deve-se executar as instruções do comentário `i)`, nas demais, atualizações devem ser checadas por meio das instruções do comentário `ii)`. A instrução `using Pkg` é apenas uma chamada ao módulo `Pkg` responsável pela gerência dos pacotes."
   ]
  },
  {
   "cell_type": "code",
   "execution_count": 3,
   "metadata": {
    "execution": {
     "iopub.execute_input": "2022-01-14T17:59:10.305Z",
     "iopub.status.busy": "2022-01-14T17:59:10.298Z",
     "iopub.status.idle": "2022-01-14T17:59:10.316Z",
     "shell.execute_reply": "2022-01-14T17:49:21.140Z"
    },
    "jupyter": {
     "outputs_hidden": true,
     "source_hidden": false
    },
    "nteract": {
     "transient": {
      "deleting": false
     }
    }
   },
   "outputs": [
    {
     "name": "stderr",
     "output_type": "stream",
     "text": [
      "\u001b[32m\u001b[1m    Updating\u001b[22m\u001b[39m registry at `~/.julia/registries/General`\n",
      "\u001b[32m\u001b[1m    Updating\u001b[22m\u001b[39m git-repo `https://github.com/JuliaRegistries/General.git`\n",
      "\u001b[32m\u001b[1m  No Changes\u001b[22m\u001b[39m to `~/.julia/environments/v1.7/Project.toml`\n",
      "\u001b[32m\u001b[1m  No Changes\u001b[22m\u001b[39m to `~/.julia/environments/v1.7/Manifest.toml`\n",
      "\u001b[32m\u001b[1mPrecompiling\u001b[22m\u001b[39m project...\n",
      "\u001b[33m  ✓ \u001b[39mSolarPowerForecastingIFMG\n",
      "  1 dependency successfully precompiled in 11 seconds (427 already precompiled)\n",
      "  \u001b[33m1\u001b[39m dependency precompiled but a different version is currently loaded. Restart julia to access the new version\n"
     ]
    }
   ],
   "source": [
    "using Pkg\n",
    "#=i) Na primeira execução do pacote\n",
    "Pkg.develop(\"SolarPowerForecastingIFMG\")\n",
    "=#\n",
    "\n",
    "# #= ii) A cada nova adição de funcionalidade\n",
    "Pkg.update(\"SolarPowerForecastingIFMG\")\n",
    "# =#"
   ]
  },
  {
   "cell_type": "markdown",
   "metadata": {
    "jupyter": {
     "outputs_hidden": true,
     "source_hidden": false
    },
    "nteract": {
     "transient": {
      "deleting": false
     }
    }
   },
   "source": [
    "Após a instalação ou atualização o pacote deve ser carregado no *kernel* em execução, em seguida a verificação do status no INMET pode ser imediatamente realizada."
   ]
  },
  {
   "cell_type": "code",
   "execution_count": 5,
   "metadata": {
    "nteract": {
     "transient": {
      "deleting": false
     }
    },
    "tags": []
   },
   "outputs": [
    {
     "name": "stdout",
     "output_type": "stream",
     "text": [
      "\u001b[0m\u001b[1mEstrato de dados INMET\u001b[22m\n",
      "\u001b[0mPrimeiro ano disponível\t->\t\u001b[94m\u001b[1m2000\u001b[22m\u001b[39m\n",
      "\u001b[0mÚltimo ano disponível\t->\t\u001b[94m\u001b[1m2022\u001b[22m\u001b[39m\n"
     ]
    }
   ],
   "source": [
    "using SolarPowerForecastingIFMG: statusINMET, obter_dados\n",
    "fonte_dados = statusINMET();"
   ]
  },
  {
   "cell_type": "markdown",
   "metadata": {},
   "source": [
    "Após a execução a variável `fonte_dados` é um dicionário que contém os links para a obtenção das tabelas CSV de cada ano."
   ]
  },
  {
   "cell_type": "code",
   "execution_count": 6,
   "metadata": {},
   "outputs": [
    {
     "name": "stdout",
     "output_type": "stream",
     "text": [
      "fonte_dados[2000] = \"https://portal.inmet.gov.br/uploads/dadoshistoricos/2000.zip\"\n",
      "fonte_dados[2010] = \"https://portal.inmet.gov.br/uploads/dadoshistoricos/2010.zip\"\n",
      "fonte_dados[2022] = \"https://portal.inmet.gov.br/uploads/dadoshistoricos/2022.zip\"\n"
     ]
    }
   ],
   "source": [
    "@show fonte_dados[2000];\n",
    "@show fonte_dados[2010];\n",
    "@show fonte_dados[2022];"
   ]
  },
  {
   "cell_type": "markdown",
   "metadata": {},
   "source": [
    "### Raspagem de Dados\n",
    "A extração de dados em si se dá por meio da função `obter_dados` cuja documentação pode ser vista àbaixo:"
   ]
  },
  {
   "cell_type": "code",
   "execution_count": 7,
   "metadata": {},
   "outputs": [
    {
     "name": "stdout",
     "output_type": "stream",
     "text": [
      "search:\n",
      "\n"
     ]
    },
    {
     "data": {
      "text/latex": [
       "Recebe um dicionário com chaves do tipo Int16, contendo o ano de uma determinada  série histórica do INMET e uma String com o link de download da série no  servidor dois vetores, uma lista das cidades a serem estudadas e outra com a  lista dos anos a serem estudados ou um UnitRang com este intervalo de estudo.\n",
       "\n"
      ],
      "text/markdown": [
       "Recebe um dicionário com chaves do tipo Int16, contendo o ano de uma determinada  série histórica do INMET e uma String com o link de download da série no  servidor dois vetores, uma lista das cidades a serem estudadas e outra com a  lista dos anos a serem estudados ou um UnitRang com este intervalo de estudo.\n"
      ],
      "text/plain": [
       "  Recebe um dicionário com chaves do tipo Int16, contendo o ano de uma\n",
       "  determinada série histórica do INMET e uma String com o link de download da\n",
       "  série no servidor dois vetores, uma lista das cidades a serem estudadas e\n",
       "  outra com a lista dos anos a serem estudados ou um UnitRang com este\n",
       "  intervalo de estudo."
      ]
     },
     "execution_count": 7,
     "metadata": {},
     "output_type": "execute_result"
    }
   ],
   "source": [
    "?obter_dados"
   ]
  },
  {
   "cell_type": "code",
   "execution_count": 9,
   "metadata": {},
   "outputs": [
    {
     "name": "stdout",
     "output_type": "stream",
     "text": [
      "Baixando arquivos para o ano 2016 : 96.70      \r"
     ]
    },
    {
     "name": "stderr",
     "output_type": "stream",
     "text": [
      "Excessive output truncated after 524372 bytes."
     ]
    },
    {
     "name": "stdout",
     "output_type": "stream",
     "text": [
      "Baixando arquivos para o ano 2016 : 96.70  \r",
      "Baixando arquivos para o ano 2016 : 96.70  \r",
      "Baixando arquivos para o ano 2016 : 96.70  \r",
      "Baixando arquivos para o ano 2016 : 96.70  \r",
      "Baixando arquivos para o ano 2016 : 96.71  \r",
      "Baixando arquivos para o ano 2016 : 96.71  \r",
      "Baixando arquivos para o ano 2016 : 96.71  \r",
      "Baixando arquivos para o ano 2016 : 96.71  \r",
      "Baixando arquivos para o ano 2016 : 96.71  \r",
      "Baixando arquivos para o ano 2016 : 96.71  \r",
      "Baixando arquivos para o ano 2016 : 96.71  \r",
      "Baixando arquivos para o ano 2016 : 96.71  \r",
      "Baixando arquivos para o ano 2016 : 96.71  \r",
      "Baixando arquivos para o ano 2016 : 96.71  \r",
      "Baixando arquivos para o ano 2016 : 96.71  \r",
      "Baixando arquivos para o ano 2016 : 96.71  \r",
      "Baixando arquivos para o ano 2016 : 96.71  \r",
      "Baixando arquivos para o ano 2016 : 96.71  \r",
      "Baixando arquivos para o ano 2016 : 96.71  \r",
      "Baixando arquivos para o ano 2016 : 96.71  \r",
      "Baixando arquivos para o ano 2016 : 96.71  \r",
      "Baixando arquivos para o ano 2016 : 96.71  \r",
      "Baixando arquivos para o ano 2016 : 96.71  \r",
      "Baixando arquivos para o ano 2016 : 96.71  \r",
      "Baixando arquivos para o ano 2016 : 96.71  \r",
      "Baixando arquivos para o ano 2016 : 96.71  \r",
      "Baixando arquivos para o ano 2016 : 96.72  \r",
      "Baixando arquivos para o ano 2016 : 96.72  \r",
      "Baixando arquivos para o ano 2016 : 96.72  \r",
      "Baixando arquivos para o ano 2016 : 96.72  \r",
      "Baixando arquivos para o ano 2016 : 96.72  \r",
      "Baixando arquivos para o ano 2016 : 96.72  \r",
      "Baixando arquivos para o ano 2016 : 96.72  \r",
      "Baixando arquivos para o ano 2016 : 96.72  \r",
      "Baixando arquivos para o ano 2016 : 96.72  \r",
      "Baixando arquivos para o ano 2016 : 96.72  \r",
      "Baixando arquivos para o ano 2016 : 96.72  \r",
      "Baixando arquivos para o ano 2016 : 96.72  \r",
      "Baixando arquivos para o ano 2016 : 96.72  \r",
      "Baixando arquivos para o ano 2016 : 96.72  \r",
      "Baixando arquivos para o ano 2016 : 96.72  \r",
      "Baixando arquivos para o ano 2016 : 96.72  \r",
      "Baixando arquivos para o ano 2016 : 96.72  \r",
      "Baixando arquivos para o ano 2016 : 96.72  \r",
      "Baixando arquivos para o ano 2016 : 96.72  \r",
      "Baixando arquivos para o ano 2016 : 96.72  \r",
      "Baixando arquivos para o ano 2016 : 96.72  \r",
      "Baixando arquivos para o ano 2016 : 96.72  \r",
      "Baixando arquivos para o ano 2016 : 96.72  \r",
      "Baixando arquivos para o ano 2016 : 96.72  \r",
      "Baixando arquivos para o ano 2016 : 96.73  \r",
      "Baixando arquivos para o ano 2016 : 96.73  \r",
      "Baixando arquivos para o ano 2016 : 96.73  \r",
      "Baixando arquivos para o ano 2016 : 96.73  \r",
      "Baixando arquivos para o ano 2016 : 96.73  \r",
      "Baixando arquivos para o ano 2016 : 96.73  \r",
      "Baixando arquivos para o ano 2016 : 96.73  \r",
      "Baixando arquivos para o ano 2016 : 96.73  \r",
      "Baixando arquivos para o ano 2016 : 96.73  \r",
      "Baixando arquivos para o ano 2016 : 96.73  \r",
      "Baixando arquivos para o ano 2016 : 96.73  \r",
      "Baixando arquivos para o ano 2016 : 96.73  \r",
      "Baixando arquivos para o ano 2016 : 96.73  \r",
      "Baixando arquivos para o ano 2016 : 96.73  \r",
      "Baixando arquivos para o ano 2016 : 96.73  \r",
      "Baixando arquivos para o ano 2016 : 96.73  \r",
      "Baixando arquivos para o ano 2016 : 96.73  \r",
      "Baixando arquivos para o ano 2016 : 96.73  \r",
      "Baixando arquivos para o ano 2016 : 96.73  \r",
      "Baixando arquivos para o ano 2016 : 96.73  \r",
      "Baixando arquivos para o ano 2016 : 96.73  \r",
      "Baixando arquivos para o ano 2016 : 96.73  \r",
      "Baixando arquivos para o ano 2016 : 96.74  \r",
      "Baixando arquivos para o ano 2016 : 96.74  \r",
      "Baixando arquivos para o ano 2016 : 96.74  \r",
      "Baixando arquivos para o ano 2016 : 96.74  \r",
      "Baixando arquivos para o ano 2016 : 96.74  \r",
      "Baixando arquivos para o ano 2016 : 96.74  \r",
      "Baixando arquivos para o ano 2016 : 96.74  \r",
      "Baixando arquivos para o ano 2016 : 96.74  \r",
      "Baixando arquivos para o ano 2016 : 96.74  \r",
      "Baixando arquivos para o ano 2016 : 96.74  \r",
      "Baixando arquivos para o ano 2016 : 96.74  \r",
      "Baixando arquivos para o ano 2016 : 96.74  \r",
      "Baixando arquivos para o ano 2016 : 96.74  \r",
      "Baixando arquivos para o ano 2016 : 96.74  \r",
      "Baixando arquivos para o ano 2016 : 96.74  \r",
      "Baixando arquivos para o ano 2016 : 96.74  \r",
      "Baixando arquivos para o ano 2016 : 96.74  \r",
      "Baixando arquivos para o ano 2016 : 96.74  \r",
      "Baixando arquivos para o ano 2016 : 96.74  \r",
      "Baixando arquivos para o ano 2016 : 96.74  \r",
      "Baixando arquivos para o ano 2016 : 96.74  \r",
      "Baixando arquivos para o ano 2016 : 96.74  \r",
      "Baixando arquivos para o ano 2016 : 96.74  \r",
      "Baixando arquivos para o ano 2016 : 96.74  \r",
      "Baixando arquivos para o ano 2016 : 96.75  \r",
      "Baixando arquivos para o ano 2016 : 96.75  \r",
      "Baixando arquivos para o ano 2016 : 96.75  \r",
      "Baixando arquivos para o ano 2016 : 96.75  \r",
      "Baixando arquivos para o ano 2016 : 96.75  \r",
      "Baixando arquivos para o ano 2016 : 96.75  \r",
      "Baixando arquivos para o ano 2016 : 96.75  \r",
      "Baixando arquivos para o ano 2016 : 96.75  \r",
      "Baixando arquivos para o ano 2016 : 96.75  \r",
      "Baixando arquivos para o ano 2016 : 96.75  \r",
      "Baixando arquivos para o ano 2016 : 96.75  \r",
      "Baixando arquivos para o ano 2016 : 96.75  \r",
      "Baixando arquivos para o ano 2016 : 96.75  \r",
      "Baixando arquivos para o ano 2016 : 96.75  \r",
      "Baixando arquivos para o ano 2016 : 96.75  \r",
      "Baixando arquivos para o ano 2016 : 96.75  \r",
      "Baixando arquivos para o ano 2016 : 96.75  \r",
      "Baixando arquivos para o ano 2016 : 96.75  \r",
      "Baixando arquivos para o ano 2016 : 96.75  \r",
      "Baixando arquivos para o ano 2016 : 96.75  \r",
      "Baixando arquivos para o ano 2016 : 96.75  \r",
      "Baixando arquivos para o ano 2016 : 96.75  \r",
      "Baixando arquivos para o ano 2016 : 96.75  \r",
      "Baixando arquivos para o ano 2016 : 96.75  \r",
      "Baixando arquivos para o ano 2016 : 96.76  \r",
      "Baixando arquivos para o ano 2016 : 96.76  \r",
      "Baixando arquivos para o ano 2016 : 96.76  \r",
      "Baixando arquivos para o ano 2016 : 96.76  \r",
      "Baixando arquivos para o ano 2016 : 96.76  \r",
      "Baixando arquivos para o ano 2016 : 96.76  \r",
      "Baixando arquivos para o ano 2016 : 96.76  \r",
      "Baixando arquivos para o ano 2016 : 96.76  \r",
      "Baixando arquivos para o ano 2016 : 96.76  \r",
      "Baixando arquivos para o ano 2016 : 96.76  \r",
      "Baixando arquivos para o ano 2016 : 96.76  \r",
      "Baixando arquivos para o ano 2016 : 96.76  \r",
      "Baixando arquivos para o ano 2016 : 96.76  \r",
      "Baixando arquivos para o ano 2016 : 96.76  \r",
      "Baixando arquivos para o ano 2016 : 96.76  \r",
      "Baixando arquivos para o ano 2016 : 96.76  \r",
      "Baixando arquivos para o ano 2016 : 96.76  \r",
      "Baixando arquivos para o ano 2016 : 96.76  \r",
      "Baixando arquivos para o ano 2016 : 96.76  \r",
      "Baixando arquivos para o ano 2016 : 96.76  \r",
      "Baixando arquivos para o ano 2016 : 96.76  \r",
      "Baixando arquivos para o ano 2016 : 96.76  \r",
      "Baixando arquivos para o ano 2016 : 96.76  \r",
      "Baixando arquivos para o ano 2016 : 96.76  \r",
      "Baixando arquivos para o ano 2016 : 96.77  \r",
      "Baixando arquivos para o ano 2016 : 96.77  \r",
      "Baixando arquivos para o ano 2016 : 96.77  \r",
      "Baixando arquivos para o ano 2016 : 96.77  \r",
      "Baixando arquivos para o ano 2016 : 96.77  \r",
      "Baixando arquivos para o ano 2016 : 96.77  \r",
      "Baixando arquivos para o ano 2016 : 96.77  \r",
      "Baixando arquivos para o ano 2016 : 96.77  \r",
      "Baixando arquivos para o ano 2016 : 96.77  \r",
      "Baixando arquivos para o ano 2016 : 96.77  \r",
      "Baixando arquivos para o ano 2016 : 96.77  \r",
      "Baixando arquivos para o ano 2016 : 96.77  \r",
      "Baixando arquivos para o ano 2016 : 96.77  \r",
      "Baixando arquivos para o ano 2016 : 96.77  \r"
     ]
    },
    {
     "ename": "LoadError",
     "evalue": "Parâmetros inválidos! ",
     "output_type": "error",
     "traceback": [
      "Parâmetros inválidos! ",
      "",
      "Stacktrace:",
      " [1] error(s::String)",
      "   @ Base ./error.jl:33",
      " [2] obter_dados(fonte_dados::Dict{Int16, String}, cidades::Vector{String}, intervtemp::Vector{Int64})",
      "   @ SolarPowerForecastingIFMG ~/Insync/Trabalho/IFMG/IFMG_ARCOS/TCCs/TCCVitinho/LINUX/solarpowerforecasting-RNN-LSTM/SolarPowerForecastingIFMG/src/RaspagemDeDadosINMET.jl:159",
      " [3] top-level scope",
      "   @ In[9]:1",
      " [4] eval",
      "   @ ./boot.jl:373 [inlined]",
      " [5] include_string(mapexpr::typeof(REPL.softscope), mod::Module, code::String, filename::String)",
      "   @ Base ./loading.jl:1196"
     ]
    }
   ],
   "source": [
    "dados = obter_dados(fonte_dados, [\"BELO HORIZONTE\"], [2016])"
   ]
  },
  {
   "cell_type": "code",
   "execution_count": null,
   "metadata": {},
   "outputs": [],
   "source": []
  }
 ],
 "metadata": {
  "kernel_info": {
   "name": "python3"
  },
  "kernelspec": {
   "display_name": "Julia nodeps 1.7.3",
   "language": "julia",
   "name": "julia-nodeps-1.7"
  },
  "language_info": {
   "file_extension": ".jl",
   "mimetype": "application/julia",
   "name": "julia",
   "version": "1.7.3"
  },
  "nteract": {
   "version": "0.28.0"
  }
 },
 "nbformat": 4,
 "nbformat_minor": 4
}
